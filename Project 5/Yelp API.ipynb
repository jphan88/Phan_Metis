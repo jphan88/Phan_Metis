{
 "cells": [
  {
   "cell_type": "code",
   "execution_count": 1,
   "metadata": {
    "collapsed": true
   },
   "outputs": [],
   "source": [
    "from yelpapi import YelpAPI\n",
    "import argparse\n",
    "from pprint import pprint"
   ]
  },
  {
   "cell_type": "code",
   "execution_count": 9,
   "metadata": {
    "collapsed": true
   },
   "outputs": [],
   "source": [
    "argparser = argparse.ArgumentParser(description='Example Yelp queries using yelpapi. '\n",
    "                                                'Visit https://www.yelp.com/developers/v3/manage_app to get the '\n",
    "                                                'necessary API keys.')"
   ]
  },
  {
   "cell_type": "code",
   "execution_count": 10,
   "metadata": {},
   "outputs": [
    {
     "data": {
      "text/plain": [
       "_StoreAction(option_strings=[], dest='api_key', nargs=None, const=None, default=None, type=<class 'str'>, choices=None, help='Yelp Fusion API Key', metavar=None)"
      ]
     },
     "execution_count": 10,
     "metadata": {},
     "output_type": "execute_result"
    }
   ],
   "source": [
    "argparser.add_argument('api_key', type=str, help='Yelp Fusion API Key')"
   ]
  },
  {
   "cell_type": "code",
   "execution_count": 11,
   "metadata": {},
   "outputs": [
    {
     "name": "stderr",
     "output_type": "stream",
     "text": [
      "usage: ipykernel_launcher.py [-h] api_key\n",
      "ipykernel_launcher.py: error: unrecognized arguments: -f\n"
     ]
    },
    {
     "ename": "SystemExit",
     "evalue": "2",
     "output_type": "error",
     "traceback": [
      "An exception has occurred, use %tb to see the full traceback.\n",
      "\u001b[0;31mSystemExit\u001b[0m\u001b[0;31m:\u001b[0m 2\n"
     ]
    },
    {
     "name": "stderr",
     "output_type": "stream",
     "text": [
      "/Users/jennifer/anaconda3/lib/python3.6/site-packages/IPython/core/interactiveshell.py:2870: UserWarning: To exit: use 'exit', 'quit', or Ctrl-D.\n",
      "  warn(\"To exit: use 'exit', 'quit', or Ctrl-D.\", stacklevel=1)\n"
     ]
    }
   ],
   "source": [
    "args = argparser.parse_args()\n"
   ]
  },
  {
   "cell_type": "code",
   "execution_count": 7,
   "metadata": {},
   "outputs": [],
   "source": [
    "yelp_api = YelpAPI(\"utTtP-d_45MfvjE-tswwko4dOqHRXPGdFUTWwbSWrWhaLxr7wYI9bQ-pkk7d0N_JegA-rlKmmkV0Z7YXlVGvfVqrgBEwL6uzEyIvc95oNKAtMXP2KdXrT73ypR6wWnYx\")"
   ]
  },
  {
   "cell_type": "code",
   "execution_count": 12,
   "metadata": {},
   "outputs": [
    {
     "name": "stdout",
     "output_type": "stream",
     "text": [
      "{'businesses': [{'categories': [{'alias': 'gelato', 'title': 'Gelato'},\n",
      "                                {'alias': 'icecream',\n",
      "                                 'title': 'Ice Cream & Frozen Yogurt'},\n",
      "                                {'alias': 'coffee', 'title': 'Coffee & Tea'}],\n",
      "                 'coordinates': {'latitude': 30.247625,\n",
      "                                 'longitude': -97.755404},\n",
      "                 'display_phone': '(512) 804-5568',\n",
      "                 'distance': 6401.051305444714,\n",
      "                 'id': 'dolce-neve-austin',\n",
      "                 'image_url': 'https://s3-media2.fl.yelpcdn.com/bphoto/1DgEa_pgroGWjQeZasXo-Q/o.jpg',\n",
      "                 'is_closed': False,\n",
      "                 'location': {'address1': '1713 S 1st St',\n",
      "                              'address2': '',\n",
      "                              'address3': '',\n",
      "                              'city': 'Austin',\n",
      "                              'country': 'US',\n",
      "                              'display_address': ['1713 S 1st St',\n",
      "                                                  'Austin, TX 78704'],\n",
      "                              'state': 'TX',\n",
      "                              'zip_code': '78704'},\n",
      "                 'name': 'Dolce Neve',\n",
      "                 'phone': '+15128045568',\n",
      "                 'price': '$',\n",
      "                 'rating': 4.5,\n",
      "                 'review_count': 507,\n",
      "                 'transactions': [],\n",
      "                 'url': 'https://www.yelp.com/biz/dolce-neve-austin?adjust_creative=fTh38HqWodZ1shcZeQxa9Q&utm_campaign=yelp_api_v3&utm_medium=api_v3_business_search&utm_source=fTh38HqWodZ1shcZeQxa9Q'},\n",
      "                {'categories': [{'alias': 'icecream',\n",
      "                                 'title': 'Ice Cream & Frozen Yogurt'},\n",
      "                                {'alias': 'gelato', 'title': 'Gelato'},\n",
      "                                {'alias': 'coffee', 'title': 'Coffee & Tea'}],\n",
      "                 'coordinates': {'latitude': 30.25045,\n",
      "                                 'longitude': -97.7544999},\n",
      "                 'display_phone': '(512) 535-3617',\n",
      "                 'distance': 6093.267375574961,\n",
      "                 'id': 'the-tasty-spoon-austin-2',\n",
      "                 'image_url': 'https://s3-media4.fl.yelpcdn.com/bphoto/dIhKhVRiCM1Ic2V0EemtRQ/o.jpg',\n",
      "                 'is_closed': False,\n",
      "                 'location': {'address1': '1413 S 1st St',\n",
      "                              'address2': '',\n",
      "                              'address3': None,\n",
      "                              'city': 'Austin',\n",
      "                              'country': 'US',\n",
      "                              'display_address': ['1413 S 1st St',\n",
      "                                                  'Austin, TX 78704'],\n",
      "                              'state': 'TX',\n",
      "                              'zip_code': '78704'},\n",
      "                 'name': 'The Tasty Spoon',\n",
      "                 'phone': '+15125353617',\n",
      "                 'price': '$',\n",
      "                 'rating': 4.5,\n",
      "                 'review_count': 73,\n",
      "                 'transactions': [],\n",
      "                 'url': 'https://www.yelp.com/biz/the-tasty-spoon-austin-2?adjust_creative=fTh38HqWodZ1shcZeQxa9Q&utm_campaign=yelp_api_v3&utm_medium=api_v3_business_search&utm_source=fTh38HqWodZ1shcZeQxa9Q'},\n",
      "                {'categories': [{'alias': 'vegan', 'title': 'Vegan'},\n",
      "                                {'alias': 'icecream',\n",
      "                                 'title': 'Ice Cream & Frozen Yogurt'}],\n",
      "                 'coordinates': {'latitude': 30.30608, 'longitude': -97.71523},\n",
      "                 'display_phone': '(512) 666-8346',\n",
      "                 'distance': 4094.337397898758,\n",
      "                 'id': 'sweet-ritual-austin',\n",
      "                 'image_url': 'https://s3-media4.fl.yelpcdn.com/bphoto/1e-85kN1qa5w0KAveGDUBw/o.jpg',\n",
      "                 'is_closed': False,\n",
      "                 'location': {'address1': '4631 Airport Blvd',\n",
      "                              'address2': 'Ste 125',\n",
      "                              'address3': '',\n",
      "                              'city': 'Austin',\n",
      "                              'country': 'US',\n",
      "                              'display_address': ['4631 Airport Blvd',\n",
      "                                                  'Ste 125',\n",
      "                                                  'Austin, TX 78751'],\n",
      "                              'state': 'TX',\n",
      "                              'zip_code': '78751'},\n",
      "                 'name': 'Sweet Ritual',\n",
      "                 'phone': '+15126668346',\n",
      "                 'price': '$',\n",
      "                 'rating': 4.5,\n",
      "                 'review_count': 435,\n",
      "                 'transactions': [],\n",
      "                 'url': 'https://www.yelp.com/biz/sweet-ritual-austin?adjust_creative=fTh38HqWodZ1shcZeQxa9Q&utm_campaign=yelp_api_v3&utm_medium=api_v3_business_search&utm_source=fTh38HqWodZ1shcZeQxa9Q'},\n",
      "                {'categories': [{'alias': 'coffee', 'title': 'Coffee & Tea'},\n",
      "                                {'alias': 'icecream',\n",
      "                                 'title': 'Ice Cream & Frozen Yogurt'}],\n",
      "                 'coordinates': {'latitude': 30.5183617420555,\n",
      "                                 'longitude': -97.7906447595262},\n",
      "                 'display_phone': '(512) 387-5383',\n",
      "                 'distance': 23916.645362532938,\n",
      "                 'id': 'scoop-and-score-cedar-park-4',\n",
      "                 'image_url': 'https://s3-media1.fl.yelpcdn.com/bphoto/cbKYHyRn7FpveylAPX7VgA/o.jpg',\n",
      "                 'is_closed': False,\n",
      "                 'location': {'address1': '111 N Vista Ridge Blvd',\n",
      "                              'address2': 'Ste 202',\n",
      "                              'address3': '',\n",
      "                              'city': 'Cedar Park',\n",
      "                              'country': 'US',\n",
      "                              'display_address': ['111 N Vista Ridge Blvd',\n",
      "                                                  'Ste 202',\n",
      "                                                  'Cedar Park, TX 78613'],\n",
      "                              'state': 'TX',\n",
      "                              'zip_code': '78613'},\n",
      "                 'name': 'Scoop & Score',\n",
      "                 'phone': '+15123875383',\n",
      "                 'price': '$',\n",
      "                 'rating': 5.0,\n",
      "                 'review_count': 90,\n",
      "                 'transactions': ['delivery', 'pickup'],\n",
      "                 'url': 'https://www.yelp.com/biz/scoop-and-score-cedar-park-4?adjust_creative=fTh38HqWodZ1shcZeQxa9Q&utm_campaign=yelp_api_v3&utm_medium=api_v3_business_search&utm_source=fTh38HqWodZ1shcZeQxa9Q'},\n",
      "                {'categories': [{'alias': 'desserts', 'title': 'Desserts'},\n",
      "                                {'alias': 'foodtrucks',\n",
      "                                 'title': 'Food Trucks'}],\n",
      "                 'coordinates': {'latitude': 30.24602, 'longitude': -97.75695},\n",
      "                 'display_phone': '(512) 905-5267',\n",
      "                 'distance': 6573.989627585103,\n",
      "                 'id': 'churro-co-austin-6',\n",
      "                 'image_url': 'https://s3-media1.fl.yelpcdn.com/bphoto/vaN49zFjUuHUXd4EUbB-bA/o.jpg',\n",
      "                 'is_closed': False,\n",
      "                 'location': {'address1': '1906 South 1st St',\n",
      "                              'address2': None,\n",
      "                              'address3': '',\n",
      "                              'city': 'Austin',\n",
      "                              'country': 'US',\n",
      "                              'display_address': ['1906 South 1st St',\n",
      "                                                  'Austin, TX 78704'],\n",
      "                              'state': 'TX',\n",
      "                              'zip_code': '78704'},\n",
      "                 'name': 'Churro Co',\n",
      "                 'phone': '+15129055267',\n",
      "                 'price': '$',\n",
      "                 'rating': 4.5,\n",
      "                 'review_count': 221,\n",
      "                 'transactions': [],\n",
      "                 'url': 'https://www.yelp.com/biz/churro-co-austin-6?adjust_creative=fTh38HqWodZ1shcZeQxa9Q&utm_campaign=yelp_api_v3&utm_medium=api_v3_business_search&utm_source=fTh38HqWodZ1shcZeQxa9Q'}],\n",
      " 'region': {'center': {'latitude': 30.305156316, 'longitude': -97.7577209473}},\n",
      " 'total': 1300}\n"
     ]
    }
   ],
   "source": [
    "response = yelp_api.search_query(term='ice cream', location='austin, tx', sort_by='rating', limit=5)\n",
    "pprint(response)"
   ]
  },
  {
   "cell_type": "code",
   "execution_count": 13,
   "metadata": {
    "collapsed": true
   },
   "outputs": [],
   "source": [
    "response = yelp_api.reviews_query(id='amys-ice-creams-austin-3')"
   ]
  },
  {
   "cell_type": "code",
   "execution_count": 14,
   "metadata": {},
   "outputs": [
    {
     "name": "stdout",
     "output_type": "stream",
     "text": [
      "{'possible_languages': ['en'],\n",
      " 'reviews': [{'id': 'OOqgYLORqzDAdq1g27CBgw',\n",
      "              'rating': 5,\n",
      "              'text': 'Checked this place out on a whim on my birthday during '\n",
      "                      'a sudden desire for the creamed ice and these guys were '\n",
      "                      'phenomenal, and my ice cream was even better....',\n",
      "              'time_created': '2018-03-10 15:53:11',\n",
      "              'url': 'https://www.yelp.com/biz/amys-ice-creams-austin-3?hrid=OOqgYLORqzDAdq1g27CBgw&adjust_creative=fTh38HqWodZ1shcZeQxa9Q&utm_campaign=yelp_api_v3&utm_medium=api_v3_business_reviews&utm_source=fTh38HqWodZ1shcZeQxa9Q',\n",
      "              'user': {'image_url': 'https://s3-media2.fl.yelpcdn.com/photo/nq-zFi8ExaqFlARtK3O6MQ/o.jpg',\n",
      "                       'name': 'James L.'}},\n",
      "             {'id': '0fT6LIVvdqUEkNax2uz26A',\n",
      "              'rating': 4,\n",
      "              'text': 'A perfect blend of gourmet ice cream and cold stone '\n",
      "                      \"styled crush'Ns. \\n\"\n",
      "                      '\\n'\n",
      "                      'With so many interesting flavors it was quite difficult '\n",
      "                      'to choose but they were super...',\n",
      "              'time_created': '2018-01-26 20:20:48',\n",
      "              'url': 'https://www.yelp.com/biz/amys-ice-creams-austin-3?hrid=0fT6LIVvdqUEkNax2uz26A&adjust_creative=fTh38HqWodZ1shcZeQxa9Q&utm_campaign=yelp_api_v3&utm_medium=api_v3_business_reviews&utm_source=fTh38HqWodZ1shcZeQxa9Q',\n",
      "              'user': {'image_url': 'https://s3-media2.fl.yelpcdn.com/photo/fD6z5TEKY1aIcaqRt_IBnQ/o.jpg',\n",
      "                       'name': 'Wiggin L.'}},\n",
      "             {'id': 'r_XeYihFKS2f6s26qnWnnQ',\n",
      "              'rating': 5,\n",
      "              'text': 'In town visiting the area. Had to stop by this '\n",
      "                      'phenomenal ice cream spot! The staff makes the '\n",
      "                      'experience super awesome...the ice cream makes the '\n",
      "                      'experience...',\n",
      "              'time_created': '2018-01-18 07:11:52',\n",
      "              'url': 'https://www.yelp.com/biz/amys-ice-creams-austin-3?hrid=r_XeYihFKS2f6s26qnWnnQ&adjust_creative=fTh38HqWodZ1shcZeQxa9Q&utm_campaign=yelp_api_v3&utm_medium=api_v3_business_reviews&utm_source=fTh38HqWodZ1shcZeQxa9Q',\n",
      "              'user': {'image_url': 'https://s3-media3.fl.yelpcdn.com/photo/qCZRWY9Tp8VNK3kmu4eUUw/o.jpg',\n",
      "                       'name': 'Bryan S.'}}],\n",
      " 'total': 324}\n"
     ]
    }
   ],
   "source": [
    "pprint(response)"
   ]
  },
  {
   "cell_type": "code",
   "execution_count": null,
   "metadata": {
    "collapsed": true
   },
   "outputs": [],
   "source": []
  }
 ],
 "metadata": {
  "kernelspec": {
   "display_name": "Python 3",
   "language": "python",
   "name": "python3"
  },
  "language_info": {
   "codemirror_mode": {
    "name": "ipython",
    "version": 3
   },
   "file_extension": ".py",
   "mimetype": "text/x-python",
   "name": "python",
   "nbconvert_exporter": "python",
   "pygments_lexer": "ipython3",
   "version": "3.6.3"
  }
 },
 "nbformat": 4,
 "nbformat_minor": 2
}
