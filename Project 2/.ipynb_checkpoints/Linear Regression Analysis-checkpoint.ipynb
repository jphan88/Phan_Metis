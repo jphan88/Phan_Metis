{
 "cells": [
  {
   "cell_type": "markdown",
   "metadata": {},
   "source": [
    "### Import all packages"
   ]
  },
  {
   "cell_type": "code",
   "execution_count": 26,
   "metadata": {},
   "outputs": [],
   "source": [
    "import pickle\n",
    "import pandas as pd\n",
    "import seaborn as sns\n",
    "import matplotlib.pyplot as plt\n",
    "import numpy as np\n",
    "import statsmodels.api as sm\n",
    "from sklearn.cross_validation import train_test_split\n",
    "from sklearn import feature_selection as f_select\n",
    "import patsy\n",
    "from sklearn.linear_model import RidgeCV\n",
    "from sklearn.linear_model import Lasso\n",
    "from sklearn import preprocessing\n",
    "from sklearn.linear_model import ElasticNet\n",
    "from sklearn.linear_model import Ridge\n",
    "from scipy.stats import probplot\n",
    "from sklearn.linear_model import LinearRegression\n",
    "import warnings\n",
    "warnings.filterwarnings(\"ignore\")\n",
    "from sklearn.linear_model import RidgeCV\n",
    "from sklearn.pipeline import make_pipeline\n",
    "from sklearn.preprocessing import PolynomialFeatures\n",
    "from sklearn.cross_validation import KFold\n",
    "\n",
    "# sns.set(style=\"darkgrid\")\n",
    "# sns.set_color_codes(\"muted\")\n",
    "%matplotlib inline"
   ]
  },
  {
   "cell_type": "markdown",
   "metadata": {},
   "source": [
    "### Read and clean the dataset"
   ]
  },
  {
   "cell_type": "code",
   "execution_count": 27,
   "metadata": {
    "collapsed": true
   },
   "outputs": [],
   "source": [
    "#Import pickled UFC dataset\n",
    "with open ('ufc_dataset.pkl','rb') as picklefile:\n",
    "    dataset = pickle.load(picklefile)"
   ]
  },
  {
   "cell_type": "code",
   "execution_count": 28,
   "metadata": {
    "collapsed": true
   },
   "outputs": [],
   "source": [
    "#Only interested in ppv data that is not null\n",
    "dataset2 = dataset[dataset.ppv.notnull()]"
   ]
  },
  {
   "cell_type": "code",
   "execution_count": 29,
   "metadata": {
    "collapsed": true
   },
   "outputs": [],
   "source": [
    "#Create the Fight Number to be able to sort it in acsending order\n",
    "dataset2['fightnum'] = [int(fight.split(' ')[1]) for fight in dataset2['fight']]\n",
    "dataset2 = dataset2.sort_values(['fightnum'], ascending=True)"
   ]
  },
  {
   "cell_type": "code",
   "execution_count": 30,
   "metadata": {
    "collapsed": true
   },
   "outputs": [],
   "source": [
    "#Ticketrev, attend, and tv rate have some NaN values, I will use the mean to fill them in \n",
    "dataset2.fillna(dataset2.mean(),inplace=True)\n",
    "# rename superstar column into tech_star\n",
    "dataset2['tech_star'] = dataset2['superstar']\n",
    "\n",
    "dataset2 = dataset2.drop(['superstar'],1)\n"
   ]
  },
  {
   "cell_type": "code",
   "execution_count": 31,
   "metadata": {
    "collapsed": true
   },
   "outputs": [],
   "source": [
    "#Rename megastar as fan favorite\n",
    "dataset2['fan_fav'] = dataset2['megastar']\n",
    "dataset2 = dataset2.drop(['megastar'],1)"
   ]
  },
  {
   "cell_type": "code",
   "execution_count": 9,
   "metadata": {},
   "outputs": [
    {
     "data": {
      "text/plain": [
       "Index(['fight', 'bouts', 'attend', 'ticketrev', 'ppv', 'tvrate', 'strikes',\n",
       "       'takedowns', 'submission', 'passes', 'lightfights', 'heavyfights',\n",
       "       'women', 'men', 'belts', 'KO', 'DEC', 'SUB', 'Other', 'rematch',\n",
       "       'rival', 'rounds', 'tottime', 'fightnum', 'tech_star', 'fan_fav'],\n",
       "      dtype='object')"
      ]
     },
     "execution_count": 9,
     "metadata": {},
     "output_type": "execute_result"
    }
   ],
   "source": [
    "dataset2.columns"
   ]
  },
  {
   "cell_type": "code",
   "execution_count": 10,
   "metadata": {
    "collapsed": true
   },
   "outputs": [],
   "source": [
    "#Reset the index after resorting the dataframe\n",
    "\n",
    "dataset2 = dataset2.reset_index(drop=True)"
   ]
  },
  {
   "cell_type": "code",
   "execution_count": 21,
   "metadata": {},
   "outputs": [
    {
     "name": "stdout",
     "output_type": "stream",
     "text": [
      "<class 'pandas.core.frame.DataFrame'>\n",
      "RangeIndex: 114 entries, 0 to 113\n",
      "Data columns (total 27 columns):\n",
      "fight          114 non-null object\n",
      "bouts          114 non-null int64\n",
      "attend         114 non-null float64\n",
      "ticketrev      114 non-null float64\n",
      "ppv            114 non-null int64\n",
      "tvrate         114 non-null float64\n",
      "strikes        114 non-null int64\n",
      "takedowns      114 non-null int64\n",
      "submission     114 non-null int64\n",
      "passes         114 non-null int64\n",
      "lightfights    114 non-null int64\n",
      "heavyfights    114 non-null int64\n",
      "women          114 non-null int64\n",
      "men            114 non-null int64\n",
      "belts          114 non-null int64\n",
      "KO             114 non-null int64\n",
      "DEC            114 non-null int64\n",
      "SUB            114 non-null int64\n",
      "Other          114 non-null int64\n",
      "rematch        114 non-null int64\n",
      "rival          114 non-null int64\n",
      "rounds         114 non-null int64\n",
      "tottime        114 non-null int64\n",
      "fightnum       114 non-null int64\n",
      "tech_star      114 non-null int64\n",
      "fan_fav        114 non-null int64\n",
      "log_ppv        114 non-null float64\n",
      "dtypes: float64(4), int64(22), object(1)\n",
      "memory usage: 24.1+ KB\n"
     ]
    }
   ],
   "source": [
    "dataset2.info()"
   ]
  },
  {
   "cell_type": "code",
   "execution_count": 11,
   "metadata": {},
   "outputs": [
    {
     "data": {
      "text/html": [
       "<div>\n",
       "<style>\n",
       "    .dataframe thead tr:only-child th {\n",
       "        text-align: right;\n",
       "    }\n",
       "\n",
       "    .dataframe thead th {\n",
       "        text-align: left;\n",
       "    }\n",
       "\n",
       "    .dataframe tbody tr th {\n",
       "        vertical-align: top;\n",
       "    }\n",
       "</style>\n",
       "<table border=\"1\" class=\"dataframe\">\n",
       "  <thead>\n",
       "    <tr style=\"text-align: right;\">\n",
       "      <th></th>\n",
       "      <th>fight</th>\n",
       "      <th>bouts</th>\n",
       "      <th>attend</th>\n",
       "      <th>ticketrev</th>\n",
       "      <th>ppv</th>\n",
       "      <th>tvrate</th>\n",
       "      <th>strikes</th>\n",
       "      <th>takedowns</th>\n",
       "      <th>submission</th>\n",
       "      <th>passes</th>\n",
       "      <th>...</th>\n",
       "      <th>DEC</th>\n",
       "      <th>SUB</th>\n",
       "      <th>Other</th>\n",
       "      <th>rematch</th>\n",
       "      <th>rival</th>\n",
       "      <th>rounds</th>\n",
       "      <th>tottime</th>\n",
       "      <th>fightnum</th>\n",
       "      <th>tech_star</th>\n",
       "      <th>fan_fav</th>\n",
       "    </tr>\n",
       "  </thead>\n",
       "  <tbody>\n",
       "    <tr>\n",
       "      <th>0</th>\n",
       "      <td>UFC 100</td>\n",
       "      <td>11</td>\n",
       "      <td>10871.0</td>\n",
       "      <td>5128490.0</td>\n",
       "      <td>1300000</td>\n",
       "      <td>1.103868e+06</td>\n",
       "      <td>538</td>\n",
       "      <td>33</td>\n",
       "      <td>17</td>\n",
       "      <td>31</td>\n",
       "      <td>...</td>\n",
       "      <td>6</td>\n",
       "      <td>3</td>\n",
       "      <td>0</td>\n",
       "      <td>1</td>\n",
       "      <td>2</td>\n",
       "      <td>28</td>\n",
       "      <td>7153</td>\n",
       "      <td>100</td>\n",
       "      <td>3</td>\n",
       "      <td>3</td>\n",
       "    </tr>\n",
       "    <tr>\n",
       "      <th>1</th>\n",
       "      <td>UFC 101</td>\n",
       "      <td>11</td>\n",
       "      <td>17411.0</td>\n",
       "      <td>3560852.0</td>\n",
       "      <td>850000</td>\n",
       "      <td>1.103868e+06</td>\n",
       "      <td>514</td>\n",
       "      <td>30</td>\n",
       "      <td>11</td>\n",
       "      <td>43</td>\n",
       "      <td>...</td>\n",
       "      <td>6</td>\n",
       "      <td>2</td>\n",
       "      <td>0</td>\n",
       "      <td>0</td>\n",
       "      <td>0</td>\n",
       "      <td>29</td>\n",
       "      <td>7457</td>\n",
       "      <td>101</td>\n",
       "      <td>2</td>\n",
       "      <td>1</td>\n",
       "    </tr>\n",
       "    <tr>\n",
       "      <th>2</th>\n",
       "      <td>UFC 102</td>\n",
       "      <td>11</td>\n",
       "      <td>16088.0</td>\n",
       "      <td>1920000.0</td>\n",
       "      <td>435000</td>\n",
       "      <td>1.103868e+06</td>\n",
       "      <td>482</td>\n",
       "      <td>26</td>\n",
       "      <td>10</td>\n",
       "      <td>25</td>\n",
       "      <td>...</td>\n",
       "      <td>5</td>\n",
       "      <td>1</td>\n",
       "      <td>0</td>\n",
       "      <td>0</td>\n",
       "      <td>0</td>\n",
       "      <td>24</td>\n",
       "      <td>5074</td>\n",
       "      <td>102</td>\n",
       "      <td>2</td>\n",
       "      <td>0</td>\n",
       "    </tr>\n",
       "    <tr>\n",
       "      <th>3</th>\n",
       "      <td>UFC 103</td>\n",
       "      <td>13</td>\n",
       "      <td>17428.0</td>\n",
       "      <td>2400000.0</td>\n",
       "      <td>375000</td>\n",
       "      <td>1.400000e+06</td>\n",
       "      <td>648</td>\n",
       "      <td>22</td>\n",
       "      <td>9</td>\n",
       "      <td>21</td>\n",
       "      <td>...</td>\n",
       "      <td>4</td>\n",
       "      <td>2</td>\n",
       "      <td>0</td>\n",
       "      <td>0</td>\n",
       "      <td>0</td>\n",
       "      <td>27</td>\n",
       "      <td>5366</td>\n",
       "      <td>103</td>\n",
       "      <td>3</td>\n",
       "      <td>0</td>\n",
       "    </tr>\n",
       "    <tr>\n",
       "      <th>4</th>\n",
       "      <td>UFC 104</td>\n",
       "      <td>11</td>\n",
       "      <td>14892.0</td>\n",
       "      <td>1913093.0</td>\n",
       "      <td>500000</td>\n",
       "      <td>1.400000e+06</td>\n",
       "      <td>694</td>\n",
       "      <td>31</td>\n",
       "      <td>8</td>\n",
       "      <td>21</td>\n",
       "      <td>...</td>\n",
       "      <td>5</td>\n",
       "      <td>1</td>\n",
       "      <td>0</td>\n",
       "      <td>0</td>\n",
       "      <td>0</td>\n",
       "      <td>28</td>\n",
       "      <td>6626</td>\n",
       "      <td>104</td>\n",
       "      <td>4</td>\n",
       "      <td>0</td>\n",
       "    </tr>\n",
       "  </tbody>\n",
       "</table>\n",
       "<p>5 rows × 26 columns</p>\n",
       "</div>"
      ],
      "text/plain": [
       "     fight  bouts   attend  ticketrev      ppv        tvrate  strikes  \\\n",
       "0  UFC 100     11  10871.0  5128490.0  1300000  1.103868e+06      538   \n",
       "1  UFC 101     11  17411.0  3560852.0   850000  1.103868e+06      514   \n",
       "2  UFC 102     11  16088.0  1920000.0   435000  1.103868e+06      482   \n",
       "3  UFC 103     13  17428.0  2400000.0   375000  1.400000e+06      648   \n",
       "4  UFC 104     11  14892.0  1913093.0   500000  1.400000e+06      694   \n",
       "\n",
       "   takedowns  submission  passes   ...     DEC  SUB  Other  rematch  rival  \\\n",
       "0         33          17      31   ...       6    3      0        1      2   \n",
       "1         30          11      43   ...       6    2      0        0      0   \n",
       "2         26          10      25   ...       5    1      0        0      0   \n",
       "3         22           9      21   ...       4    2      0        0      0   \n",
       "4         31           8      21   ...       5    1      0        0      0   \n",
       "\n",
       "   rounds  tottime  fightnum  tech_star  fan_fav  \n",
       "0      28     7153       100          3        3  \n",
       "1      29     7457       101          2        1  \n",
       "2      24     5074       102          2        0  \n",
       "3      27     5366       103          3        0  \n",
       "4      28     6626       104          4        0  \n",
       "\n",
       "[5 rows x 26 columns]"
      ]
     },
     "execution_count": 11,
     "metadata": {},
     "output_type": "execute_result"
    }
   ],
   "source": [
    "dataset2.head()"
   ]
  },
  {
   "cell_type": "markdown",
   "metadata": {},
   "source": [
    "# I. Exploratory Analysis"
   ]
  },
  {
   "cell_type": "markdown",
   "metadata": {},
   "source": [
    "### Get KDE PLOT of PPV Buys"
   ]
  },
  {
   "cell_type": "code",
   "execution_count": 508,
   "metadata": {},
   "outputs": [
    {
     "data": {
      "text/plain": [
       "<matplotlib.axes._subplots.AxesSubplot at 0x1c2bce3518>"
      ]
     },
     "execution_count": 508,
     "metadata": {},
     "output_type": "execute_result"
    },
    {
     "data": {
      "image/png": "[encoded data removed]",
      "text/plain": [
       "<matplotlib.figure.Figure at 0x1c2c97d1d0>"
      ]
     },
     "metadata": {},
     "output_type": "display_data"
    }
   ],
   "source": [
    "sns.kdeplot(dataset2.log_ppv)"
   ]
  },
  {
   "cell_type": "markdown",
   "metadata": {},
   "source": [
    "### Find distribution of PPV Buys "
   ]
  },
  {
   "cell_type": "code",
   "execution_count": 493,
   "metadata": {},
   "outputs": [
    {
     "data": {
      "text/plain": [
       "Text(0.5,1,'Distribution of PPV Buys')"
      ]
     },
     "execution_count": 493,
     "metadata": {},
     "output_type": "execute_result"
    },
    {
     "data": {
      "image/png": "[encoded data removed]",
      "text/plain": [
       "<matplotlib.figure.Figure at 0x1c2344bd68>"
      ]
     },
     "metadata": {},
     "output_type": "display_data"
    }
   ],
   "source": [
    "plt.figure(figsize=(15,8))\n",
    "plt.hist(dataset2.ppv, color = 'green',edgecolor = 'blue',align = 'mid')\n",
    "\n",
    "plt.xlabel('Number of PPV Buys')\n",
    "plt.ylabel('Number of UFC Main Events')\n",
    "plt.title('Distribution of PPV Buys')"
   ]
  },
  {
   "cell_type": "markdown",
   "metadata": {},
   "source": [
    "### Obtain boxplot of PPV Buys"
   ]
  },
  {
   "cell_type": "code",
   "execution_count": 28,
   "metadata": {},
   "outputs": [
    {
     "data": {
      "text/plain": [
       "<matplotlib.axes._subplots.AxesSubplot at 0x11695a9e8>"
      ]
     },
     "execution_count": 28,
     "metadata": {},
     "output_type": "execute_result"
    },
    {
     "data": {
      "image/png": "[encoded data removed]",
      "text/plain": [
       "<matplotlib.figure.Figure at 0x11650a898>"
      ]
     },
     "metadata": {},
     "output_type": "display_data"
    }
   ],
   "source": [
    "sns.boxplot(dataset2.ppv)"
   ]
  },
  {
   "cell_type": "markdown",
   "metadata": {},
   "source": [
    "### Tranform Target Variables"
   ]
  },
  {
   "cell_type": "code",
   "execution_count": 34,
   "metadata": {
    "collapsed": true
   },
   "outputs": [],
   "source": [
    "#Due to this positive skew we will take the log of the ppv\n",
    "dataset2['log_ppv'] = np.log(dataset2.ppv)"
   ]
  },
  {
   "cell_type": "code",
   "execution_count": 499,
   "metadata": {},
   "outputs": [
    {
     "data": {
      "text/plain": [
       "Text(0.5,1,'Frequency of Log PPV Buys')"
      ]
     },
     "execution_count": 499,
     "metadata": {},
     "output_type": "execute_result"
    },
    {
     "data": {
      "image/png": "[encoded data removed]",
      "text/plain": [
       "<matplotlib.figure.Figure at 0x1c2ae88748>"
      ]
     },
     "metadata": {},
     "output_type": "display_data"
    }
   ],
   "source": [
    "plt.figure(figsize=(15,8))\n",
    "plt.hist(dataset2.log_ppv, color = 'green',edgecolor = 'blue',align = 'mid')\n",
    "  #The log will help make the graph look like a normal distribution\n",
    "plt.xlabel('Log PPV Buys')\n",
    "plt.ylabel('Frequency of Log PPV Buys')\n",
    "plt.title('Frequency of Log PPV Buys')"
   ]
  },
  {
   "cell_type": "code",
   "execution_count": 22,
   "metadata": {},
   "outputs": [],
   "source": [
    "#Separate independent and dependent variables and will use variables with the highest correlations\n",
    "\n",
    "X = dataset2.drop(['fightnum','fight','ppv','log_ppv'],1)\n",
    "#include only variables that have a relatively higher correlation\n",
    "X_var = X[['attend','ticketrev','tvrate','lightfights','heavyfights','women','belts','tech_star','rival','fan_fav']]\n",
    "y = dataset2[['ppv']]\n",
    "y_log = dataset2[['log_ppv']]\n"
   ]
  },
  {
   "cell_type": "code",
   "execution_count": 524,
   "metadata": {},
   "outputs": [
    {
     "data": {
      "text/plain": [
       "Index(['fight', 'bouts', 'attend', 'ticketrev', 'ppv', 'tvrate', 'strikes',\n",
       "       'takedowns', 'submission', 'passes', 'lightfights', 'heavyfights',\n",
       "       'women', 'men', 'belts', 'KO', 'DEC', 'SUB', 'Other', 'rematch',\n",
       "       'rival', 'rounds', 'tottime', 'fightnum', 'tech_star', 'fan_fav',\n",
       "       'log_ppv'],\n",
       "      dtype='object')"
      ]
     },
     "execution_count": 524,
     "metadata": {},
     "output_type": "execute_result"
    }
   ],
   "source": [
    "dataset2.columns"
   ]
  },
  {
   "cell_type": "markdown",
   "metadata": {},
   "source": [
    "### Create pairplot to check correlations"
   ]
  },
  {
   "cell_type": "code",
   "execution_count": 487,
   "metadata": {},
   "outputs": [
    {
     "data": {
      "image/png": "[encoded data removed]",
      "text/plain": [
       "<matplotlib.figure.Figure at 0x1c2367c198>"
      ]
     },
     "metadata": {},
     "output_type": "display_data"
    }
   ],
   "source": [
    "sns.pairplot(dataset2[['ppv','tvrate','ticketrev','heavyfights','women','belts','KO','tech_star'\n",
    "                      ,'rival','megastar']], size = 1.2, aspect=1.5);"
   ]
  },
  {
   "cell_type": "code",
   "execution_count": 525,
   "metadata": {},
   "outputs": [
    {
     "data": {
      "text/html": [
       "<div>\n",
       "<style>\n",
       "    .dataframe thead tr:only-child th {\n",
       "        text-align: right;\n",
       "    }\n",
       "\n",
       "    .dataframe thead th {\n",
       "        text-align: left;\n",
       "    }\n",
       "\n",
       "    .dataframe tbody tr th {\n",
       "        vertical-align: top;\n",
       "    }\n",
       "</style>\n",
       "<table border=\"1\" class=\"dataframe\">\n",
       "  <thead>\n",
       "    <tr style=\"text-align: right;\">\n",
       "      <th></th>\n",
       "      <th>bouts</th>\n",
       "      <th>attend</th>\n",
       "      <th>ticketrev</th>\n",
       "      <th>ppv</th>\n",
       "      <th>tvrate</th>\n",
       "      <th>strikes</th>\n",
       "      <th>takedowns</th>\n",
       "      <th>submission</th>\n",
       "      <th>passes</th>\n",
       "      <th>lightfights</th>\n",
       "      <th>...</th>\n",
       "      <th>SUB</th>\n",
       "      <th>Other</th>\n",
       "      <th>rematch</th>\n",
       "      <th>rival</th>\n",
       "      <th>rounds</th>\n",
       "      <th>tottime</th>\n",
       "      <th>fightnum</th>\n",
       "      <th>tech_star</th>\n",
       "      <th>fan_fav</th>\n",
       "      <th>log_ppv</th>\n",
       "    </tr>\n",
       "  </thead>\n",
       "  <tbody>\n",
       "    <tr>\n",
       "      <th>bouts</th>\n",
       "      <td>1.000000</td>\n",
       "      <td>0.265984</td>\n",
       "      <td>0.079319</td>\n",
       "      <td>0.060285</td>\n",
       "      <td>-0.057842</td>\n",
       "      <td>0.582499</td>\n",
       "      <td>0.181836</td>\n",
       "      <td>-0.189814</td>\n",
       "      <td>0.096396</td>\n",
       "      <td>0.357896</td>\n",
       "      <td>...</td>\n",
       "      <td>-0.105204</td>\n",
       "      <td>-0.116471</td>\n",
       "      <td>0.105970</td>\n",
       "      <td>0.158520</td>\n",
       "      <td>0.543523</td>\n",
       "      <td>0.402302</td>\n",
       "      <td>0.229506</td>\n",
       "      <td>0.206693</td>\n",
       "      <td>0.017314</td>\n",
       "      <td>0.071050</td>\n",
       "    </tr>\n",
       "    <tr>\n",
       "      <th>attend</th>\n",
       "      <td>0.265984</td>\n",
       "      <td>1.000000</td>\n",
       "      <td>0.407263</td>\n",
       "      <td>0.215831</td>\n",
       "      <td>0.100474</td>\n",
       "      <td>0.076428</td>\n",
       "      <td>-0.030127</td>\n",
       "      <td>-0.165304</td>\n",
       "      <td>-0.071061</td>\n",
       "      <td>-0.056503</td>\n",
       "      <td>...</td>\n",
       "      <td>-0.069862</td>\n",
       "      <td>-0.016300</td>\n",
       "      <td>-0.074254</td>\n",
       "      <td>-0.053391</td>\n",
       "      <td>0.009221</td>\n",
       "      <td>0.011271</td>\n",
       "      <td>0.071657</td>\n",
       "      <td>0.086307</td>\n",
       "      <td>0.082696</td>\n",
       "      <td>0.203378</td>\n",
       "    </tr>\n",
       "    <tr>\n",
       "      <th>ticketrev</th>\n",
       "      <td>0.079319</td>\n",
       "      <td>0.407263</td>\n",
       "      <td>1.000000</td>\n",
       "      <td>0.675660</td>\n",
       "      <td>0.466792</td>\n",
       "      <td>-0.058847</td>\n",
       "      <td>-0.086647</td>\n",
       "      <td>-0.099490</td>\n",
       "      <td>-0.121426</td>\n",
       "      <td>-0.070316</td>\n",
       "      <td>...</td>\n",
       "      <td>-0.148970</td>\n",
       "      <td>0.094587</td>\n",
       "      <td>-0.032029</td>\n",
       "      <td>0.123667</td>\n",
       "      <td>0.063633</td>\n",
       "      <td>0.020535</td>\n",
       "      <td>0.116674</td>\n",
       "      <td>0.376835</td>\n",
       "      <td>0.482445</td>\n",
       "      <td>0.596661</td>\n",
       "    </tr>\n",
       "    <tr>\n",
       "      <th>ppv</th>\n",
       "      <td>0.060285</td>\n",
       "      <td>0.215831</td>\n",
       "      <td>0.675660</td>\n",
       "      <td>1.000000</td>\n",
       "      <td>0.593068</td>\n",
       "      <td>-0.081906</td>\n",
       "      <td>0.027353</td>\n",
       "      <td>0.001475</td>\n",
       "      <td>-0.032394</td>\n",
       "      <td>-0.299869</td>\n",
       "      <td>...</td>\n",
       "      <td>-0.100716</td>\n",
       "      <td>0.109714</td>\n",
       "      <td>0.010434</td>\n",
       "      <td>0.294642</td>\n",
       "      <td>-0.003915</td>\n",
       "      <td>-0.027832</td>\n",
       "      <td>-0.073991</td>\n",
       "      <td>0.109618</td>\n",
       "      <td>0.696544</td>\n",
       "      <td>0.945756</td>\n",
       "    </tr>\n",
       "    <tr>\n",
       "      <th>tvrate</th>\n",
       "      <td>-0.057842</td>\n",
       "      <td>0.100474</td>\n",
       "      <td>0.466792</td>\n",
       "      <td>0.593068</td>\n",
       "      <td>1.000000</td>\n",
       "      <td>-0.209887</td>\n",
       "      <td>-0.004165</td>\n",
       "      <td>0.026499</td>\n",
       "      <td>-0.103500</td>\n",
       "      <td>-0.342643</td>\n",
       "      <td>...</td>\n",
       "      <td>-0.265634</td>\n",
       "      <td>0.031172</td>\n",
       "      <td>-0.123983</td>\n",
       "      <td>0.042381</td>\n",
       "      <td>-0.094034</td>\n",
       "      <td>-0.066678</td>\n",
       "      <td>-0.382683</td>\n",
       "      <td>0.245589</td>\n",
       "      <td>0.385764</td>\n",
       "      <td>0.636035</td>\n",
       "    </tr>\n",
       "    <tr>\n",
       "      <th>strikes</th>\n",
       "      <td>0.582499</td>\n",
       "      <td>0.076428</td>\n",
       "      <td>-0.058847</td>\n",
       "      <td>-0.081906</td>\n",
       "      <td>-0.209887</td>\n",
       "      <td>1.000000</td>\n",
       "      <td>0.124132</td>\n",
       "      <td>-0.298510</td>\n",
       "      <td>0.045490</td>\n",
       "      <td>0.462099</td>\n",
       "      <td>...</td>\n",
       "      <td>-0.221408</td>\n",
       "      <td>-0.065376</td>\n",
       "      <td>0.177234</td>\n",
       "      <td>0.194794</td>\n",
       "      <td>0.723465</td>\n",
       "      <td>0.667948</td>\n",
       "      <td>0.544288</td>\n",
       "      <td>0.262923</td>\n",
       "      <td>-0.067027</td>\n",
       "      <td>-0.115967</td>\n",
       "    </tr>\n",
       "    <tr>\n",
       "      <th>takedowns</th>\n",
       "      <td>0.181836</td>\n",
       "      <td>-0.030127</td>\n",
       "      <td>-0.086647</td>\n",
       "      <td>0.027353</td>\n",
       "      <td>-0.004165</td>\n",
       "      <td>0.124132</td>\n",
       "      <td>1.000000</td>\n",
       "      <td>0.230230</td>\n",
       "      <td>0.500107</td>\n",
       "      <td>-0.081781</td>\n",
       "      <td>...</td>\n",
       "      <td>0.018259</td>\n",
       "      <td>-0.183100</td>\n",
       "      <td>-0.030610</td>\n",
       "      <td>-0.166630</td>\n",
       "      <td>0.427627</td>\n",
       "      <td>0.398974</td>\n",
       "      <td>-0.196329</td>\n",
       "      <td>-0.135149</td>\n",
       "      <td>0.012439</td>\n",
       "      <td>0.036711</td>\n",
       "    </tr>\n",
       "    <tr>\n",
       "      <th>submission</th>\n",
       "      <td>-0.189814</td>\n",
       "      <td>-0.165304</td>\n",
       "      <td>-0.099490</td>\n",
       "      <td>0.001475</td>\n",
       "      <td>0.026499</td>\n",
       "      <td>-0.298510</td>\n",
       "      <td>0.230230</td>\n",
       "      <td>1.000000</td>\n",
       "      <td>0.322870</td>\n",
       "      <td>-0.308706</td>\n",
       "      <td>...</td>\n",
       "      <td>0.470905</td>\n",
       "      <td>-0.130042</td>\n",
       "      <td>-0.115368</td>\n",
       "      <td>-0.040158</td>\n",
       "      <td>-0.074038</td>\n",
       "      <td>-0.055622</td>\n",
       "      <td>-0.462035</td>\n",
       "      <td>-0.194055</td>\n",
       "      <td>-0.014245</td>\n",
       "      <td>0.046193</td>\n",
       "    </tr>\n",
       "    <tr>\n",
       "      <th>passes</th>\n",
       "      <td>0.096396</td>\n",
       "      <td>-0.071061</td>\n",
       "      <td>-0.121426</td>\n",
       "      <td>-0.032394</td>\n",
       "      <td>-0.103500</td>\n",
       "      <td>0.045490</td>\n",
       "      <td>0.500107</td>\n",
       "      <td>0.322870</td>\n",
       "      <td>1.000000</td>\n",
       "      <td>-0.140658</td>\n",
       "      <td>...</td>\n",
       "      <td>0.212274</td>\n",
       "      <td>-0.240386</td>\n",
       "      <td>-0.047006</td>\n",
       "      <td>-0.133863</td>\n",
       "      <td>0.267648</td>\n",
       "      <td>0.303008</td>\n",
       "      <td>-0.109624</td>\n",
       "      <td>-0.160358</td>\n",
       "      <td>-0.014714</td>\n",
       "      <td>-0.056578</td>\n",
       "    </tr>\n",
       "    <tr>\n",
       "      <th>lightfights</th>\n",
       "      <td>0.357896</td>\n",
       "      <td>-0.056503</td>\n",
       "      <td>-0.070316</td>\n",
       "      <td>-0.299869</td>\n",
       "      <td>-0.342643</td>\n",
       "      <td>0.462099</td>\n",
       "      <td>-0.081781</td>\n",
       "      <td>-0.308706</td>\n",
       "      <td>-0.140658</td>\n",
       "      <td>1.000000</td>\n",
       "      <td>...</td>\n",
       "      <td>-0.089294</td>\n",
       "      <td>0.053616</td>\n",
       "      <td>0.112997</td>\n",
       "      <td>0.052632</td>\n",
       "      <td>0.347898</td>\n",
       "      <td>0.269434</td>\n",
       "      <td>0.613556</td>\n",
       "      <td>0.202710</td>\n",
       "      <td>-0.137984</td>\n",
       "      <td>-0.352749</td>\n",
       "    </tr>\n",
       "    <tr>\n",
       "      <th>heavyfights</th>\n",
       "      <td>0.114429</td>\n",
       "      <td>0.191828</td>\n",
       "      <td>0.114087</td>\n",
       "      <td>0.348885</td>\n",
       "      <td>0.335896</td>\n",
       "      <td>-0.203178</td>\n",
       "      <td>0.177051</td>\n",
       "      <td>0.234438</td>\n",
       "      <td>0.197382</td>\n",
       "      <td>-0.886674</td>\n",
       "      <td>...</td>\n",
       "      <td>0.042903</td>\n",
       "      <td>-0.114719</td>\n",
       "      <td>-0.067742</td>\n",
       "      <td>0.022503</td>\n",
       "      <td>-0.100979</td>\n",
       "      <td>-0.087433</td>\n",
       "      <td>-0.539113</td>\n",
       "      <td>-0.113310</td>\n",
       "      <td>0.155375</td>\n",
       "      <td>0.410474</td>\n",
       "    </tr>\n",
       "    <tr>\n",
       "      <th>women</th>\n",
       "      <td>0.192173</td>\n",
       "      <td>0.060647</td>\n",
       "      <td>0.150056</td>\n",
       "      <td>0.055148</td>\n",
       "      <td>-0.230249</td>\n",
       "      <td>0.371735</td>\n",
       "      <td>-0.169292</td>\n",
       "      <td>-0.326538</td>\n",
       "      <td>-0.121731</td>\n",
       "      <td>0.476123</td>\n",
       "      <td>...</td>\n",
       "      <td>0.018625</td>\n",
       "      <td>0.131564</td>\n",
       "      <td>0.083191</td>\n",
       "      <td>0.064224</td>\n",
       "      <td>0.144178</td>\n",
       "      <td>0.090387</td>\n",
       "      <td>0.729685</td>\n",
       "      <td>0.136400</td>\n",
       "      <td>0.029770</td>\n",
       "      <td>-0.082990</td>\n",
       "    </tr>\n",
       "    <tr>\n",
       "      <th>men</th>\n",
       "      <td>0.654546</td>\n",
       "      <td>0.166756</td>\n",
       "      <td>-0.051940</td>\n",
       "      <td>0.005900</td>\n",
       "      <td>0.130956</td>\n",
       "      <td>0.181132</td>\n",
       "      <td>0.276360</td>\n",
       "      <td>0.099216</td>\n",
       "      <td>0.171146</td>\n",
       "      <td>-0.079551</td>\n",
       "      <td>...</td>\n",
       "      <td>-0.098785</td>\n",
       "      <td>-0.194834</td>\n",
       "      <td>0.020962</td>\n",
       "      <td>0.077750</td>\n",
       "      <td>0.325156</td>\n",
       "      <td>0.253252</td>\n",
       "      <td>-0.377936</td>\n",
       "      <td>0.060810</td>\n",
       "      <td>-0.009038</td>\n",
       "      <td>0.120958</td>\n",
       "    </tr>\n",
       "    <tr>\n",
       "      <th>belts</th>\n",
       "      <td>0.152175</td>\n",
       "      <td>0.188744</td>\n",
       "      <td>0.338371</td>\n",
       "      <td>0.241747</td>\n",
       "      <td>-0.124212</td>\n",
       "      <td>0.242855</td>\n",
       "      <td>-0.037952</td>\n",
       "      <td>-0.181865</td>\n",
       "      <td>-0.030602</td>\n",
       "      <td>0.330865</td>\n",
       "      <td>...</td>\n",
       "      <td>-0.016935</td>\n",
       "      <td>0.202429</td>\n",
       "      <td>0.075989</td>\n",
       "      <td>0.146729</td>\n",
       "      <td>0.237164</td>\n",
       "      <td>0.102922</td>\n",
       "      <td>0.429596</td>\n",
       "      <td>0.208931</td>\n",
       "      <td>0.333440</td>\n",
       "      <td>0.206176</td>\n",
       "    </tr>\n",
       "    <tr>\n",
       "      <th>KO</th>\n",
       "      <td>0.384131</td>\n",
       "      <td>0.223642</td>\n",
       "      <td>0.142683</td>\n",
       "      <td>0.108185</td>\n",
       "      <td>0.125237</td>\n",
       "      <td>0.024091</td>\n",
       "      <td>-0.241008</td>\n",
       "      <td>-0.336233</td>\n",
       "      <td>-0.300659</td>\n",
       "      <td>0.077687</td>\n",
       "      <td>...</td>\n",
       "      <td>-0.362892</td>\n",
       "      <td>-0.007505</td>\n",
       "      <td>0.099973</td>\n",
       "      <td>0.243939</td>\n",
       "      <td>-0.195127</td>\n",
       "      <td>-0.391066</td>\n",
       "      <td>0.105712</td>\n",
       "      <td>0.247999</td>\n",
       "      <td>0.018460</td>\n",
       "      <td>0.115108</td>\n",
       "    </tr>\n",
       "    <tr>\n",
       "      <th>DEC</th>\n",
       "      <td>0.254959</td>\n",
       "      <td>-0.025972</td>\n",
       "      <td>-0.012281</td>\n",
       "      <td>-0.027431</td>\n",
       "      <td>0.033979</td>\n",
       "      <td>0.466474</td>\n",
       "      <td>0.368031</td>\n",
       "      <td>-0.083929</td>\n",
       "      <td>0.251654</td>\n",
       "      <td>0.166554</td>\n",
       "      <td>...</td>\n",
       "      <td>-0.400475</td>\n",
       "      <td>-0.182063</td>\n",
       "      <td>-0.009238</td>\n",
       "      <td>-0.144134</td>\n",
       "      <td>0.693438</td>\n",
       "      <td>0.848035</td>\n",
       "      <td>0.030002</td>\n",
       "      <td>0.035361</td>\n",
       "      <td>0.013724</td>\n",
       "      <td>-0.028123</td>\n",
       "    </tr>\n",
       "    <tr>\n",
       "      <th>SUB</th>\n",
       "      <td>-0.105204</td>\n",
       "      <td>-0.069862</td>\n",
       "      <td>-0.148970</td>\n",
       "      <td>-0.100716</td>\n",
       "      <td>-0.265634</td>\n",
       "      <td>-0.221408</td>\n",
       "      <td>0.018259</td>\n",
       "      <td>0.470905</td>\n",
       "      <td>0.212274</td>\n",
       "      <td>-0.089294</td>\n",
       "      <td>...</td>\n",
       "      <td>1.000000</td>\n",
       "      <td>-0.150772</td>\n",
       "      <td>-0.045424</td>\n",
       "      <td>-0.036110</td>\n",
       "      <td>-0.239599</td>\n",
       "      <td>-0.288993</td>\n",
       "      <td>-0.062860</td>\n",
       "      <td>-0.222247</td>\n",
       "      <td>-0.080926</td>\n",
       "      <td>-0.103044</td>\n",
       "    </tr>\n",
       "    <tr>\n",
       "      <th>Other</th>\n",
       "      <td>-0.116471</td>\n",
       "      <td>-0.016300</td>\n",
       "      <td>0.094587</td>\n",
       "      <td>0.109714</td>\n",
       "      <td>0.031172</td>\n",
       "      <td>-0.065376</td>\n",
       "      <td>-0.183100</td>\n",
       "      <td>-0.130042</td>\n",
       "      <td>-0.240386</td>\n",
       "      <td>0.053616</td>\n",
       "      <td>...</td>\n",
       "      <td>-0.150772</td>\n",
       "      <td>1.000000</td>\n",
       "      <td>-0.001904</td>\n",
       "      <td>0.048570</td>\n",
       "      <td>-0.128514</td>\n",
       "      <td>-0.117269</td>\n",
       "      <td>0.139172</td>\n",
       "      <td>-0.033025</td>\n",
       "      <td>0.155267</td>\n",
       "      <td>0.114884</td>\n",
       "    </tr>\n",
       "    <tr>\n",
       "      <th>rematch</th>\n",
       "      <td>0.105970</td>\n",
       "      <td>-0.074254</td>\n",
       "      <td>-0.032029</td>\n",
       "      <td>0.010434</td>\n",
       "      <td>-0.123983</td>\n",
       "      <td>0.177234</td>\n",
       "      <td>-0.030610</td>\n",
       "      <td>-0.115368</td>\n",
       "      <td>-0.047006</td>\n",
       "      <td>0.112997</td>\n",
       "      <td>...</td>\n",
       "      <td>-0.045424</td>\n",
       "      <td>-0.001904</td>\n",
       "      <td>1.000000</td>\n",
       "      <td>0.329412</td>\n",
       "      <td>0.091790</td>\n",
       "      <td>0.074403</td>\n",
       "      <td>0.057520</td>\n",
       "      <td>0.060199</td>\n",
       "      <td>-0.075084</td>\n",
       "      <td>-0.050113</td>\n",
       "    </tr>\n",
       "    <tr>\n",
       "      <th>rival</th>\n",
       "      <td>0.158520</td>\n",
       "      <td>-0.053391</td>\n",
       "      <td>0.123667</td>\n",
       "      <td>0.294642</td>\n",
       "      <td>0.042381</td>\n",
       "      <td>0.194794</td>\n",
       "      <td>-0.166630</td>\n",
       "      <td>-0.040158</td>\n",
       "      <td>-0.133863</td>\n",
       "      <td>0.052632</td>\n",
       "      <td>...</td>\n",
       "      <td>-0.036110</td>\n",
       "      <td>0.048570</td>\n",
       "      <td>0.329412</td>\n",
       "      <td>1.000000</td>\n",
       "      <td>0.105086</td>\n",
       "      <td>0.044738</td>\n",
       "      <td>0.027170</td>\n",
       "      <td>0.198668</td>\n",
       "      <td>0.191269</td>\n",
       "      <td>0.263060</td>\n",
       "    </tr>\n",
       "    <tr>\n",
       "      <th>rounds</th>\n",
       "      <td>0.543523</td>\n",
       "      <td>0.009221</td>\n",
       "      <td>0.063633</td>\n",
       "      <td>-0.003915</td>\n",
       "      <td>-0.094034</td>\n",
       "      <td>0.723465</td>\n",
       "      <td>0.427627</td>\n",
       "      <td>-0.074038</td>\n",
       "      <td>0.267648</td>\n",
       "      <td>0.347898</td>\n",
       "      <td>...</td>\n",
       "      <td>-0.239599</td>\n",
       "      <td>-0.128514</td>\n",
       "      <td>0.091790</td>\n",
       "      <td>0.105086</td>\n",
       "      <td>1.000000</td>\n",
       "      <td>0.890894</td>\n",
       "      <td>0.247999</td>\n",
       "      <td>0.179346</td>\n",
       "      <td>-0.009062</td>\n",
       "      <td>-0.037491</td>\n",
       "    </tr>\n",
       "    <tr>\n",
       "      <th>tottime</th>\n",
       "      <td>0.402302</td>\n",
       "      <td>0.011271</td>\n",
       "      <td>0.020535</td>\n",
       "      <td>-0.027832</td>\n",
       "      <td>-0.066678</td>\n",
       "      <td>0.667948</td>\n",
       "      <td>0.398974</td>\n",
       "      <td>-0.055622</td>\n",
       "      <td>0.303008</td>\n",
       "      <td>0.269434</td>\n",
       "      <td>...</td>\n",
       "      <td>-0.288993</td>\n",
       "      <td>-0.117269</td>\n",
       "      <td>0.074403</td>\n",
       "      <td>0.044738</td>\n",
       "      <td>0.890894</td>\n",
       "      <td>1.000000</td>\n",
       "      <td>0.188373</td>\n",
       "      <td>0.133046</td>\n",
       "      <td>0.009503</td>\n",
       "      <td>-0.048620</td>\n",
       "    </tr>\n",
       "    <tr>\n",
       "      <th>fightnum</th>\n",
       "      <td>0.229506</td>\n",
       "      <td>0.071657</td>\n",
       "      <td>0.116674</td>\n",
       "      <td>-0.073991</td>\n",
       "      <td>-0.382683</td>\n",
       "      <td>0.544288</td>\n",
       "      <td>-0.196329</td>\n",
       "      <td>-0.462035</td>\n",
       "      <td>-0.109624</td>\n",
       "      <td>0.613556</td>\n",
       "      <td>...</td>\n",
       "      <td>-0.062860</td>\n",
       "      <td>0.139172</td>\n",
       "      <td>0.057520</td>\n",
       "      <td>0.027170</td>\n",
       "      <td>0.247999</td>\n",
       "      <td>0.188373</td>\n",
       "      <td>1.000000</td>\n",
       "      <td>0.216868</td>\n",
       "      <td>-0.032935</td>\n",
       "      <td>-0.191897</td>\n",
       "    </tr>\n",
       "    <tr>\n",
       "      <th>tech_star</th>\n",
       "      <td>0.206693</td>\n",
       "      <td>0.086307</td>\n",
       "      <td>0.376835</td>\n",
       "      <td>0.109618</td>\n",
       "      <td>0.245589</td>\n",
       "      <td>0.262923</td>\n",
       "      <td>-0.135149</td>\n",
       "      <td>-0.194055</td>\n",
       "      <td>-0.160358</td>\n",
       "      <td>0.202710</td>\n",
       "      <td>...</td>\n",
       "      <td>-0.222247</td>\n",
       "      <td>-0.033025</td>\n",
       "      <td>0.060199</td>\n",
       "      <td>0.198668</td>\n",
       "      <td>0.179346</td>\n",
       "      <td>0.133046</td>\n",
       "      <td>0.216868</td>\n",
       "      <td>1.000000</td>\n",
       "      <td>0.119637</td>\n",
       "      <td>0.121231</td>\n",
       "    </tr>\n",
       "    <tr>\n",
       "      <th>fan_fav</th>\n",
       "      <td>0.017314</td>\n",
       "      <td>0.082696</td>\n",
       "      <td>0.482445</td>\n",
       "      <td>0.696544</td>\n",
       "      <td>0.385764</td>\n",
       "      <td>-0.067027</td>\n",
       "      <td>0.012439</td>\n",
       "      <td>-0.014245</td>\n",
       "      <td>-0.014714</td>\n",
       "      <td>-0.137984</td>\n",
       "      <td>...</td>\n",
       "      <td>-0.080926</td>\n",
       "      <td>0.155267</td>\n",
       "      <td>-0.075084</td>\n",
       "      <td>0.191269</td>\n",
       "      <td>-0.009062</td>\n",
       "      <td>0.009503</td>\n",
       "      <td>-0.032935</td>\n",
       "      <td>0.119637</td>\n",
       "      <td>1.000000</td>\n",
       "      <td>0.684376</td>\n",
       "    </tr>\n",
       "    <tr>\n",
       "      <th>log_ppv</th>\n",
       "      <td>0.071050</td>\n",
       "      <td>0.203378</td>\n",
       "      <td>0.596661</td>\n",
       "      <td>0.945756</td>\n",
       "      <td>0.636035</td>\n",
       "      <td>-0.115967</td>\n",
       "      <td>0.036711</td>\n",
       "      <td>0.046193</td>\n",
       "      <td>-0.056578</td>\n",
       "      <td>-0.352749</td>\n",
       "      <td>...</td>\n",
       "      <td>-0.103044</td>\n",
       "      <td>0.114884</td>\n",
       "      <td>-0.050113</td>\n",
       "      <td>0.263060</td>\n",
       "      <td>-0.037491</td>\n",
       "      <td>-0.048620</td>\n",
       "      <td>-0.191897</td>\n",
       "      <td>0.121231</td>\n",
       "      <td>0.684376</td>\n",
       "      <td>1.000000</td>\n",
       "    </tr>\n",
       "  </tbody>\n",
       "</table>\n",
       "<p>26 rows × 26 columns</p>\n",
       "</div>"
      ],
      "text/plain": [
       "                bouts    attend  ticketrev       ppv    tvrate   strikes  \\\n",
       "bouts        1.000000  0.265984   0.079319  0.060285 -0.057842  0.582499   \n",
       "attend       0.265984  1.000000   0.407263  0.215831  0.100474  0.076428   \n",
       "ticketrev    0.079319  0.407263   1.000000  0.675660  0.466792 -0.058847   \n",
       "ppv          0.060285  0.215831   0.675660  1.000000  0.593068 -0.081906   \n",
       "tvrate      -0.057842  0.100474   0.466792  0.593068  1.000000 -0.209887   \n",
       "strikes      0.582499  0.076428  -0.058847 -0.081906 -0.209887  1.000000   \n",
       "takedowns    0.181836 -0.030127  -0.086647  0.027353 -0.004165  0.124132   \n",
       "submission  -0.189814 -0.165304  -0.099490  0.001475  0.026499 -0.298510   \n",
       "passes       0.096396 -0.071061  -0.121426 -0.032394 -0.103500  0.045490   \n",
       "lightfights  0.357896 -0.056503  -0.070316 -0.299869 -0.342643  0.462099   \n",
       "heavyfights  0.114429  0.191828   0.114087  0.348885  0.335896 -0.203178   \n",
       "women        0.192173  0.060647   0.150056  0.055148 -0.230249  0.371735   \n",
       "men          0.654546  0.166756  -0.051940  0.005900  0.130956  0.181132   \n",
       "belts        0.152175  0.188744   0.338371  0.241747 -0.124212  0.242855   \n",
       "KO           0.384131  0.223642   0.142683  0.108185  0.125237  0.024091   \n",
       "DEC          0.254959 -0.025972  -0.012281 -0.027431  0.033979  0.466474   \n",
       "SUB         -0.105204 -0.069862  -0.148970 -0.100716 -0.265634 -0.221408   \n",
       "Other       -0.116471 -0.016300   0.094587  0.109714  0.031172 -0.065376   \n",
       "rematch      0.105970 -0.074254  -0.032029  0.010434 -0.123983  0.177234   \n",
       "rival        0.158520 -0.053391   0.123667  0.294642  0.042381  0.194794   \n",
       "rounds       0.543523  0.009221   0.063633 -0.003915 -0.094034  0.723465   \n",
       "tottime      0.402302  0.011271   0.020535 -0.027832 -0.066678  0.667948   \n",
       "fightnum     0.229506  0.071657   0.116674 -0.073991 -0.382683  0.544288   \n",
       "tech_star    0.206693  0.086307   0.376835  0.109618  0.245589  0.262923   \n",
       "fan_fav      0.017314  0.082696   0.482445  0.696544  0.385764 -0.067027   \n",
       "log_ppv      0.071050  0.203378   0.596661  0.945756  0.636035 -0.115967   \n",
       "\n",
       "             takedowns  submission    passes  lightfights    ...          SUB  \\\n",
       "bouts         0.181836   -0.189814  0.096396     0.357896    ...    -0.105204   \n",
       "attend       -0.030127   -0.165304 -0.071061    -0.056503    ...    -0.069862   \n",
       "ticketrev    -0.086647   -0.099490 -0.121426    -0.070316    ...    -0.148970   \n",
       "ppv           0.027353    0.001475 -0.032394    -0.299869    ...    -0.100716   \n",
       "tvrate       -0.004165    0.026499 -0.103500    -0.342643    ...    -0.265634   \n",
       "strikes       0.124132   -0.298510  0.045490     0.462099    ...    -0.221408   \n",
       "takedowns     1.000000    0.230230  0.500107    -0.081781    ...     0.018259   \n",
       "submission    0.230230    1.000000  0.322870    -0.308706    ...     0.470905   \n",
       "passes        0.500107    0.322870  1.000000    -0.140658    ...     0.212274   \n",
       "lightfights  -0.081781   -0.308706 -0.140658     1.000000    ...    -0.089294   \n",
       "heavyfights   0.177051    0.234438  0.197382    -0.886674    ...     0.042903   \n",
       "women        -0.169292   -0.326538 -0.121731     0.476123    ...     0.018625   \n",
       "men           0.276360    0.099216  0.171146    -0.079551    ...    -0.098785   \n",
       "belts        -0.037952   -0.181865 -0.030602     0.330865    ...    -0.016935   \n",
       "KO           -0.241008   -0.336233 -0.300659     0.077687    ...    -0.362892   \n",
       "DEC           0.368031   -0.083929  0.251654     0.166554    ...    -0.400475   \n",
       "SUB           0.018259    0.470905  0.212274    -0.089294    ...     1.000000   \n",
       "Other        -0.183100   -0.130042 -0.240386     0.053616    ...    -0.150772   \n",
       "rematch      -0.030610   -0.115368 -0.047006     0.112997    ...    -0.045424   \n",
       "rival        -0.166630   -0.040158 -0.133863     0.052632    ...    -0.036110   \n",
       "rounds        0.427627   -0.074038  0.267648     0.347898    ...    -0.239599   \n",
       "tottime       0.398974   -0.055622  0.303008     0.269434    ...    -0.288993   \n",
       "fightnum     -0.196329   -0.462035 -0.109624     0.613556    ...    -0.062860   \n",
       "tech_star    -0.135149   -0.194055 -0.160358     0.202710    ...    -0.222247   \n",
       "fan_fav       0.012439   -0.014245 -0.014714    -0.137984    ...    -0.080926   \n",
       "log_ppv       0.036711    0.046193 -0.056578    -0.352749    ...    -0.103044   \n",
       "\n",
       "                Other   rematch     rival    rounds   tottime  fightnum  \\\n",
       "bouts       -0.116471  0.105970  0.158520  0.543523  0.402302  0.229506   \n",
       "attend      -0.016300 -0.074254 -0.053391  0.009221  0.011271  0.071657   \n",
       "ticketrev    0.094587 -0.032029  0.123667  0.063633  0.020535  0.116674   \n",
       "ppv          0.109714  0.010434  0.294642 -0.003915 -0.027832 -0.073991   \n",
       "tvrate       0.031172 -0.123983  0.042381 -0.094034 -0.066678 -0.382683   \n",
       "strikes     -0.065376  0.177234  0.194794  0.723465  0.667948  0.544288   \n",
       "takedowns   -0.183100 -0.030610 -0.166630  0.427627  0.398974 -0.196329   \n",
       "submission  -0.130042 -0.115368 -0.040158 -0.074038 -0.055622 -0.462035   \n",
       "passes      -0.240386 -0.047006 -0.133863  0.267648  0.303008 -0.109624   \n",
       "lightfights  0.053616  0.112997  0.052632  0.347898  0.269434  0.613556   \n",
       "heavyfights -0.114719 -0.067742  0.022503 -0.100979 -0.087433 -0.539113   \n",
       "women        0.131564  0.083191  0.064224  0.144178  0.090387  0.729685   \n",
       "men         -0.194834  0.020962  0.077750  0.325156  0.253252 -0.377936   \n",
       "belts        0.202429  0.075989  0.146729  0.237164  0.102922  0.429596   \n",
       "KO          -0.007505  0.099973  0.243939 -0.195127 -0.391066  0.105712   \n",
       "DEC         -0.182063 -0.009238 -0.144134  0.693438  0.848035  0.030002   \n",
       "SUB         -0.150772 -0.045424 -0.036110 -0.239599 -0.288993 -0.062860   \n",
       "Other        1.000000 -0.001904  0.048570 -0.128514 -0.117269  0.139172   \n",
       "rematch     -0.001904  1.000000  0.329412  0.091790  0.074403  0.057520   \n",
       "rival        0.048570  0.329412  1.000000  0.105086  0.044738  0.027170   \n",
       "rounds      -0.128514  0.091790  0.105086  1.000000  0.890894  0.247999   \n",
       "tottime     -0.117269  0.074403  0.044738  0.890894  1.000000  0.188373   \n",
       "fightnum     0.139172  0.057520  0.027170  0.247999  0.188373  1.000000   \n",
       "tech_star   -0.033025  0.060199  0.198668  0.179346  0.133046  0.216868   \n",
       "fan_fav      0.155267 -0.075084  0.191269 -0.009062  0.009503 -0.032935   \n",
       "log_ppv      0.114884 -0.050113  0.263060 -0.037491 -0.048620 -0.191897   \n",
       "\n",
       "             tech_star   fan_fav   log_ppv  \n",
       "bouts         0.206693  0.017314  0.071050  \n",
       "attend        0.086307  0.082696  0.203378  \n",
       "ticketrev     0.376835  0.482445  0.596661  \n",
       "ppv           0.109618  0.696544  0.945756  \n",
       "tvrate        0.245589  0.385764  0.636035  \n",
       "strikes       0.262923 -0.067027 -0.115967  \n",
       "takedowns    -0.135149  0.012439  0.036711  \n",
       "submission   -0.194055 -0.014245  0.046193  \n",
       "passes       -0.160358 -0.014714 -0.056578  \n",
       "lightfights   0.202710 -0.137984 -0.352749  \n",
       "heavyfights  -0.113310  0.155375  0.410474  \n",
       "women         0.136400  0.029770 -0.082990  \n",
       "men           0.060810 -0.009038  0.120958  \n",
       "belts         0.208931  0.333440  0.206176  \n",
       "KO            0.247999  0.018460  0.115108  \n",
       "DEC           0.035361  0.013724 -0.028123  \n",
       "SUB          -0.222247 -0.080926 -0.103044  \n",
       "Other        -0.033025  0.155267  0.114884  \n",
       "rematch       0.060199 -0.075084 -0.050113  \n",
       "rival         0.198668  0.191269  0.263060  \n",
       "rounds        0.179346 -0.009062 -0.037491  \n",
       "tottime       0.133046  0.009503 -0.048620  \n",
       "fightnum      0.216868 -0.032935 -0.191897  \n",
       "tech_star     1.000000  0.119637  0.121231  \n",
       "fan_fav       0.119637  1.000000  0.684376  \n",
       "log_ppv       0.121231  0.684376  1.000000  \n",
       "\n",
       "[26 rows x 26 columns]"
      ]
     },
     "execution_count": 525,
     "metadata": {},
     "output_type": "execute_result"
    }
   ],
   "source": [
    "dataset2.corr()"
   ]
  },
  {
   "cell_type": "code",
   "execution_count": 40,
   "metadata": {
    "collapsed": true
   },
   "outputs": [
    {
     "data": {
      "text/plain": [
       "Text(0.5,1,'PPV Buys vs Ticket Revenue')"
      ]
     },
     "execution_count": 40,
     "metadata": {},
     "output_type": "execute_result"
    },
    {
     "data": {
      "image/png": "[encoded data removed]",
      "text/plain": [
       "<matplotlib.figure.Figure at 0x1a1d48f080>"
      ]
     },
     "metadata": {},
     "output_type": "display_data"
    }
   ],
   "source": [
    "# Plot correlation between ticket revenue and ppv buys\n",
    "plt.plot(dataset2.ticketrev,dataset2.log_ppv,'r.')\n",
    "# plt.plot(dataset2.ticketrev,dataset2.ppv,'b.')\n",
    "plt.xlabel('Ticket Revenue')\n",
    "plt.ylabel('PPV Buys')\n",
    "plt.title('PPV Buys vs Ticket Revenue')"
   ]
  },
  {
   "cell_type": "code",
   "execution_count": 41,
   "metadata": {},
   "outputs": [
    {
     "data": {
      "text/plain": [
       "Text(0.5,1,'PPV Buys By UFC Fight')"
      ]
     },
     "execution_count": 41,
     "metadata": {},
     "output_type": "execute_result"
    },
    {
     "data": {
      "image/png": "[encoded data removed]",
      "text/plain": [
       "<matplotlib.figure.Figure at 0x1a1c7426d8>"
      ]
     },
     "metadata": {},
     "output_type": "display_data"
    }
   ],
   "source": [
    "# Create horizontal bar graph and color bars red if it surpasses 1 million PPV Buys\n",
    "\n",
    "colors = ['red' if (x > 1000000) else 'blue' for x in dataset2['ppv']]\n",
    "fights = dataset2.fightnum\n",
    "\n",
    "values = dataset2.ppv\n",
    "# Create barplot \n",
    "ax = plt.figure(figsize=(30,20))\n",
    "ax = sns.barplot(x=values,y=fights,palette=colors, orient='h')\n",
    "plt.xlabel('PPV Buys')\n",
    "plt.ylabel('UFC Fight')\n",
    "plt.title('PPV Buys By UFC Fight')\n"
   ]
  },
  {
   "cell_type": "markdown",
   "metadata": {},
   "source": [
    "### Find correlation between all variables"
   ]
  },
  {
   "cell_type": "code",
   "execution_count": 42,
   "metadata": {},
   "outputs": [
    {
     "data": {
      "text/plain": [
       "Index(['fight', 'bouts', 'attend', 'ticketrev', 'ppv', 'tvrate', 'strikes',\n",
       "       'takedowns', 'submission', 'passes', 'lightfights', 'heavyfights',\n",
       "       'women', 'men', 'belts', 'KO', 'DEC', 'SUB', 'Other', 'rematch',\n",
       "       'rival', 'megastar', 'rounds', 'tottime', 'fightnum', 'tech_star',\n",
       "       'log_ppv'],\n",
       "      dtype='object')"
      ]
     },
     "execution_count": 42,
     "metadata": {},
     "output_type": "execute_result"
    }
   ],
   "source": [
    "dataset2.columns"
   ]
  },
  {
   "cell_type": "code",
   "execution_count": 648,
   "metadata": {},
   "outputs": [
    {
     "data": {
      "text/plain": [
       "Text(0.5,1,'Log of PPV Buys vs. Number of Light Weight Fights')"
      ]
     },
     "execution_count": 648,
     "metadata": {},
     "output_type": "execute_result"
    },
    {
     "data": {
      "image/png": "[encoded data removed]",
      "text/plain": [
       "<matplotlib.figure.Figure at 0x1c2ae4b2b0>"
      ]
     },
     "metadata": {},
     "output_type": "display_data"
    }
   ],
   "source": [
    "#Create joint plots on three of the highest correlation values\n",
    "seaborn.jointplot(x='lightfights', y='log_ppv', data = dataset2, kind = 'reg', size = 8, color = 'b')\n",
    "plt.xlabel('Number of Light Weight Fights')\n",
    "plt.ylabel(\"Log of PPV Buys\")\n",
    "plt.title('Log of PPV Buys vs. Number of Light Weight Fights')"
   ]
  },
  {
   "cell_type": "code",
   "execution_count": 486,
   "metadata": {},
   "outputs": [
    {
     "data": {
      "text/plain": [
       "Text(0.5,1,'Number of Log PPV Buys vs. Number of Fan Favorites')"
      ]
     },
     "execution_count": 486,
     "metadata": {},
     "output_type": "execute_result"
    },
    {
     "data": {
      "image/png": "[encoded data removed]",
      "text/plain": [
       "<matplotlib.figure.Figure at 0x1c227fb588>"
      ]
     },
     "metadata": {},
     "output_type": "display_data"
    }
   ],
   "source": [
    "\n",
    "seaborn.jointplot(x='megastar', y='log_ppv', data = dataset2, kind = 'reg', size = 8, color = 'g')\n",
    "plt.xlabel('Number of Fan Favorites')\n",
    "# fig.axes.set_xticklabels([str(int(x/1e3)) for x in plt.axes.get_xticks()]);\n",
    "plt.ylabel(\"Number of Log PPV Buys\")\n",
    "plt.title('Number of Log PPV Buys vs. Number of Fan Favorites')"
   ]
  },
  {
   "cell_type": "code",
   "execution_count": 1134,
   "metadata": {},
   "outputs": [
    {
     "data": {
      "text/plain": [
       "Text(0.5,1,'Number of Log PPV Buys vs. Ticket Revenue')"
      ]
     },
     "execution_count": 1134,
     "metadata": {},
     "output_type": "execute_result"
    },
    {
     "data": {
      "image/png": "[encoded data removed]",
      "text/plain": [
       "<matplotlib.figure.Figure at 0x1c2afc0400>"
      ]
     },
     "metadata": {},
     "output_type": "display_data"
    }
   ],
   "source": [
    "import seaborn\n",
    "seaborn.jointplot(x='ticketrev', y='log_ppv', data = dataset2, kind = 'reg', size = 8, color = 'r')\n",
    "plt.xlabel('Ticket Revenue')\n",
    "plt.ylabel(\"Number of Log PPV Buys\")\n",
    "plt.title('Number of Log PPV Buys vs. Ticket Revenue')"
   ]
  },
  {
   "cell_type": "markdown",
   "metadata": {},
   "source": [
    "## II. Regression Modeling"
   ]
  },
  {
   "cell_type": "code",
   "execution_count": 32,
   "metadata": {},
   "outputs": [
    {
     "data": {
      "text/html": [
       "<table class=\"simpletable\">\n",
       "<caption>OLS Regression Results</caption>\n",
       "<tr>\n",
       "  <th>Dep. Variable:</th>           <td>ppv</td>       <th>  R-squared:         </th> <td>   0.785</td>\n",
       "</tr>\n",
       "<tr>\n",
       "  <th>Model:</th>                   <td>OLS</td>       <th>  Adj. R-squared:    </th> <td>   0.764</td>\n",
       "</tr>\n",
       "<tr>\n",
       "  <th>Method:</th>             <td>Least Squares</td>  <th>  F-statistic:       </th> <td>   37.55</td>\n",
       "</tr>\n",
       "<tr>\n",
       "  <th>Date:</th>             <td>Fri, 02 Feb 2018</td> <th>  Prob (F-statistic):</th> <td>6.08e-30</td>\n",
       "</tr>\n",
       "<tr>\n",
       "  <th>Time:</th>                 <td>12:42:59</td>     <th>  Log-Likelihood:    </th> <td> -1518.7</td>\n",
       "</tr>\n",
       "<tr>\n",
       "  <th>No. Observations:</th>      <td>   114</td>      <th>  AIC:               </th> <td>   3059.</td>\n",
       "</tr>\n",
       "<tr>\n",
       "  <th>Df Residuals:</th>          <td>   103</td>      <th>  BIC:               </th> <td>   3090.</td>\n",
       "</tr>\n",
       "<tr>\n",
       "  <th>Df Model:</th>              <td>    10</td>      <th>                     </th>     <td> </td>   \n",
       "</tr>\n",
       "<tr>\n",
       "  <th>Covariance Type:</th>      <td>nonrobust</td>    <th>                     </th>     <td> </td>   \n",
       "</tr>\n",
       "</table>\n",
       "<table class=\"simpletable\">\n",
       "<tr>\n",
       "       <td></td>          <th>coef</th>     <th>std err</th>      <th>t</th>      <th>P>|t|</th>  <th>[0.025</th>    <th>0.975]</th>  \n",
       "</tr>\n",
       "<tr>\n",
       "  <th>Intercept</th>   <td>-2.182e+05</td> <td> 1.98e+05</td> <td>   -1.105</td> <td> 0.272</td> <td> -6.1e+05</td> <td> 1.74e+05</td>\n",
       "</tr>\n",
       "<tr>\n",
       "  <th>attend</th>      <td>   -1.2186</td> <td>    2.565</td> <td>   -0.475</td> <td> 0.636</td> <td>   -6.307</td> <td>    3.869</td>\n",
       "</tr>\n",
       "<tr>\n",
       "  <th>ticketrev</th>   <td>    0.0482</td> <td>    0.009</td> <td>    5.224</td> <td> 0.000</td> <td>    0.030</td> <td>    0.066</td>\n",
       "</tr>\n",
       "<tr>\n",
       "  <th>tvrate</th>      <td>    0.2663</td> <td>    0.053</td> <td>    5.048</td> <td> 0.000</td> <td>    0.162</td> <td>    0.371</td>\n",
       "</tr>\n",
       "<tr>\n",
       "  <th>lightfights</th> <td>-1195.4218</td> <td> 1.83e+04</td> <td>   -0.065</td> <td> 0.948</td> <td>-3.75e+04</td> <td> 3.51e+04</td>\n",
       "</tr>\n",
       "<tr>\n",
       "  <th>heavyfights</th> <td> 3.629e+04</td> <td> 1.88e+04</td> <td>    1.932</td> <td> 0.056</td> <td> -970.333</td> <td> 7.35e+04</td>\n",
       "</tr>\n",
       "<tr>\n",
       "  <th>women</th>       <td> 5.212e+04</td> <td> 2.02e+04</td> <td>    2.578</td> <td> 0.011</td> <td>  1.2e+04</td> <td> 9.22e+04</td>\n",
       "</tr>\n",
       "<tr>\n",
       "  <th>belts</th>       <td> 3.457e+04</td> <td> 2.49e+04</td> <td>    1.388</td> <td> 0.168</td> <td>-1.48e+04</td> <td>  8.4e+04</td>\n",
       "</tr>\n",
       "<tr>\n",
       "  <th>tech_star</th>   <td>-3.489e+04</td> <td>    1e+04</td> <td>   -3.486</td> <td> 0.001</td> <td>-5.47e+04</td> <td> -1.5e+04</td>\n",
       "</tr>\n",
       "<tr>\n",
       "  <th>rival</th>       <td> 1.207e+05</td> <td> 3.15e+04</td> <td>    3.825</td> <td> 0.000</td> <td> 5.81e+04</td> <td> 1.83e+05</td>\n",
       "</tr>\n",
       "<tr>\n",
       "  <th>fan_fav</th>     <td> 1.719e+05</td> <td> 3.04e+04</td> <td>    5.645</td> <td> 0.000</td> <td> 1.11e+05</td> <td> 2.32e+05</td>\n",
       "</tr>\n",
       "</table>\n",
       "<table class=\"simpletable\">\n",
       "<tr>\n",
       "  <th>Omnibus:</th>       <td>13.466</td> <th>  Durbin-Watson:     </th> <td>   2.258</td>\n",
       "</tr>\n",
       "<tr>\n",
       "  <th>Prob(Omnibus):</th> <td> 0.001</td> <th>  Jarque-Bera (JB):  </th> <td>  15.431</td>\n",
       "</tr>\n",
       "<tr>\n",
       "  <th>Skew:</th>          <td> 0.712</td> <th>  Prob(JB):          </th> <td>0.000446</td>\n",
       "</tr>\n",
       "<tr>\n",
       "  <th>Kurtosis:</th>      <td> 4.106</td> <th>  Cond. No.          </th> <td>5.71e+07</td>\n",
       "</tr>\n",
       "</table>"
      ],
      "text/plain": [
       "<class 'statsmodels.iolib.summary.Summary'>\n",
       "\"\"\"\n",
       "                            OLS Regression Results                            \n",
       "==============================================================================\n",
       "Dep. Variable:                    ppv   R-squared:                       0.785\n",
       "Model:                            OLS   Adj. R-squared:                  0.764\n",
       "Method:                 Least Squares   F-statistic:                     37.55\n",
       "Date:                Fri, 02 Feb 2018   Prob (F-statistic):           6.08e-30\n",
       "Time:                        12:42:59   Log-Likelihood:                -1518.7\n",
       "No. Observations:                 114   AIC:                             3059.\n",
       "Df Residuals:                     103   BIC:                             3090.\n",
       "Df Model:                          10                                         \n",
       "Covariance Type:            nonrobust                                         \n",
       "===============================================================================\n",
       "                  coef    std err          t      P>|t|      [0.025      0.975]\n",
       "-------------------------------------------------------------------------------\n",
       "Intercept   -2.182e+05   1.98e+05     -1.105      0.272    -6.1e+05    1.74e+05\n",
       "attend         -1.2186      2.565     -0.475      0.636      -6.307       3.869\n",
       "ticketrev       0.0482      0.009      5.224      0.000       0.030       0.066\n",
       "tvrate          0.2663      0.053      5.048      0.000       0.162       0.371\n",
       "lightfights -1195.4218   1.83e+04     -0.065      0.948   -3.75e+04    3.51e+04\n",
       "heavyfights  3.629e+04   1.88e+04      1.932      0.056    -970.333    7.35e+04\n",
       "women        5.212e+04   2.02e+04      2.578      0.011     1.2e+04    9.22e+04\n",
       "belts        3.457e+04   2.49e+04      1.388      0.168   -1.48e+04     8.4e+04\n",
       "tech_star   -3.489e+04      1e+04     -3.486      0.001   -5.47e+04    -1.5e+04\n",
       "rival        1.207e+05   3.15e+04      3.825      0.000    5.81e+04    1.83e+05\n",
       "fan_fav      1.719e+05   3.04e+04      5.645      0.000    1.11e+05    2.32e+05\n",
       "==============================================================================\n",
       "Omnibus:                       13.466   Durbin-Watson:                   2.258\n",
       "Prob(Omnibus):                  0.001   Jarque-Bera (JB):               15.431\n",
       "Skew:                           0.712   Prob(JB):                     0.000446\n",
       "Kurtosis:                       4.106   Cond. No.                     5.71e+07\n",
       "==============================================================================\n",
       "\n",
       "Warnings:\n",
       "[1] Standard Errors assume that the covariance matrix of the errors is correctly specified.\n",
       "[2] The condition number is large, 5.71e+07. This might indicate that there are\n",
       "strong multicollinearity or other numerical problems.\n",
       "\"\"\""
      ]
     },
     "execution_count": 32,
     "metadata": {},
     "output_type": "execute_result"
    }
   ],
   "source": [
    "import statsmodels.formula.api as smf\n",
    "model = smf.ols('ppv ~attend+ticketrev+tvrate+lightfights+heavyfights+women+belts+tech_star+rival+fan_fav',data=dataset2)\n",
    "fit = model.fit()\n",
    "fit.summary()\n",
    "#Although r2 is greater here than in log ppv, Omnibus and JB errors are too high. Log ppv model has dramatically reduced\n",
    "#omnibus and JB"
   ]
  },
  {
   "cell_type": "code",
   "execution_count": 35,
   "metadata": {},
   "outputs": [
    {
     "data": {
      "text/html": [
       "<table class=\"simpletable\">\n",
       "<caption>OLS Regression Results</caption>\n",
       "<tr>\n",
       "  <th>Dep. Variable:</th>         <td>log_ppv</td>     <th>  R-squared:         </th> <td>   0.745</td>\n",
       "</tr>\n",
       "<tr>\n",
       "  <th>Model:</th>                   <td>OLS</td>       <th>  Adj. R-squared:    </th> <td>   0.720</td>\n",
       "</tr>\n",
       "<tr>\n",
       "  <th>Method:</th>             <td>Least Squares</td>  <th>  F-statistic:       </th> <td>   30.08</td>\n",
       "</tr>\n",
       "<tr>\n",
       "  <th>Date:</th>             <td>Fri, 02 Feb 2018</td> <th>  Prob (F-statistic):</th> <td>3.13e-26</td>\n",
       "</tr>\n",
       "<tr>\n",
       "  <th>Time:</th>                 <td>12:43:30</td>     <th>  Log-Likelihood:    </th> <td> -31.470</td>\n",
       "</tr>\n",
       "<tr>\n",
       "  <th>No. Observations:</th>      <td>   114</td>      <th>  AIC:               </th> <td>   84.94</td>\n",
       "</tr>\n",
       "<tr>\n",
       "  <th>Df Residuals:</th>          <td>   103</td>      <th>  BIC:               </th> <td>   115.0</td>\n",
       "</tr>\n",
       "<tr>\n",
       "  <th>Df Model:</th>              <td>    10</td>      <th>                     </th>     <td> </td>   \n",
       "</tr>\n",
       "<tr>\n",
       "  <th>Covariance Type:</th>      <td>nonrobust</td>    <th>                     </th>     <td> </td>   \n",
       "</tr>\n",
       "</table>\n",
       "<table class=\"simpletable\">\n",
       "<tr>\n",
       "       <td></td>          <th>coef</th>     <th>std err</th>      <th>t</th>      <th>P>|t|</th>  <th>[0.025</th>    <th>0.975]</th>  \n",
       "</tr>\n",
       "<tr>\n",
       "  <th>Intercept</th>   <td>   11.1607</td> <td>    0.426</td> <td>   26.178</td> <td> 0.000</td> <td>   10.315</td> <td>   12.006</td>\n",
       "</tr>\n",
       "<tr>\n",
       "  <th>attend</th>      <td>-6.201e-07</td> <td> 5.54e-06</td> <td>   -0.112</td> <td> 0.911</td> <td>-1.16e-05</td> <td> 1.04e-05</td>\n",
       "</tr>\n",
       "<tr>\n",
       "  <th>ticketrev</th>   <td>  5.79e-08</td> <td> 1.99e-08</td> <td>    2.909</td> <td> 0.004</td> <td> 1.84e-08</td> <td> 9.74e-08</td>\n",
       "</tr>\n",
       "<tr>\n",
       "  <th>tvrate</th>      <td> 6.324e-07</td> <td> 1.14e-07</td> <td>    5.554</td> <td> 0.000</td> <td> 4.07e-07</td> <td> 8.58e-07</td>\n",
       "</tr>\n",
       "<tr>\n",
       "  <th>lightfights</th> <td>    0.0181</td> <td>    0.039</td> <td>    0.458</td> <td> 0.648</td> <td>   -0.060</td> <td>    0.096</td>\n",
       "</tr>\n",
       "<tr>\n",
       "  <th>heavyfights</th> <td>    0.0980</td> <td>    0.041</td> <td>    2.416</td> <td> 0.017</td> <td>    0.018</td> <td>    0.178</td>\n",
       "</tr>\n",
       "<tr>\n",
       "  <th>women</th>       <td>    0.0131</td> <td>    0.044</td> <td>    0.300</td> <td> 0.765</td> <td>   -0.073</td> <td>    0.100</td>\n",
       "</tr>\n",
       "<tr>\n",
       "  <th>belts</th>       <td>    0.1053</td> <td>    0.054</td> <td>    1.958</td> <td> 0.053</td> <td>   -0.001</td> <td>    0.212</td>\n",
       "</tr>\n",
       "<tr>\n",
       "  <th>tech_star</th>   <td>   -0.0483</td> <td>    0.022</td> <td>   -2.238</td> <td> 0.027</td> <td>   -0.091</td> <td>   -0.006</td>\n",
       "</tr>\n",
       "<tr>\n",
       "  <th>rival</th>       <td>    0.1959</td> <td>    0.068</td> <td>    2.878</td> <td> 0.005</td> <td>    0.061</td> <td>    0.331</td>\n",
       "</tr>\n",
       "<tr>\n",
       "  <th>fan_fav</th>     <td>    0.3577</td> <td>    0.066</td> <td>    5.444</td> <td> 0.000</td> <td>    0.227</td> <td>    0.488</td>\n",
       "</tr>\n",
       "</table>\n",
       "<table class=\"simpletable\">\n",
       "<tr>\n",
       "  <th>Omnibus:</th>       <td> 1.515</td> <th>  Durbin-Watson:     </th> <td>   2.150</td>\n",
       "</tr>\n",
       "<tr>\n",
       "  <th>Prob(Omnibus):</th> <td> 0.469</td> <th>  Jarque-Bera (JB):  </th> <td>   1.462</td>\n",
       "</tr>\n",
       "<tr>\n",
       "  <th>Skew:</th>          <td>-0.175</td> <th>  Prob(JB):          </th> <td>   0.481</td>\n",
       "</tr>\n",
       "<tr>\n",
       "  <th>Kurtosis:</th>      <td> 2.569</td> <th>  Cond. No.          </th> <td>5.71e+07</td>\n",
       "</tr>\n",
       "</table>"
      ],
      "text/plain": [
       "<class 'statsmodels.iolib.summary.Summary'>\n",
       "\"\"\"\n",
       "                            OLS Regression Results                            \n",
       "==============================================================================\n",
       "Dep. Variable:                log_ppv   R-squared:                       0.745\n",
       "Model:                            OLS   Adj. R-squared:                  0.720\n",
       "Method:                 Least Squares   F-statistic:                     30.08\n",
       "Date:                Fri, 02 Feb 2018   Prob (F-statistic):           3.13e-26\n",
       "Time:                        12:43:30   Log-Likelihood:                -31.470\n",
       "No. Observations:                 114   AIC:                             84.94\n",
       "Df Residuals:                     103   BIC:                             115.0\n",
       "Df Model:                          10                                         \n",
       "Covariance Type:            nonrobust                                         \n",
       "===============================================================================\n",
       "                  coef    std err          t      P>|t|      [0.025      0.975]\n",
       "-------------------------------------------------------------------------------\n",
       "Intercept      11.1607      0.426     26.178      0.000      10.315      12.006\n",
       "attend      -6.201e-07   5.54e-06     -0.112      0.911   -1.16e-05    1.04e-05\n",
       "ticketrev     5.79e-08   1.99e-08      2.909      0.004    1.84e-08    9.74e-08\n",
       "tvrate       6.324e-07   1.14e-07      5.554      0.000    4.07e-07    8.58e-07\n",
       "lightfights     0.0181      0.039      0.458      0.648      -0.060       0.096\n",
       "heavyfights     0.0980      0.041      2.416      0.017       0.018       0.178\n",
       "women           0.0131      0.044      0.300      0.765      -0.073       0.100\n",
       "belts           0.1053      0.054      1.958      0.053      -0.001       0.212\n",
       "tech_star      -0.0483      0.022     -2.238      0.027      -0.091      -0.006\n",
       "rival           0.1959      0.068      2.878      0.005       0.061       0.331\n",
       "fan_fav         0.3577      0.066      5.444      0.000       0.227       0.488\n",
       "==============================================================================\n",
       "Omnibus:                        1.515   Durbin-Watson:                   2.150\n",
       "Prob(Omnibus):                  0.469   Jarque-Bera (JB):                1.462\n",
       "Skew:                          -0.175   Prob(JB):                        0.481\n",
       "Kurtosis:                       2.569   Cond. No.                     5.71e+07\n",
       "==============================================================================\n",
       "\n",
       "Warnings:\n",
       "[1] Standard Errors assume that the covariance matrix of the errors is correctly specified.\n",
       "[2] The condition number is large, 5.71e+07. This might indicate that there are\n",
       "strong multicollinearity or other numerical problems.\n",
       "\"\"\""
      ]
     },
     "execution_count": 35,
     "metadata": {},
     "output_type": "execute_result"
    }
   ],
   "source": [
    "model1 = smf.ols('log_ppv ~ attend+ticketrev+tvrate+lightfights+heavyfights+women+belts+tech_star+rival+fan_fav',data=dataset2)\n",
    "fit1 = model1.fit()\n",
    "fit1.summary()"
   ]
  },
  {
   "cell_type": "code",
   "execution_count": 656,
   "metadata": {
    "collapsed": true
   },
   "outputs": [
    {
     "data": {
      "text/html": [
       "<table class=\"simpletable\">\n",
       "<caption>OLS Regression Results</caption>\n",
       "<tr>\n",
       "  <th>Dep. Variable:</th>         <td>log_ppv</td>     <th>  R-squared:         </th> <td>   0.746</td>\n",
       "</tr>\n",
       "<tr>\n",
       "  <th>Model:</th>                   <td>OLS</td>       <th>  Adj. R-squared:    </th> <td>   0.721</td>\n",
       "</tr>\n",
       "<tr>\n",
       "  <th>Method:</th>             <td>Least Squares</td>  <th>  F-statistic:       </th> <td>   30.22</td>\n",
       "</tr>\n",
       "<tr>\n",
       "  <th>Date:</th>             <td>Wed, 31 Jan 2018</td> <th>  Prob (F-statistic):</th> <td>2.62e-26</td>\n",
       "</tr>\n",
       "<tr>\n",
       "  <th>Time:</th>                 <td>19:25:47</td>     <th>  Log-Likelihood:    </th> <td> -31.269</td>\n",
       "</tr>\n",
       "<tr>\n",
       "  <th>No. Observations:</th>      <td>   114</td>      <th>  AIC:               </th> <td>   84.54</td>\n",
       "</tr>\n",
       "<tr>\n",
       "  <th>Df Residuals:</th>          <td>   103</td>      <th>  BIC:               </th> <td>   114.6</td>\n",
       "</tr>\n",
       "<tr>\n",
       "  <th>Df Model:</th>              <td>    10</td>      <th>                     </th>     <td> </td>   \n",
       "</tr>\n",
       "<tr>\n",
       "  <th>Covariance Type:</th>      <td>nonrobust</td>    <th>                     </th>     <td> </td>   \n",
       "</tr>\n",
       "</table>\n",
       "<table class=\"simpletable\">\n",
       "<tr>\n",
       "        <td></td>           <th>coef</th>     <th>std err</th>      <th>t</th>      <th>P>|t|</th>  <th>[0.025</th>    <th>0.975]</th>  \n",
       "</tr>\n",
       "<tr>\n",
       "  <th>Intercept</th>     <td>    7.9494</td> <td>    1.148</td> <td>    6.923</td> <td> 0.000</td> <td>    5.672</td> <td>   10.227</td>\n",
       "</tr>\n",
       "<tr>\n",
       "  <th>attend</th>        <td>-1.669e-07</td> <td> 5.45e-06</td> <td>   -0.031</td> <td> 0.976</td> <td> -1.1e-05</td> <td> 1.07e-05</td>\n",
       "</tr>\n",
       "<tr>\n",
       "  <th>log_ticketrev</th> <td>    0.2339</td> <td>    0.079</td> <td>    2.976</td> <td> 0.004</td> <td>    0.078</td> <td>    0.390</td>\n",
       "</tr>\n",
       "<tr>\n",
       "  <th>tvrate</th>        <td> 6.384e-07</td> <td> 1.13e-07</td> <td>    5.668</td> <td> 0.000</td> <td> 4.15e-07</td> <td> 8.62e-07</td>\n",
       "</tr>\n",
       "<tr>\n",
       "  <th>lightfights</th>   <td>    0.0088</td> <td>    0.039</td> <td>    0.225</td> <td> 0.822</td> <td>   -0.069</td> <td>    0.086</td>\n",
       "</tr>\n",
       "<tr>\n",
       "  <th>heavyfights</th>   <td>    0.0850</td> <td>    0.040</td> <td>    2.108</td> <td> 0.037</td> <td>    0.005</td> <td>    0.165</td>\n",
       "</tr>\n",
       "<tr>\n",
       "  <th>women</th>         <td>    0.0349</td> <td>    0.043</td> <td>    0.817</td> <td> 0.416</td> <td>   -0.050</td> <td>    0.120</td>\n",
       "</tr>\n",
       "<tr>\n",
       "  <th>belts</th>         <td>    0.1120</td> <td>    0.053</td> <td>    2.106</td> <td> 0.038</td> <td>    0.007</td> <td>    0.218</td>\n",
       "</tr>\n",
       "<tr>\n",
       "  <th>tech_star</th>     <td>   -0.0394</td> <td>    0.021</td> <td>   -1.880</td> <td> 0.063</td> <td>   -0.081</td> <td>    0.002</td>\n",
       "</tr>\n",
       "<tr>\n",
       "  <th>rival</th>         <td>    0.1766</td> <td>    0.068</td> <td>    2.580</td> <td> 0.011</td> <td>    0.041</td> <td>    0.312</td>\n",
       "</tr>\n",
       "<tr>\n",
       "  <th>megastar</th>      <td>    0.3518</td> <td>    0.066</td> <td>    5.325</td> <td> 0.000</td> <td>    0.221</td> <td>    0.483</td>\n",
       "</tr>\n",
       "</table>\n",
       "<table class=\"simpletable\">\n",
       "<tr>\n",
       "  <th>Omnibus:</th>       <td> 1.391</td> <th>  Durbin-Watson:     </th> <td>   2.143</td>\n",
       "</tr>\n",
       "<tr>\n",
       "  <th>Prob(Omnibus):</th> <td> 0.499</td> <th>  Jarque-Bera (JB):  </th> <td>   1.451</td>\n",
       "</tr>\n",
       "<tr>\n",
       "  <th>Skew:</th>          <td>-0.213</td> <th>  Prob(JB):          </th> <td>   0.484</td>\n",
       "</tr>\n",
       "<tr>\n",
       "  <th>Kurtosis:</th>      <td> 2.647</td> <th>  Cond. No.          </th> <td>4.27e+07</td>\n",
       "</tr>\n",
       "</table>"
      ],
      "text/plain": [
       "<class 'statsmodels.iolib.summary.Summary'>\n",
       "\"\"\"\n",
       "                            OLS Regression Results                            \n",
       "==============================================================================\n",
       "Dep. Variable:                log_ppv   R-squared:                       0.746\n",
       "Model:                            OLS   Adj. R-squared:                  0.721\n",
       "Method:                 Least Squares   F-statistic:                     30.22\n",
       "Date:                Wed, 31 Jan 2018   Prob (F-statistic):           2.62e-26\n",
       "Time:                        19:25:47   Log-Likelihood:                -31.269\n",
       "No. Observations:                 114   AIC:                             84.54\n",
       "Df Residuals:                     103   BIC:                             114.6\n",
       "Df Model:                          10                                         \n",
       "Covariance Type:            nonrobust                                         \n",
       "=================================================================================\n",
       "                    coef    std err          t      P>|t|      [0.025      0.975]\n",
       "---------------------------------------------------------------------------------\n",
       "Intercept         7.9494      1.148      6.923      0.000       5.672      10.227\n",
       "attend        -1.669e-07   5.45e-06     -0.031      0.976    -1.1e-05    1.07e-05\n",
       "log_ticketrev     0.2339      0.079      2.976      0.004       0.078       0.390\n",
       "tvrate         6.384e-07   1.13e-07      5.668      0.000    4.15e-07    8.62e-07\n",
       "lightfights       0.0088      0.039      0.225      0.822      -0.069       0.086\n",
       "heavyfights       0.0850      0.040      2.108      0.037       0.005       0.165\n",
       "women             0.0349      0.043      0.817      0.416      -0.050       0.120\n",
       "belts             0.1120      0.053      2.106      0.038       0.007       0.218\n",
       "tech_star        -0.0394      0.021     -1.880      0.063      -0.081       0.002\n",
       "rival             0.1766      0.068      2.580      0.011       0.041       0.312\n",
       "megastar          0.3518      0.066      5.325      0.000       0.221       0.483\n",
       "==============================================================================\n",
       "Omnibus:                        1.391   Durbin-Watson:                   2.143\n",
       "Prob(Omnibus):                  0.499   Jarque-Bera (JB):                1.451\n",
       "Skew:                          -0.213   Prob(JB):                        0.484\n",
       "Kurtosis:                       2.647   Cond. No.                     4.27e+07\n",
       "==============================================================================\n",
       "\n",
       "Warnings:\n",
       "[1] Standard Errors assume that the covariance matrix of the errors is correctly specified.\n",
       "[2] The condition number is large, 4.27e+07. This might indicate that there are\n",
       "strong multicollinearity or other numerical problems.\n",
       "\"\"\""
      ]
     },
     "execution_count": 656,
     "metadata": {},
     "output_type": "execute_result"
    }
   ],
   "source": [
    "#Checking if log ticketrev will improve the model, it only increases r2 by .001 so I will not log ticketrev\n",
    "# model = smf.ols('log_ppv ~ attend+log_ticketrev+tvrate+lightfights+heavyfights+women+belts+tech_star+rival+megastar',data=dataset2)\n",
    "# fit = model.fit()\n",
    "# fit.summary()"
   ]
  },
  {
   "cell_type": "code",
   "execution_count": 36,
   "metadata": {},
   "outputs": [
    {
     "data": {
      "text/plain": [
       "log_ppv        1.000000\n",
       "ppv            0.945756\n",
       "fan_fav        0.684376\n",
       "tvrate         0.636035\n",
       "ticketrev      0.596661\n",
       "heavyfights    0.410474\n",
       "rival          0.263060\n",
       "belts          0.206176\n",
       "attend         0.203378\n",
       "tech_star      0.121231\n",
       "men            0.120958\n",
       "KO             0.115108\n",
       "Other          0.114884\n",
       "bouts          0.071050\n",
       "submission     0.046193\n",
       "takedowns      0.036711\n",
       "DEC           -0.028123\n",
       "rounds        -0.037491\n",
       "tottime       -0.048620\n",
       "rematch       -0.050113\n",
       "passes        -0.056578\n",
       "women         -0.082990\n",
       "SUB           -0.103044\n",
       "strikes       -0.115967\n",
       "fightnum      -0.191897\n",
       "lightfights   -0.352749\n",
       "Name: log_ppv, dtype: float64"
      ]
     },
     "execution_count": 36,
     "metadata": {},
     "output_type": "execute_result"
    }
   ],
   "source": [
    "#Sort the correlations by descending order with respect to log_ppv\n",
    "dataset2.corr()['log_ppv'].sort_values(ascending=False)"
   ]
  },
  {
   "cell_type": "markdown",
   "metadata": {},
   "source": [
    "### Perform Train Test Split To Validate if the model performs well on test data"
   ]
  },
  {
   "cell_type": "code",
   "execution_count": 37,
   "metadata": {},
   "outputs": [
    {
     "data": {
      "text/plain": [
       "0.73951978430411569"
      ]
     },
     "execution_count": 37,
     "metadata": {},
     "output_type": "execute_result"
    }
   ],
   "source": [
    "# Create training and test set model \n",
    "\n",
    "model2 = LinearRegression()\n",
    "\n",
    "X_train,X_test,y_train,y_test = train_test_split(X_var,y_log,test_size = .3)  #Test size will be 30%\n",
    "#Fitting the model against the training data\n",
    "model2.fit(X_train,y_train)\n",
    "model2.score(X_test,y_test) #Our score decreased on the test set but this gives us a more accurate representation of\n",
    "                        #how well the model will actually perform for future data "
   ]
  },
  {
   "cell_type": "code",
   "execution_count": 698,
   "metadata": {},
   "outputs": [
    {
     "data": {
      "text/plain": [
       "' \\n**Creating Linear Regression model using sm**\\nimport patsy\\ny, X = patsy.dmatrices(\\'log_ppv ~ attend+log_ticketrev+tvrate+lightfights+heavyfights+women+belts+tech_star+rival+megastar\\', data=dataset2, return_type=\"dataframe\")\\n\\nmodel = sm.OLS(y, X)\\n\\nfit = model.fit()\\n\\nfit.summary()\\n'"
      ]
     },
     "execution_count": 698,
     "metadata": {},
     "output_type": "execute_result"
    }
   ],
   "source": [
    "''' \n",
    "**Creating Linear Regression model using sm**\n",
    "import patsy\n",
    "y, X = patsy.dmatrices('log_ppv ~ attend+log_ticketrev+tvrate+lightfights+heavyfights+women+belts+tech_star+rival+megastar', data=dataset2, return_type=\"dataframe\")\n",
    "\n",
    "model = sm.OLS(y, X)\n",
    "\n",
    "fit = model.fit()\n",
    "\n",
    "fit.summary()\n",
    "'''"
   ]
  },
  {
   "cell_type": "code",
   "execution_count": 1183,
   "metadata": {},
   "outputs": [
    {
     "data": {
      "text/plain": [
       "Text(0.5,1,'Actual vs Predicted PPV Buys')"
      ]
     },
     "execution_count": 1183,
     "metadata": {},
     "output_type": "execute_result"
    },
    {
     "data": {
      "image/png": "[encoded data removed]",
      "text/plain": [
       "<matplotlib.figure.Figure at 0x1c2653f7f0>"
      ]
     },
     "metadata": {},
     "output_type": "display_data"
    }
   ],
   "source": [
    "#Graph out predicted values vs actual values\n",
    "#Predict against actual values\n",
    "plt.figure(figsize=(15,10))\n",
    "y_predict = model2.predict(X_test)\n",
    "plt.plot(y_test,y_predict,'r.',marker = 'o')\n",
    "\n",
    "plt.xlabel('Actual PPV Buys')\n",
    "plt.ylabel('Predicted PPV Buys')\n",
    "plt.title(\"Actual vs Predicted PPV Buys\")\n"
   ]
  },
  {
   "cell_type": "code",
   "execution_count": 49,
   "metadata": {},
   "outputs": [
    {
     "data": {
      "text/plain": [
       "Text(0.5,1,'Predicted vs. Actual PPV Buy')"
      ]
     },
     "execution_count": 49,
     "metadata": {},
     "output_type": "execute_result"
    },
    {
     "data": {
      "image/png": "[encoded data removed]",
      "text/plain": [
       "<matplotlib.figure.Figure at 0x1c1293e208>"
      ]
     },
     "metadata": {},
     "output_type": "display_data"
    }
   ],
   "source": [
    "y_predict = model2.predict(X_test)\n",
    "data_r['residuals'] = y_test-y_predict\n",
    "data_r['predict'] = y_predict\n",
    "fig, ax = plt.subplots(nrows=1,ncols=2,figsize=(14,5))\n",
    "ax[0].scatter(y_test, y_predict, edgecolors=(1, 1, 1))\n",
    "ax[0].set_xlabel('Actual Log PPV Buys')\n",
    "ax[0].set_ylabel('Predicted Log of PPV Buys')\n",
    "ax[0].set_title('Predicted vs. Actual PPV Buy',fontweight='bold')\n",
    "\n",
    "# ax[1].hist(residuals,bins=15);\n",
    "# ax[1].set_xlabel('Residual')\n",
    "# ax[1].set_ylabel('Count')\n",
    "# ax[1].set_title('Histogram of Residuals',fontweight='bold');\n"
   ]
  },
  {
   "cell_type": "code",
   "execution_count": 45,
   "metadata": {
    "collapsed": true
   },
   "outputs": [],
   "source": [
    "data_r['fightnum'] = dataset2[['fightnum']]"
   ]
  },
  {
   "cell_type": "code",
   "execution_count": 46,
   "metadata": {
    "scrolled": true
   },
   "outputs": [
    {
     "data": {
      "text/html": [
       "<div>\n",
       "<style>\n",
       "    .dataframe thead tr:only-child th {\n",
       "        text-align: right;\n",
       "    }\n",
       "\n",
       "    .dataframe thead th {\n",
       "        text-align: left;\n",
       "    }\n",
       "\n",
       "    .dataframe tbody tr th {\n",
       "        vertical-align: top;\n",
       "    }\n",
       "</style>\n",
       "<table border=\"1\" class=\"dataframe\">\n",
       "  <thead>\n",
       "    <tr style=\"text-align: right;\">\n",
       "      <th></th>\n",
       "      <th>residuals</th>\n",
       "      <th>fightnum</th>\n",
       "    </tr>\n",
       "  </thead>\n",
       "  <tbody>\n",
       "    <tr>\n",
       "      <th>0</th>\n",
       "      <td>NaN</td>\n",
       "      <td>219</td>\n",
       "    </tr>\n",
       "    <tr>\n",
       "      <th>1</th>\n",
       "      <td>NaN</td>\n",
       "      <td>218</td>\n",
       "    </tr>\n",
       "    <tr>\n",
       "      <th>2</th>\n",
       "      <td>NaN</td>\n",
       "      <td>217</td>\n",
       "    </tr>\n",
       "    <tr>\n",
       "      <th>3</th>\n",
       "      <td>NaN</td>\n",
       "      <td>216</td>\n",
       "    </tr>\n",
       "    <tr>\n",
       "      <th>4</th>\n",
       "      <td>0.121677</td>\n",
       "      <td>215</td>\n",
       "    </tr>\n",
       "    <tr>\n",
       "      <th>5</th>\n",
       "      <td>NaN</td>\n",
       "      <td>214</td>\n",
       "    </tr>\n",
       "    <tr>\n",
       "      <th>6</th>\n",
       "      <td>NaN</td>\n",
       "      <td>213</td>\n",
       "    </tr>\n",
       "    <tr>\n",
       "      <th>7</th>\n",
       "      <td>NaN</td>\n",
       "      <td>212</td>\n",
       "    </tr>\n",
       "    <tr>\n",
       "      <th>8</th>\n",
       "      <td>NaN</td>\n",
       "      <td>211</td>\n",
       "    </tr>\n",
       "    <tr>\n",
       "      <th>9</th>\n",
       "      <td>NaN</td>\n",
       "      <td>210</td>\n",
       "    </tr>\n",
       "    <tr>\n",
       "      <th>10</th>\n",
       "      <td>NaN</td>\n",
       "      <td>209</td>\n",
       "    </tr>\n",
       "    <tr>\n",
       "      <th>11</th>\n",
       "      <td>-0.254850</td>\n",
       "      <td>208</td>\n",
       "    </tr>\n",
       "    <tr>\n",
       "      <th>12</th>\n",
       "      <td>NaN</td>\n",
       "      <td>207</td>\n",
       "    </tr>\n",
       "    <tr>\n",
       "      <th>13</th>\n",
       "      <td>NaN</td>\n",
       "      <td>206</td>\n",
       "    </tr>\n",
       "    <tr>\n",
       "      <th>14</th>\n",
       "      <td>NaN</td>\n",
       "      <td>205</td>\n",
       "    </tr>\n",
       "    <tr>\n",
       "      <th>15</th>\n",
       "      <td>NaN</td>\n",
       "      <td>204</td>\n",
       "    </tr>\n",
       "    <tr>\n",
       "      <th>16</th>\n",
       "      <td>NaN</td>\n",
       "      <td>203</td>\n",
       "    </tr>\n",
       "    <tr>\n",
       "      <th>17</th>\n",
       "      <td>NaN</td>\n",
       "      <td>202</td>\n",
       "    </tr>\n",
       "    <tr>\n",
       "      <th>18</th>\n",
       "      <td>-0.082176</td>\n",
       "      <td>201</td>\n",
       "    </tr>\n",
       "    <tr>\n",
       "      <th>19</th>\n",
       "      <td>0.252376</td>\n",
       "      <td>200</td>\n",
       "    </tr>\n",
       "    <tr>\n",
       "      <th>20</th>\n",
       "      <td>0.125595</td>\n",
       "      <td>199</td>\n",
       "    </tr>\n",
       "    <tr>\n",
       "      <th>21</th>\n",
       "      <td>NaN</td>\n",
       "      <td>198</td>\n",
       "    </tr>\n",
       "    <tr>\n",
       "      <th>22</th>\n",
       "      <td>-0.260180</td>\n",
       "      <td>197</td>\n",
       "    </tr>\n",
       "    <tr>\n",
       "      <th>23</th>\n",
       "      <td>NaN</td>\n",
       "      <td>196</td>\n",
       "    </tr>\n",
       "    <tr>\n",
       "      <th>24</th>\n",
       "      <td>-0.028784</td>\n",
       "      <td>195</td>\n",
       "    </tr>\n",
       "    <tr>\n",
       "      <th>25</th>\n",
       "      <td>-0.058425</td>\n",
       "      <td>194</td>\n",
       "    </tr>\n",
       "    <tr>\n",
       "      <th>26</th>\n",
       "      <td>NaN</td>\n",
       "      <td>193</td>\n",
       "    </tr>\n",
       "    <tr>\n",
       "      <th>27</th>\n",
       "      <td>NaN</td>\n",
       "      <td>192</td>\n",
       "    </tr>\n",
       "    <tr>\n",
       "      <th>28</th>\n",
       "      <td>-0.218795</td>\n",
       "      <td>191</td>\n",
       "    </tr>\n",
       "    <tr>\n",
       "      <th>29</th>\n",
       "      <td>NaN</td>\n",
       "      <td>190</td>\n",
       "    </tr>\n",
       "    <tr>\n",
       "      <th>30</th>\n",
       "      <td>-0.106963</td>\n",
       "      <td>189</td>\n",
       "    </tr>\n",
       "    <tr>\n",
       "      <th>31</th>\n",
       "      <td>-0.540708</td>\n",
       "      <td>188</td>\n",
       "    </tr>\n",
       "    <tr>\n",
       "      <th>32</th>\n",
       "      <td>NaN</td>\n",
       "      <td>187</td>\n",
       "    </tr>\n",
       "    <tr>\n",
       "      <th>33</th>\n",
       "      <td>-0.363175</td>\n",
       "      <td>186</td>\n",
       "    </tr>\n",
       "    <tr>\n",
       "      <th>34</th>\n",
       "      <td>NaN</td>\n",
       "      <td>185</td>\n",
       "    </tr>\n",
       "  </tbody>\n",
       "</table>\n",
       "</div>"
      ],
      "text/plain": [
       "    residuals  fightnum\n",
       "0         NaN       219\n",
       "1         NaN       218\n",
       "2         NaN       217\n",
       "3         NaN       216\n",
       "4    0.121677       215\n",
       "5         NaN       214\n",
       "6         NaN       213\n",
       "7         NaN       212\n",
       "8         NaN       211\n",
       "9         NaN       210\n",
       "10        NaN       209\n",
       "11  -0.254850       208\n",
       "12        NaN       207\n",
       "13        NaN       206\n",
       "14        NaN       205\n",
       "15        NaN       204\n",
       "16        NaN       203\n",
       "17        NaN       202\n",
       "18  -0.082176       201\n",
       "19   0.252376       200\n",
       "20   0.125595       199\n",
       "21        NaN       198\n",
       "22  -0.260180       197\n",
       "23        NaN       196\n",
       "24  -0.028784       195\n",
       "25  -0.058425       194\n",
       "26        NaN       193\n",
       "27        NaN       192\n",
       "28  -0.218795       191\n",
       "29        NaN       190\n",
       "30  -0.106963       189\n",
       "31  -0.540708       188\n",
       "32        NaN       187\n",
       "33  -0.363175       186\n",
       "34        NaN       185"
      ]
     },
     "execution_count": 46,
     "metadata": {},
     "output_type": "execute_result"
    }
   ],
   "source": [
    "data_r"
   ]
  },
  {
   "cell_type": "code",
   "execution_count": 48,
   "metadata": {},
   "outputs": [
    {
     "data": {
      "text/plain": [
       "Text(0.5,1,'Residuals over Time')"
      ]
     },
     "execution_count": 48,
     "metadata": {},
     "output_type": "execute_result"
    },
    {
     "data": {
      "image/png": "[encoded data removed]",
      "text/plain": [
       "<matplotlib.figure.Figure at 0x1c127a3748>"
      ]
     },
     "metadata": {},
     "output_type": "display_data"
    }
   ],
   "source": [
    "plt.figure(figsize=(15,10))\n",
    "plt.plot(data_r.fightnum,data_r.residuals,'b.',marker = 'o')\n",
    "plt.xlabel('Fight Number (Time)')\n",
    "plt.ylabel('Residuals')\n",
    "plt.title(\"Residuals over Time\")\n"
   ]
  },
  {
   "cell_type": "code",
   "execution_count": 53,
   "metadata": {},
   "outputs": [
    {
     "data": {
      "text/plain": [
       "[<matplotlib.lines.Line2D at 0x1c13f0f748>]"
      ]
     },
     "execution_count": 53,
     "metadata": {},
     "output_type": "execute_result"
    },
    {
     "data": {
      "image/png": "[encoded data removed]",
      "text/plain": [
       "<matplotlib.figure.Figure at 0x1c13dc6ac8>"
      ]
     },
     "metadata": {},
     "output_type": "display_data"
    }
   ],
   "source": [
    "# Residual plot: plot residuals vs predicted\n",
    "\n",
    "# data_r['residuals']= y_test-data_r.predict\n",
    "plt.plot(data_r['predict'], data_r['residuals'],'b.')"
   ]
  },
  {
   "cell_type": "code",
   "execution_count": 1185,
   "metadata": {
    "scrolled": true
   },
   "outputs": [
    {
     "data": {
      "text/plain": [
       "Text(0.5,1,'Residual Counts')"
      ]
     },
     "execution_count": 1185,
     "metadata": {},
     "output_type": "execute_result"
    },
    {
     "data": {
      "image/png": "[encoded data removed]",
      "text/plain": [
       "<matplotlib.figure.Figure at 0x1c24cb9a90>"
      ]
     },
     "metadata": {},
     "output_type": "display_data"
    }
   ],
   "source": [
    "plt.figure(figsize=(15,10))\n",
    "plt.plot(residuals,'b.',marker='o')\n",
    "plt.xlabel('Count')\n",
    "plt.ylabel('Residuals')\n",
    "plt.title(\"Residual Counts\")"
   ]
  },
  {
   "cell_type": "code",
   "execution_count": 1166,
   "metadata": {},
   "outputs": [
    {
     "data": {
      "text/plain": [
       "[<matplotlib.lines.Line2D at 0x1c26ce1320>]"
      ]
     },
     "execution_count": 1166,
     "metadata": {},
     "output_type": "execute_result"
    },
    {
     "data": {
      "image/png": "[encoded data removed]",
      "text/plain": [
       "<matplotlib.figure.Figure at 0x1c29cb70f0>"
      ]
     },
     "metadata": {},
     "output_type": "display_data"
    }
   ],
   "source": [
    "plt.plot(y_predict,residuals,'g.')"
   ]
  },
  {
   "cell_type": "code",
   "execution_count": 61,
   "metadata": {},
   "outputs": [
    {
     "data": {
      "image/png": "[encoded data removed]",
      "text/plain": [
       "<matplotlib.figure.Figure at 0x1c13dd0390>"
      ]
     },
     "metadata": {},
     "output_type": "display_data"
    }
   ],
   "source": [
    "\n",
    "probplot(data_r['residuals'], dist=\"norm\", plot=plt)\n",
    "plt.title(\"Normal Q-Q plot\")\n",
    "plt.show()"
   ]
  },
  {
   "cell_type": "markdown",
   "metadata": {},
   "source": [
    "### Find train and test errors"
   ]
  },
  {
   "cell_type": "code",
   "execution_count": 711,
   "metadata": {
    "collapsed": true
   },
   "outputs": [],
   "source": [
    "#Create the y_pred_train to find y predicted train error\n",
    "y_pred_train = model2.predict(X_train)"
   ]
  },
  {
   "cell_type": "code",
   "execution_count": 712,
   "metadata": {
    "collapsed": true
   },
   "outputs": [],
   "source": [
    "#Create the y_pred_test error to find y predicted test error\n",
    "y_pred_test = model2.predict(X_test)"
   ]
  },
  {
   "cell_type": "code",
   "execution_count": 713,
   "metadata": {
    "collapsed": true
   },
   "outputs": [],
   "source": [
    "#Find the mean absolute error and mean squared error\n",
    "\n",
    "from sklearn.metrics import mean_squared_error\n",
    "from sklearn.metrics import mean_absolute_error\n",
    "mae_train = mean_absolute_error(y_train,y_pred_train)\n",
    "mse_train = mean_squared_error(y_train,y_pred_train)\n",
    "\n",
    "mae_test = mean_absolute_error(y_test,y_pred_test)\n",
    "mse_test = mean_squared_error(y_test,y_pred_test)\n",
    "\n"
   ]
  },
  {
   "cell_type": "code",
   "execution_count": 718,
   "metadata": {
    "collapsed": true
   },
   "outputs": [
    {
     "data": {
      "text/plain": [
       "(array([[ 13.2050151 ],\n",
       "        [ 12.48236464],\n",
       "        [ 12.18243166],\n",
       "        [ 12.36304695],\n",
       "        [ 12.04357123],\n",
       "        [ 13.95280427],\n",
       "        [ 13.16873759],\n",
       "        [ 14.40020029],\n",
       "        [ 13.16821975],\n",
       "        [ 12.98932657],\n",
       "        [ 12.19626505],\n",
       "        [ 12.55115694],\n",
       "        [ 13.22063115],\n",
       "        [ 12.83105315],\n",
       "        [ 13.1295266 ],\n",
       "        [ 13.00672271],\n",
       "        [ 12.51642704],\n",
       "        [ 12.14555403],\n",
       "        [ 12.20231436],\n",
       "        [ 12.11312635],\n",
       "        [ 13.48107622],\n",
       "        [ 12.50430841],\n",
       "        [ 12.47273672],\n",
       "        [ 13.2738102 ],\n",
       "        [ 12.99713024],\n",
       "        [ 12.62019022],\n",
       "        [ 12.86429556],\n",
       "        [ 14.73600071],\n",
       "        [ 12.37378111],\n",
       "        [ 12.58787746],\n",
       "        [ 12.76874373],\n",
       "        [ 14.1865606 ],\n",
       "        [ 13.31269771],\n",
       "        [ 13.19085737],\n",
       "        [ 12.6528339 ]]),        log_ppv\n",
       " 14   13.161584\n",
       " 29   12.765688\n",
       " 85   11.652687\n",
       " 89   12.345835\n",
       " 68   12.278393\n",
       " 90   14.090867\n",
       " 70   13.171154\n",
       " 88   13.997832\n",
       " 32   13.161584\n",
       " 12   13.161584\n",
       " 100  11.918391\n",
       " 17   13.190022\n",
       " 1    13.652992\n",
       " 60   12.644328\n",
       " 54   13.180632\n",
       " 47   13.017003\n",
       " 81   12.834681\n",
       " 46   12.154779\n",
       " 59   12.506177\n",
       " 109  11.512925\n",
       " 101  13.910821\n",
       " 33   12.323856\n",
       " 55   12.847927\n",
       " 13   13.864301\n",
       " 108  13.664688\n",
       " 18   12.594731\n",
       " 3    12.834681\n",
       " 0    14.077875\n",
       " 82   12.611538\n",
       " 74   12.154779\n",
       " 45   12.367341\n",
       " 63   13.840203\n",
       " 57   13.217674\n",
       " 62   13.353475\n",
       " 67   12.765688)"
      ]
     },
     "execution_count": 718,
     "metadata": {},
     "output_type": "execute_result"
    }
   ],
   "source": [
    "y_pred_test,y_test"
   ]
  },
  {
   "cell_type": "code",
   "execution_count": 714,
   "metadata": {},
   "outputs": [
    {
     "data": {
      "text/plain": [
       "0.24997090345011294"
      ]
     },
     "execution_count": 714,
     "metadata": {},
     "output_type": "execute_result"
    }
   ],
   "source": [
    "mae_train"
   ]
  },
  {
   "cell_type": "code",
   "execution_count": 715,
   "metadata": {},
   "outputs": [
    {
     "data": {
      "text/plain": [
       "0.10060474740204579"
      ]
     },
     "execution_count": 715,
     "metadata": {},
     "output_type": "execute_result"
    }
   ],
   "source": [
    "mse_train"
   ]
  },
  {
   "cell_type": "code",
   "execution_count": 716,
   "metadata": {},
   "outputs": [
    {
     "data": {
      "text/plain": [
       "0.26870784486413135"
      ]
     },
     "execution_count": 716,
     "metadata": {},
     "output_type": "execute_result"
    }
   ],
   "source": [
    "mae_test"
   ]
  },
  {
   "cell_type": "code",
   "execution_count": 717,
   "metadata": {},
   "outputs": [
    {
     "data": {
      "text/plain": [
       "0.11580326376199075"
      ]
     },
     "execution_count": 717,
     "metadata": {},
     "output_type": "execute_result"
    }
   ],
   "source": [
    "mse_test"
   ]
  },
  {
   "cell_type": "markdown",
   "metadata": {},
   "source": [
    "### Check Accuracy of this model using Cross Validation"
   ]
  },
  {
   "cell_type": "code",
   "execution_count": 842,
   "metadata": {
    "collapsed": true
   },
   "outputs": [],
   "source": [
    "from sklearn.cross_validation import cross_val_score\n",
    "lr = LinearRegression()\n",
    "mse_scores = cross_val_score(lr,X_var,y_log,cv = 10, scoring = 'mean_squared_error')"
   ]
  },
  {
   "cell_type": "code",
   "execution_count": 843,
   "metadata": {},
   "outputs": [
    {
     "data": {
      "text/plain": [
       "array([-0.14142662, -0.12250485, -0.05748421, -0.08970899, -0.13183877,\n",
       "       -0.08930316, -0.08887079, -0.10901969, -0.17150133, -0.2547803 ])"
      ]
     },
     "execution_count": 843,
     "metadata": {},
     "output_type": "execute_result"
    }
   ],
   "source": [
    "mse_scores"
   ]
  },
  {
   "cell_type": "code",
   "execution_count": 844,
   "metadata": {},
   "outputs": [
    {
     "data": {
      "text/plain": [
       "0.12564387096575055"
      ]
     },
     "execution_count": 844,
     "metadata": {},
     "output_type": "execute_result"
    }
   ],
   "source": [
    "-np.mean(mse_scores)"
   ]
  },
  {
   "cell_type": "code",
   "execution_count": 755,
   "metadata": {
    "collapsed": true
   },
   "outputs": [],
   "source": [
    "mae_scores = cross_val_score(lr,X_var,y_log,cv = 10, scoring = 'mean_absolute_error')"
   ]
  },
  {
   "cell_type": "code",
   "execution_count": 756,
   "metadata": {},
   "outputs": [
    {
     "data": {
      "text/plain": [
       "0.28104484276830222"
      ]
     },
     "execution_count": 756,
     "metadata": {},
     "output_type": "execute_result"
    }
   ],
   "source": [
    "-np.mean(mae_scores)"
   ]
  },
  {
   "cell_type": "code",
   "execution_count": 847,
   "metadata": {
    "collapsed": true
   },
   "outputs": [],
   "source": [
    "r_scores = cross_val_score(lr,X_var,y_log,cv = 10, scoring = 'r2')"
   ]
  },
  {
   "cell_type": "code",
   "execution_count": 848,
   "metadata": {},
   "outputs": [
    {
     "data": {
      "text/plain": [
       "array([ 0.42844388,  0.38651257,  0.46698242,  0.68177179,  0.54362758,\n",
       "        0.69063108,  0.7855099 ,  0.82058802,  0.74463588,  0.38780459])"
      ]
     },
     "execution_count": 848,
     "metadata": {},
     "output_type": "execute_result"
    }
   ],
   "source": [
    "r_scores"
   ]
  },
  {
   "cell_type": "code",
   "execution_count": 849,
   "metadata": {},
   "outputs": [
    {
     "data": {
      "text/plain": [
       "0.59365077112581766"
      ]
     },
     "execution_count": 849,
     "metadata": {},
     "output_type": "execute_result"
    }
   ],
   "source": [
    "np.mean(r_scores)"
   ]
  },
  {
   "cell_type": "markdown",
   "metadata": {},
   "source": [
    "### Perform K-Fold Regression"
   ]
  },
  {
   "cell_type": "code",
   "execution_count": 856,
   "metadata": {
    "collapsed": true
   },
   "outputs": [],
   "source": [
    "#K-Fold Regression \n",
    "#Define the model\n",
    "\n",
    "model3 = LinearRegression()\n",
    "rscores = []\n",
    "kf = KFold(n=len(X_var),n_folds = 10 , shuffle = True)  # Performing a 10 - Fold Test\n",
    "for train, test in kf:  #Assigning my train and test sets\n",
    "    X_train = X_var.iloc[train]\n",
    "    y_train = y_log.iloc[train]\n",
    "    X_test = X_var.iloc[test]\n",
    "    y_test = y_log.iloc[test]\n",
    "    pvals = []\n",
    "    sign_cols = []\n",
    "for feature in X_train.columns:\n",
    "    pval = f_select.f_regression(X_train[[feature]],y_train)\n",
    "    if pval[1][0] < .02:  #If the p value is statistically significant, column name will be added into sign column\n",
    "        sign_cols.append(feature)\n",
    "        pvals.append(pval[1][0])\n",
    "        model3.fit(X_train[sign_cols],y_train)  # fit the model with the training set\n",
    "        r2 = model3.score(X_test[sign_cols],y_test)  # using the fit model, find R_2 for the test sets\n",
    "        rscores.append(r2)\n"
   ]
  },
  {
   "cell_type": "code",
   "execution_count": 857,
   "metadata": {},
   "outputs": [
    {
     "data": {
      "text/plain": [
       "[0.52252838128539536,\n",
       " 0.50901743015510337,\n",
       " 0.51939856948695373,\n",
       " 0.64315437900610695,\n",
       " 0.66685356694579312]"
      ]
     },
     "execution_count": 857,
     "metadata": {},
     "output_type": "execute_result"
    }
   ],
   "source": [
    "rscores"
   ]
  },
  {
   "cell_type": "code",
   "execution_count": 858,
   "metadata": {},
   "outputs": [
    {
     "data": {
      "text/plain": [
       "0.57219046537587048"
      ]
     },
     "execution_count": 858,
     "metadata": {},
     "output_type": "execute_result"
    }
   ],
   "source": [
    "np.mean(rscores)"
   ]
  },
  {
   "cell_type": "code",
   "execution_count": 811,
   "metadata": {},
   "outputs": [
    {
     "data": {
      "text/plain": [
       "array([[  4.42044758e-08,   5.95455196e-07,  -8.43523829e-03,\n",
       "          7.02021170e-02,   1.02943915e-01,   1.78497846e-01,\n",
       "          3.71222423e-01]])"
      ]
     },
     "execution_count": 811,
     "metadata": {},
     "output_type": "execute_result"
    }
   ],
   "source": [
    "# Print out the coefficients of the model\n",
    "model3.coef_"
   ]
  },
  {
   "cell_type": "code",
   "execution_count": 812,
   "metadata": {},
   "outputs": [
    {
     "data": {
      "text/plain": [
       "['ticketrev',\n",
       " 'tvrate',\n",
       " 'lightfights',\n",
       " 'heavyfights',\n",
       " 'belts',\n",
       " 'rival',\n",
       " 'fan_fav']"
      ]
     },
     "execution_count": 812,
     "metadata": {},
     "output_type": "execute_result"
    }
   ],
   "source": [
    "sign_cols"
   ]
  },
  {
   "cell_type": "code",
   "execution_count": 813,
   "metadata": {},
   "outputs": [
    {
     "name": "stdout",
     "output_type": "stream",
     "text": [
      "[ 11.37980714]\n"
     ]
    }
   ],
   "source": [
    "# print out the intercept \n",
    "print(model3.intercept_)"
   ]
  },
  {
   "cell_type": "code",
   "execution_count": 807,
   "metadata": {},
   "outputs": [
    {
     "data": {
      "text/html": [
       "<div>\n",
       "<style>\n",
       "    .dataframe thead tr:only-child th {\n",
       "        text-align: right;\n",
       "    }\n",
       "\n",
       "    .dataframe thead th {\n",
       "        text-align: left;\n",
       "    }\n",
       "\n",
       "    .dataframe tbody tr th {\n",
       "        vertical-align: top;\n",
       "    }\n",
       "</style>\n",
       "<table border=\"1\" class=\"dataframe\">\n",
       "  <thead>\n",
       "    <tr style=\"text-align: right;\">\n",
       "      <th></th>\n",
       "      <th>fight</th>\n",
       "      <th>bouts</th>\n",
       "      <th>attend</th>\n",
       "      <th>ticketrev</th>\n",
       "      <th>ppv</th>\n",
       "      <th>tvrate</th>\n",
       "      <th>strikes</th>\n",
       "      <th>takedowns</th>\n",
       "      <th>submission</th>\n",
       "      <th>passes</th>\n",
       "      <th>lightfights</th>\n",
       "      <th>heavyfights</th>\n",
       "      <th>women</th>\n",
       "      <th>men</th>\n",
       "      <th>belts</th>\n",
       "      <th>KO</th>\n",
       "      <th>DEC</th>\n",
       "      <th>SUB</th>\n",
       "      <th>Other</th>\n",
       "      <th>rematch</th>\n",
       "      <th>rival</th>\n",
       "      <th>rounds</th>\n",
       "      <th>tottime</th>\n",
       "      <th>fightnum</th>\n",
       "      <th>tech_star</th>\n",
       "      <th>fan_fav</th>\n",
       "      <th>log_ppv</th>\n",
       "    </tr>\n",
       "  </thead>\n",
       "  <tbody>\n",
       "    <tr>\n",
       "      <th>0</th>\n",
       "      <td>UFC 100</td>\n",
       "      <td>11</td>\n",
       "      <td>10871.0</td>\n",
       "      <td>5128490.0</td>\n",
       "      <td>1300000</td>\n",
       "      <td>1.103868e+06</td>\n",
       "      <td>538</td>\n",
       "      <td>33</td>\n",
       "      <td>17</td>\n",
       "      <td>31</td>\n",
       "      <td>2</td>\n",
       "      <td>9</td>\n",
       "      <td>0</td>\n",
       "      <td>11</td>\n",
       "      <td>2</td>\n",
       "      <td>2</td>\n",
       "      <td>6</td>\n",
       "      <td>3</td>\n",
       "      <td>0</td>\n",
       "      <td>1</td>\n",
       "      <td>2</td>\n",
       "      <td>28</td>\n",
       "      <td>7153</td>\n",
       "      <td>100</td>\n",
       "      <td>3</td>\n",
       "      <td>3</td>\n",
       "      <td>14.077875</td>\n",
       "    </tr>\n",
       "    <tr>\n",
       "      <th>1</th>\n",
       "      <td>UFC 101</td>\n",
       "      <td>11</td>\n",
       "      <td>17411.0</td>\n",
       "      <td>3560852.0</td>\n",
       "      <td>850000</td>\n",
       "      <td>1.103868e+06</td>\n",
       "      <td>514</td>\n",
       "      <td>30</td>\n",
       "      <td>11</td>\n",
       "      <td>43</td>\n",
       "      <td>4</td>\n",
       "      <td>7</td>\n",
       "      <td>0</td>\n",
       "      <td>11</td>\n",
       "      <td>1</td>\n",
       "      <td>3</td>\n",
       "      <td>6</td>\n",
       "      <td>2</td>\n",
       "      <td>0</td>\n",
       "      <td>0</td>\n",
       "      <td>0</td>\n",
       "      <td>29</td>\n",
       "      <td>7457</td>\n",
       "      <td>101</td>\n",
       "      <td>2</td>\n",
       "      <td>1</td>\n",
       "      <td>13.652992</td>\n",
       "    </tr>\n",
       "    <tr>\n",
       "      <th>2</th>\n",
       "      <td>UFC 102</td>\n",
       "      <td>11</td>\n",
       "      <td>16088.0</td>\n",
       "      <td>1920000.0</td>\n",
       "      <td>435000</td>\n",
       "      <td>1.103868e+06</td>\n",
       "      <td>482</td>\n",
       "      <td>26</td>\n",
       "      <td>10</td>\n",
       "      <td>25</td>\n",
       "      <td>1</td>\n",
       "      <td>10</td>\n",
       "      <td>0</td>\n",
       "      <td>11</td>\n",
       "      <td>0</td>\n",
       "      <td>5</td>\n",
       "      <td>5</td>\n",
       "      <td>1</td>\n",
       "      <td>0</td>\n",
       "      <td>0</td>\n",
       "      <td>0</td>\n",
       "      <td>24</td>\n",
       "      <td>5074</td>\n",
       "      <td>102</td>\n",
       "      <td>2</td>\n",
       "      <td>0</td>\n",
       "      <td>12.983101</td>\n",
       "    </tr>\n",
       "    <tr>\n",
       "      <th>3</th>\n",
       "      <td>UFC 103</td>\n",
       "      <td>13</td>\n",
       "      <td>17428.0</td>\n",
       "      <td>2400000.0</td>\n",
       "      <td>375000</td>\n",
       "      <td>1.400000e+06</td>\n",
       "      <td>648</td>\n",
       "      <td>22</td>\n",
       "      <td>9</td>\n",
       "      <td>21</td>\n",
       "      <td>5</td>\n",
       "      <td>8</td>\n",
       "      <td>0</td>\n",
       "      <td>13</td>\n",
       "      <td>0</td>\n",
       "      <td>7</td>\n",
       "      <td>4</td>\n",
       "      <td>2</td>\n",
       "      <td>0</td>\n",
       "      <td>0</td>\n",
       "      <td>0</td>\n",
       "      <td>27</td>\n",
       "      <td>5366</td>\n",
       "      <td>103</td>\n",
       "      <td>3</td>\n",
       "      <td>0</td>\n",
       "      <td>12.834681</td>\n",
       "    </tr>\n",
       "    <tr>\n",
       "      <th>4</th>\n",
       "      <td>UFC 104</td>\n",
       "      <td>11</td>\n",
       "      <td>14892.0</td>\n",
       "      <td>1913093.0</td>\n",
       "      <td>500000</td>\n",
       "      <td>1.400000e+06</td>\n",
       "      <td>694</td>\n",
       "      <td>31</td>\n",
       "      <td>8</td>\n",
       "      <td>21</td>\n",
       "      <td>2</td>\n",
       "      <td>9</td>\n",
       "      <td>0</td>\n",
       "      <td>11</td>\n",
       "      <td>1</td>\n",
       "      <td>5</td>\n",
       "      <td>5</td>\n",
       "      <td>1</td>\n",
       "      <td>0</td>\n",
       "      <td>0</td>\n",
       "      <td>0</td>\n",
       "      <td>28</td>\n",
       "      <td>6626</td>\n",
       "      <td>104</td>\n",
       "      <td>4</td>\n",
       "      <td>0</td>\n",
       "      <td>13.122363</td>\n",
       "    </tr>\n",
       "  </tbody>\n",
       "</table>\n",
       "</div>"
      ],
      "text/plain": [
       "     fight  bouts   attend  ticketrev      ppv        tvrate  strikes  \\\n",
       "0  UFC 100     11  10871.0  5128490.0  1300000  1.103868e+06      538   \n",
       "1  UFC 101     11  17411.0  3560852.0   850000  1.103868e+06      514   \n",
       "2  UFC 102     11  16088.0  1920000.0   435000  1.103868e+06      482   \n",
       "3  UFC 103     13  17428.0  2400000.0   375000  1.400000e+06      648   \n",
       "4  UFC 104     11  14892.0  1913093.0   500000  1.400000e+06      694   \n",
       "\n",
       "   takedowns  submission  passes  lightfights  heavyfights  women  men  belts  \\\n",
       "0         33          17      31            2            9      0   11      2   \n",
       "1         30          11      43            4            7      0   11      1   \n",
       "2         26          10      25            1           10      0   11      0   \n",
       "3         22           9      21            5            8      0   13      0   \n",
       "4         31           8      21            2            9      0   11      1   \n",
       "\n",
       "   KO  DEC  SUB  Other  rematch  rival  rounds  tottime  fightnum  tech_star  \\\n",
       "0   2    6    3      0        1      2      28     7153       100          3   \n",
       "1   3    6    2      0        0      0      29     7457       101          2   \n",
       "2   5    5    1      0        0      0      24     5074       102          2   \n",
       "3   7    4    2      0        0      0      27     5366       103          3   \n",
       "4   5    5    1      0        0      0      28     6626       104          4   \n",
       "\n",
       "   fan_fav    log_ppv  \n",
       "0        3  14.077875  \n",
       "1        1  13.652992  \n",
       "2        0  12.983101  \n",
       "3        0  12.834681  \n",
       "4        0  13.122363  "
      ]
     },
     "execution_count": 807,
     "metadata": {},
     "output_type": "execute_result"
    }
   ],
   "source": [
    "\n",
    "pd.set_option('display.max_columns', 500)\n",
    "dataset2.head()"
   ]
  },
  {
   "cell_type": "code",
   "execution_count": null,
   "metadata": {
    "collapsed": true
   },
   "outputs": [],
   "source": [
    "### Find the Train and Test Error by Polynomial degree"
   ]
  },
  {
   "cell_type": "code",
   "execution_count": 113,
   "metadata": {
    "collapsed": true
   },
   "outputs": [],
   "source": [
    "# Checking the accuracy of the model based on mean squared error\n",
    "\n",
    "\n",
    "# Step through degrees from 0 to 9 and store the training and test (generalization) error.\n",
    "# create array of zeros,\n",
    "\n"
   ]
  },
  {
   "cell_type": "code",
   "execution_count": 137,
   "metadata": {
    "collapsed": true
   },
   "outputs": [],
   "source": [
    "#Find the error test and training error for tvrevenue and ppv buys by polynomial degree\n"
   ]
  },
  {
   "cell_type": "code",
   "execution_count": 280,
   "metadata": {
    "collapsed": true
   },
   "outputs": [],
   "source": [
    "##Use the significant features that K-Fold Regression determined\n",
    "X2 = dataset2[['ticketrev', 'tvrate', 'lightfights', 'heavyfights', 'rival', 'megastar']].values\n",
    "y2 = dataset2.log_ppv.values"
   ]
  },
  {
   "cell_type": "code",
   "execution_count": 253,
   "metadata": {
    "collapsed": true
   },
   "outputs": [
    {
     "data": {
      "text/html": [
       "<div>\n",
       "<style>\n",
       "    .dataframe thead tr:only-child th {\n",
       "        text-align: right;\n",
       "    }\n",
       "\n",
       "    .dataframe thead th {\n",
       "        text-align: left;\n",
       "    }\n",
       "\n",
       "    .dataframe tbody tr th {\n",
       "        vertical-align: top;\n",
       "    }\n",
       "</style>\n",
       "<table border=\"1\" class=\"dataframe\">\n",
       "  <thead>\n",
       "    <tr style=\"text-align: right;\">\n",
       "      <th></th>\n",
       "      <th>fight</th>\n",
       "      <th>bouts</th>\n",
       "      <th>attend</th>\n",
       "      <th>ticketrev</th>\n",
       "      <th>ppv</th>\n",
       "      <th>tvrate</th>\n",
       "      <th>strikes</th>\n",
       "      <th>takedowns</th>\n",
       "      <th>submission</th>\n",
       "      <th>passes</th>\n",
       "      <th>...</th>\n",
       "      <th>Other</th>\n",
       "      <th>rematch</th>\n",
       "      <th>rival</th>\n",
       "      <th>megastar</th>\n",
       "      <th>rounds</th>\n",
       "      <th>tottime</th>\n",
       "      <th>fightnum</th>\n",
       "      <th>tech_star</th>\n",
       "      <th>log_ppv</th>\n",
       "      <th>log_ticketrev</th>\n",
       "    </tr>\n",
       "  </thead>\n",
       "  <tbody>\n",
       "    <tr>\n",
       "      <th>0</th>\n",
       "      <td>UFC 100</td>\n",
       "      <td>11</td>\n",
       "      <td>10871.0</td>\n",
       "      <td>5128490.0</td>\n",
       "      <td>1300000</td>\n",
       "      <td>1.103868e+06</td>\n",
       "      <td>538</td>\n",
       "      <td>33</td>\n",
       "      <td>17</td>\n",
       "      <td>31</td>\n",
       "      <td>...</td>\n",
       "      <td>0</td>\n",
       "      <td>1</td>\n",
       "      <td>2</td>\n",
       "      <td>3</td>\n",
       "      <td>28</td>\n",
       "      <td>7153</td>\n",
       "      <td>100</td>\n",
       "      <td>3</td>\n",
       "      <td>14.077875</td>\n",
       "      <td>15.450322</td>\n",
       "    </tr>\n",
       "    <tr>\n",
       "      <th>1</th>\n",
       "      <td>UFC 101</td>\n",
       "      <td>11</td>\n",
       "      <td>17411.0</td>\n",
       "      <td>3560852.0</td>\n",
       "      <td>850000</td>\n",
       "      <td>1.103868e+06</td>\n",
       "      <td>514</td>\n",
       "      <td>30</td>\n",
       "      <td>11</td>\n",
       "      <td>43</td>\n",
       "      <td>...</td>\n",
       "      <td>0</td>\n",
       "      <td>0</td>\n",
       "      <td>0</td>\n",
       "      <td>1</td>\n",
       "      <td>29</td>\n",
       "      <td>7457</td>\n",
       "      <td>101</td>\n",
       "      <td>2</td>\n",
       "      <td>13.652992</td>\n",
       "      <td>15.085510</td>\n",
       "    </tr>\n",
       "    <tr>\n",
       "      <th>2</th>\n",
       "      <td>UFC 102</td>\n",
       "      <td>11</td>\n",
       "      <td>16088.0</td>\n",
       "      <td>1920000.0</td>\n",
       "      <td>435000</td>\n",
       "      <td>1.103868e+06</td>\n",
       "      <td>482</td>\n",
       "      <td>26</td>\n",
       "      <td>10</td>\n",
       "      <td>25</td>\n",
       "      <td>...</td>\n",
       "      <td>0</td>\n",
       "      <td>0</td>\n",
       "      <td>0</td>\n",
       "      <td>0</td>\n",
       "      <td>24</td>\n",
       "      <td>5074</td>\n",
       "      <td>102</td>\n",
       "      <td>2</td>\n",
       "      <td>12.983101</td>\n",
       "      <td>14.467836</td>\n",
       "    </tr>\n",
       "    <tr>\n",
       "      <th>3</th>\n",
       "      <td>UFC 103</td>\n",
       "      <td>13</td>\n",
       "      <td>17428.0</td>\n",
       "      <td>2400000.0</td>\n",
       "      <td>375000</td>\n",
       "      <td>1.400000e+06</td>\n",
       "      <td>648</td>\n",
       "      <td>22</td>\n",
       "      <td>9</td>\n",
       "      <td>21</td>\n",
       "      <td>...</td>\n",
       "      <td>0</td>\n",
       "      <td>0</td>\n",
       "      <td>0</td>\n",
       "      <td>0</td>\n",
       "      <td>27</td>\n",
       "      <td>5366</td>\n",
       "      <td>103</td>\n",
       "      <td>3</td>\n",
       "      <td>12.834681</td>\n",
       "      <td>14.690979</td>\n",
       "    </tr>\n",
       "    <tr>\n",
       "      <th>4</th>\n",
       "      <td>UFC 104</td>\n",
       "      <td>11</td>\n",
       "      <td>14892.0</td>\n",
       "      <td>1913093.0</td>\n",
       "      <td>500000</td>\n",
       "      <td>1.400000e+06</td>\n",
       "      <td>694</td>\n",
       "      <td>31</td>\n",
       "      <td>8</td>\n",
       "      <td>21</td>\n",
       "      <td>...</td>\n",
       "      <td>0</td>\n",
       "      <td>0</td>\n",
       "      <td>0</td>\n",
       "      <td>0</td>\n",
       "      <td>28</td>\n",
       "      <td>6626</td>\n",
       "      <td>104</td>\n",
       "      <td>4</td>\n",
       "      <td>13.122363</td>\n",
       "      <td>14.464232</td>\n",
       "    </tr>\n",
       "  </tbody>\n",
       "</table>\n",
       "<p>5 rows × 28 columns</p>\n",
       "</div>"
      ],
      "text/plain": [
       "     fight  bouts   attend  ticketrev      ppv        tvrate  strikes  \\\n",
       "0  UFC 100     11  10871.0  5128490.0  1300000  1.103868e+06      538   \n",
       "1  UFC 101     11  17411.0  3560852.0   850000  1.103868e+06      514   \n",
       "2  UFC 102     11  16088.0  1920000.0   435000  1.103868e+06      482   \n",
       "3  UFC 103     13  17428.0  2400000.0   375000  1.400000e+06      648   \n",
       "4  UFC 104     11  14892.0  1913093.0   500000  1.400000e+06      694   \n",
       "\n",
       "   takedowns  submission  passes      ...        Other  rematch  rival  \\\n",
       "0         33          17      31      ...            0        1      2   \n",
       "1         30          11      43      ...            0        0      0   \n",
       "2         26          10      25      ...            0        0      0   \n",
       "3         22           9      21      ...            0        0      0   \n",
       "4         31           8      21      ...            0        0      0   \n",
       "\n",
       "   megastar  rounds  tottime  fightnum  tech_star    log_ppv  log_ticketrev  \n",
       "0         3      28     7153       100          3  14.077875      15.450322  \n",
       "1         1      29     7457       101          2  13.652992      15.085510  \n",
       "2         0      24     5074       102          2  12.983101      14.467836  \n",
       "3         0      27     5366       103          3  12.834681      14.690979  \n",
       "4         0      28     6626       104          4  13.122363      14.464232  \n",
       "\n",
       "[5 rows x 28 columns]"
      ]
     },
     "execution_count": 253,
     "metadata": {},
     "output_type": "execute_result"
    }
   ],
   "source": [
    "dataset2.head()"
   ]
  },
  {
   "cell_type": "code",
   "execution_count": 296,
   "metadata": {
    "collapsed": true
   },
   "outputs": [],
   "source": [
    "X_train, X_test, y_train, y_test = train_test_split(X2, y2, test_size=0.8)"
   ]
  },
  {
   "cell_type": "code",
   "execution_count": 300,
   "metadata": {},
   "outputs": [
    {
     "data": {
      "text/plain": [
       "Text(0.5,1,'Mean Squared Error by Polynomial Degree')"
      ]
     },
     "execution_count": 300,
     "metadata": {},
     "output_type": "execute_result"
    },
    {
     "data": {
      "image/png": "[encoded data removed]",
      "text/plain": [
       "<matplotlib.figure.Figure at 0x1c25236518>"
      ]
     },
     "metadata": {},
     "output_type": "display_data"
    }
   ],
   "source": [
    "train_error = np.empty(6)\n",
    "test_error = np.empty(6)\n",
    "for degree in range(6):\n",
    "    model3 = make_pipeline(PolynomialFeatures(degree), LinearRegression())\n",
    "    model3.fit(X_train, y_train)\n",
    "    train_error[degree] = mean_squared_error(y_train, model3.predict(X_train))\n",
    "    test_error[degree] = mean_squared_error(y_test, model3.predict(X_test))\n",
    "\n",
    "# Plot the training and test errors against degree\n",
    "plt.figure(figsize=(15,10))\n",
    "plt.plot(np.arange(6), train_error, color='b', label='train')\n",
    "plt.plot(np.arange(6), test_error, color='red', label='test')\n",
    "plt.ylim((1e-30, 1))\n",
    "plt.xlim((0,5))\n",
    "plt.ylabel('Mean Squared Error')\n",
    "plt.xlabel('Polynomial Degree')\n",
    "plt.legend(loc='upper right')\n",
    "plt.title('Mean Squared Error by Polynomial Degree')"
   ]
  },
  {
   "cell_type": "markdown",
   "metadata": {},
   "source": [
    "### Perform cross validation with Ridge"
   ]
  },
  {
   "cell_type": "code",
   "execution_count": 869,
   "metadata": {},
   "outputs": [
    {
     "data": {
      "text/plain": [
       "0.76471061808695784"
      ]
     },
     "execution_count": 869,
     "metadata": {},
     "output_type": "execute_result"
    }
   ],
   "source": [
    "X_train, X_test, y_train, y_test = train_test_split(X_var, y_log, test_size=0.3)\n",
    "\n",
    "rcv_model = RidgeCV(cv=10)\n",
    "\n",
    "rcv_model.fit(X_var, y_log)\n",
    "rcv_model.score(X_test, y_test)\n"
   ]
  },
  {
   "cell_type": "markdown",
   "metadata": {},
   "source": [
    "### Determine optimal alpha with ElasticNet that will minimize MSE"
   ]
  },
  {
   "cell_type": "code",
   "execution_count": 1079,
   "metadata": {
    "collapsed": true
   },
   "outputs": [
    {
     "data": {
      "text/html": [
       "<div>\n",
       "<style>\n",
       "    .dataframe thead tr:only-child th {\n",
       "        text-align: right;\n",
       "    }\n",
       "\n",
       "    .dataframe thead th {\n",
       "        text-align: left;\n",
       "    }\n",
       "\n",
       "    .dataframe tbody tr th {\n",
       "        vertical-align: top;\n",
       "    }\n",
       "</style>\n",
       "<table border=\"1\" class=\"dataframe\">\n",
       "  <thead>\n",
       "    <tr style=\"text-align: right;\">\n",
       "      <th></th>\n",
       "      <th>fight</th>\n",
       "      <th>bouts</th>\n",
       "      <th>attend</th>\n",
       "      <th>ticketrev</th>\n",
       "      <th>ppv</th>\n",
       "      <th>tvrate</th>\n",
       "      <th>strikes</th>\n",
       "      <th>takedowns</th>\n",
       "      <th>submission</th>\n",
       "      <th>passes</th>\n",
       "      <th>lightfights</th>\n",
       "      <th>heavyfights</th>\n",
       "      <th>women</th>\n",
       "      <th>men</th>\n",
       "      <th>belts</th>\n",
       "      <th>KO</th>\n",
       "      <th>DEC</th>\n",
       "      <th>SUB</th>\n",
       "      <th>Other</th>\n",
       "      <th>rematch</th>\n",
       "      <th>rival</th>\n",
       "      <th>rounds</th>\n",
       "      <th>tottime</th>\n",
       "      <th>fightnum</th>\n",
       "      <th>tech_star</th>\n",
       "      <th>fan_fav</th>\n",
       "      <th>log_ppv</th>\n",
       "    </tr>\n",
       "  </thead>\n",
       "  <tbody>\n",
       "    <tr>\n",
       "      <th>0</th>\n",
       "      <td>UFC 100</td>\n",
       "      <td>11</td>\n",
       "      <td>10871.0</td>\n",
       "      <td>5128490.0</td>\n",
       "      <td>1300000</td>\n",
       "      <td>1.103868e+06</td>\n",
       "      <td>538</td>\n",
       "      <td>33</td>\n",
       "      <td>17</td>\n",
       "      <td>31</td>\n",
       "      <td>2</td>\n",
       "      <td>9</td>\n",
       "      <td>0</td>\n",
       "      <td>11</td>\n",
       "      <td>2</td>\n",
       "      <td>2</td>\n",
       "      <td>6</td>\n",
       "      <td>3</td>\n",
       "      <td>0</td>\n",
       "      <td>1</td>\n",
       "      <td>2</td>\n",
       "      <td>28</td>\n",
       "      <td>7153</td>\n",
       "      <td>100</td>\n",
       "      <td>3</td>\n",
       "      <td>3</td>\n",
       "      <td>14.077875</td>\n",
       "    </tr>\n",
       "    <tr>\n",
       "      <th>1</th>\n",
       "      <td>UFC 101</td>\n",
       "      <td>11</td>\n",
       "      <td>17411.0</td>\n",
       "      <td>3560852.0</td>\n",
       "      <td>850000</td>\n",
       "      <td>1.103868e+06</td>\n",
       "      <td>514</td>\n",
       "      <td>30</td>\n",
       "      <td>11</td>\n",
       "      <td>43</td>\n",
       "      <td>4</td>\n",
       "      <td>7</td>\n",
       "      <td>0</td>\n",
       "      <td>11</td>\n",
       "      <td>1</td>\n",
       "      <td>3</td>\n",
       "      <td>6</td>\n",
       "      <td>2</td>\n",
       "      <td>0</td>\n",
       "      <td>0</td>\n",
       "      <td>0</td>\n",
       "      <td>29</td>\n",
       "      <td>7457</td>\n",
       "      <td>101</td>\n",
       "      <td>2</td>\n",
       "      <td>1</td>\n",
       "      <td>13.652992</td>\n",
       "    </tr>\n",
       "    <tr>\n",
       "      <th>2</th>\n",
       "      <td>UFC 102</td>\n",
       "      <td>11</td>\n",
       "      <td>16088.0</td>\n",
       "      <td>1920000.0</td>\n",
       "      <td>435000</td>\n",
       "      <td>1.103868e+06</td>\n",
       "      <td>482</td>\n",
       "      <td>26</td>\n",
       "      <td>10</td>\n",
       "      <td>25</td>\n",
       "      <td>1</td>\n",
       "      <td>10</td>\n",
       "      <td>0</td>\n",
       "      <td>11</td>\n",
       "      <td>0</td>\n",
       "      <td>5</td>\n",
       "      <td>5</td>\n",
       "      <td>1</td>\n",
       "      <td>0</td>\n",
       "      <td>0</td>\n",
       "      <td>0</td>\n",
       "      <td>24</td>\n",
       "      <td>5074</td>\n",
       "      <td>102</td>\n",
       "      <td>2</td>\n",
       "      <td>0</td>\n",
       "      <td>12.983101</td>\n",
       "    </tr>\n",
       "    <tr>\n",
       "      <th>3</th>\n",
       "      <td>UFC 103</td>\n",
       "      <td>13</td>\n",
       "      <td>17428.0</td>\n",
       "      <td>2400000.0</td>\n",
       "      <td>375000</td>\n",
       "      <td>1.400000e+06</td>\n",
       "      <td>648</td>\n",
       "      <td>22</td>\n",
       "      <td>9</td>\n",
       "      <td>21</td>\n",
       "      <td>5</td>\n",
       "      <td>8</td>\n",
       "      <td>0</td>\n",
       "      <td>13</td>\n",
       "      <td>0</td>\n",
       "      <td>7</td>\n",
       "      <td>4</td>\n",
       "      <td>2</td>\n",
       "      <td>0</td>\n",
       "      <td>0</td>\n",
       "      <td>0</td>\n",
       "      <td>27</td>\n",
       "      <td>5366</td>\n",
       "      <td>103</td>\n",
       "      <td>3</td>\n",
       "      <td>0</td>\n",
       "      <td>12.834681</td>\n",
       "    </tr>\n",
       "    <tr>\n",
       "      <th>4</th>\n",
       "      <td>UFC 104</td>\n",
       "      <td>11</td>\n",
       "      <td>14892.0</td>\n",
       "      <td>1913093.0</td>\n",
       "      <td>500000</td>\n",
       "      <td>1.400000e+06</td>\n",
       "      <td>694</td>\n",
       "      <td>31</td>\n",
       "      <td>8</td>\n",
       "      <td>21</td>\n",
       "      <td>2</td>\n",
       "      <td>9</td>\n",
       "      <td>0</td>\n",
       "      <td>11</td>\n",
       "      <td>1</td>\n",
       "      <td>5</td>\n",
       "      <td>5</td>\n",
       "      <td>1</td>\n",
       "      <td>0</td>\n",
       "      <td>0</td>\n",
       "      <td>0</td>\n",
       "      <td>28</td>\n",
       "      <td>6626</td>\n",
       "      <td>104</td>\n",
       "      <td>4</td>\n",
       "      <td>0</td>\n",
       "      <td>13.122363</td>\n",
       "    </tr>\n",
       "  </tbody>\n",
       "</table>\n",
       "</div>"
      ],
      "text/plain": [
       "     fight  bouts   attend  ticketrev      ppv        tvrate  strikes  \\\n",
       "0  UFC 100     11  10871.0  5128490.0  1300000  1.103868e+06      538   \n",
       "1  UFC 101     11  17411.0  3560852.0   850000  1.103868e+06      514   \n",
       "2  UFC 102     11  16088.0  1920000.0   435000  1.103868e+06      482   \n",
       "3  UFC 103     13  17428.0  2400000.0   375000  1.400000e+06      648   \n",
       "4  UFC 104     11  14892.0  1913093.0   500000  1.400000e+06      694   \n",
       "\n",
       "   takedowns  submission  passes  lightfights  heavyfights  women  men  belts  \\\n",
       "0         33          17      31            2            9      0   11      2   \n",
       "1         30          11      43            4            7      0   11      1   \n",
       "2         26          10      25            1           10      0   11      0   \n",
       "3         22           9      21            5            8      0   13      0   \n",
       "4         31           8      21            2            9      0   11      1   \n",
       "\n",
       "   KO  DEC  SUB  Other  rematch  rival  rounds  tottime  fightnum  tech_star  \\\n",
       "0   2    6    3      0        1      2      28     7153       100          3   \n",
       "1   3    6    2      0        0      0      29     7457       101          2   \n",
       "2   5    5    1      0        0      0      24     5074       102          2   \n",
       "3   7    4    2      0        0      0      27     5366       103          3   \n",
       "4   5    5    1      0        0      0      28     6626       104          4   \n",
       "\n",
       "   fan_fav    log_ppv  \n",
       "0        3  14.077875  \n",
       "1        1  13.652992  \n",
       "2        0  12.983101  \n",
       "3        0  12.834681  \n",
       "4        0  13.122363  "
      ]
     },
     "execution_count": 1079,
     "metadata": {},
     "output_type": "execute_result"
    }
   ],
   "source": [
    "dataset2.head()"
   ]
  },
  {
   "cell_type": "code",
   "execution_count": 1080,
   "metadata": {
    "collapsed": true
   },
   "outputs": [],
   "source": [
    "# Use preprocessing package to normalize all the variables\n",
    "dataset2_norm=preprocessing.normalize(dataset2.drop(['fight','fightnum'],1),axis=0)\n",
    "# turn back into a dataframe\n",
    "dataset2_norm=pd.DataFrame(dataset2_norm,columns=['bouts', 'attend', 'ticketrev', 'ppv', 'tvrate', 'strikes',\n",
    "       'takedowns', 'submission', 'passes', 'lightfights', 'heavyfights',\n",
    "       'women', 'men', 'belts', 'KO', 'DEC', 'SUB', 'Other', 'rematch',\n",
    "       'rival', 'rounds', 'tottime', 'tech_star','fan_fav',\n",
    "       'log_ppv'])\n",
    "y_norm=dataset2_norm['log_ppv']\n",
    "X_norm=dataset2_norm.drop(['log_ppv','ppv'],1)"
   ]
  },
  {
   "cell_type": "code",
   "execution_count": 1081,
   "metadata": {},
   "outputs": [
    {
     "data": {
      "image/png": "[encoded data removed]",
      "text/plain": [
       "<matplotlib.figure.Figure at 0x1c2d3f9668>"
      ]
     },
     "metadata": {},
     "output_type": "display_data"
    }
   ],
   "source": [
    "alphas=[1e-10,1e-8,1e-5,1e-3,1e-1,0,1,100]\n",
    "X_train1, X_test1, y_train1, y_test1 = train_test_split(X_norm, y_norm, test_size=0.3)\n",
    "\n",
    "def mse_func(estimator,alpha):\n",
    "    estimator.alpha=alpha\n",
    "    model = estimator.fit(X_train1,y_train1)\n",
    "    mse=mean_squared_error(y_test1, model.predict(X_test1))  \n",
    "    return mse\n",
    "    \n",
    "\n",
    "mse_scores=[]    \n",
    "for a in alphas:    \n",
    "    mse_scores.append(mse_func(ElasticNet(),a))\n",
    "    \n",
    "\n",
    "#plot of model\n",
    "plt.figure(figsize=(8,6))\n",
    "plt.legend()\n",
    "plt.plot(np.log10(alphas),mse_scores)\n",
    "plt.legend()\n",
    "plt.xlabel('alphas')\n",
    "plt.ylabel('MSE')\n",
    "plt.show()"
   ]
  },
  {
   "cell_type": "code",
   "execution_count": 1082,
   "metadata": {},
   "outputs": [
    {
     "data": {
      "text/plain": [
       "2.1902356757317476e-05"
      ]
     },
     "execution_count": 1082,
     "metadata": {},
     "output_type": "execute_result"
    }
   ],
   "source": [
    "# Perform ElasticNet Regression\n",
    "\n",
    "kf = KFold(n=len(X_test1), n_folds=5, shuffle=True)\n",
    "\n",
    "all_mse_scores=[]  #list of MSE Scores for each alpha\n",
    "alphas=[1e-10,1e-8,1e-5,1e-3,1e-1,0,1,100] # alpha(weight) list\n",
    "\n",
    "#Create our test and train sets\n",
    "for train, test in kf:\n",
    "    X_train=X_norm.iloc[train]\n",
    "    y_train=y_norm.iloc[train]\n",
    "    X_test=X_norm.iloc[test]\n",
    "    y_test=y_norm.iloc[test]\n",
    "    mse_score1=[]\n",
    "    for a in alphas:  #Go thru each alpha to check which will produce the lowest MSE score\n",
    "        estimator=ElasticNet(alpha=a)\n",
    "        estimator.fit(X_train,y_train)\n",
    "        mse=mean_squared_error(y_test, estimator.predict(X_test))  \n",
    "        mse_score1.append(mse)\n",
    "    all_mse_scores.append(mse_score1)\n",
    "np.mean(all_mse_scores)"
   ]
  },
  {
   "cell_type": "code",
   "execution_count": 906,
   "metadata": {
    "collapsed": true
   },
   "outputs": [
    {
     "data": {
      "text/plain": [
       "[[2.4260899513845792e-05,\n",
       "  2.4205822744652026e-05,\n",
       "  9.8018535811502164e-06,\n",
       "  1.5084706524979384e-05,\n",
       "  1.5084706524979384e-05,\n",
       "  2.4261394113056159e-05,\n",
       "  1.5084706524979384e-05,\n",
       "  1.5084706524979384e-05],\n",
       " [4.9812432727216679e-05,\n",
       "  4.9766491558761073e-05,\n",
       "  8.4695739365233237e-06,\n",
       "  1.5749673102114151e-05,\n",
       "  1.5749673102114151e-05,\n",
       "  4.9812891016163402e-05,\n",
       "  1.5749673102114151e-05,\n",
       "  1.5749673102114151e-05],\n",
       " [5.6593693043168649e-05,\n",
       "  5.624407152250258e-05,\n",
       "  1.799880780000742e-05,\n",
       "  2.0110804812194795e-05,\n",
       "  2.0110804812194795e-05,\n",
       "  5.6597245749450365e-05,\n",
       "  2.0110804812194795e-05,\n",
       "  2.0110804812194795e-05],\n",
       " [8.9846339804404507e-06,\n",
       "  8.9935475474660724e-06,\n",
       "  6.0433972343630768e-06,\n",
       "  4.1272610839363016e-06,\n",
       "  4.1272610839363016e-06,\n",
       "  8.9845137332474495e-06,\n",
       "  4.1272610839363016e-06,\n",
       "  4.1272610839363016e-06],\n",
       " [4.5229154302466099e-05,\n",
       "  4.503256244692453e-05,\n",
       "  1.0691227114952387e-05,\n",
       "  7.3915914779228509e-06,\n",
       "  7.3915914779228509e-06,\n",
       "  4.523052053624025e-05,\n",
       "  7.3915914779228509e-06,\n",
       "  7.3915914779228509e-06]]"
      ]
     },
     "execution_count": 906,
     "metadata": {},
     "output_type": "execute_result"
    }
   ],
   "source": [
    "all_mse_scores"
   ]
  },
  {
   "cell_type": "code",
   "execution_count": 1083,
   "metadata": {},
   "outputs": [
    {
     "data": {
      "image/png": "[encoded data removed]",
      "text/plain": [
       "<matplotlib.figure.Figure at 0x1c2d3f96d8>"
      ]
     },
     "metadata": {},
     "output_type": "display_data"
    }
   ],
   "source": [
    "# Which alpha is the best for our model ? Looks like alpha= 1e-5\n",
    "plt.figure(figsize=(8,6))\n",
    "\n",
    "plt.legend()\n",
    "for i in range(5):\n",
    "    plt.plot(all_mse_scores[i],label = 'cv %s'%i)\n",
    "plt.legend()\n",
    "plt.xlabel('alphas')\n",
    "plt.ylabel('MSE')\n",
    "plt.show()"
   ]
  },
  {
   "cell_type": "code",
   "execution_count": null,
   "metadata": {
    "collapsed": true
   },
   "outputs": [],
   "source": []
  },
  {
   "cell_type": "code",
   "execution_count": 895,
   "metadata": {},
   "outputs": [
    {
     "data": {
      "text/plain": [
       "1.6228654515946379e-05"
      ]
     },
     "execution_count": 895,
     "metadata": {},
     "output_type": "execute_result"
    }
   ],
   "source": [
    "kf = KFold(n=len(X_test1), n_folds=5, shuffle=True)\n",
    "\n",
    "all_mse_scores=[]  #list of MSE Scores for each alpha\n",
    "alphas=[1e-10,1e-8,1e-5,1e-3,1e-1,0,1,100] # alpha(weight) list\n",
    "\n",
    "#Create our test and train sets\n",
    "for train, test in kf:\n",
    "    X_train=X_norm.iloc[train]\n",
    "    y_train=y_norm.iloc[train]\n",
    "    X_test=X_norm.iloc[test]\n",
    "    y_test=y_norm.iloc[test]\n",
    "    mse_score1=[]\n",
    "    for a in alphas:  #Go thru each alpha to check which will produce the lowest MSE score\n",
    "        estimator=Lasso(alpha=a)\n",
    "        estimator.fit(X_train,y_train)\n",
    "        mse=mean_squared_error(y_test, estimator.predict(X_test))  \n",
    "        mse_score1.append(mse)\n",
    "    all_mse_scores.append(mse_score1)\n",
    "np.mean(all_mse_scores)\n"
   ]
  },
  {
   "cell_type": "code",
   "execution_count": 969,
   "metadata": {},
   "outputs": [
    {
     "data": {
      "text/plain": [
       "[[2.0891307153569103e-05,\n",
       "  2.0824650309567636e-05,\n",
       "  1.631248984756812e-05,\n",
       "  1.8341972087336088e-05,\n",
       "  1.8341972087336088e-05,\n",
       "  2.0891216130650876e-05,\n",
       "  1.8341972087336088e-05,\n",
       "  1.8341972087336088e-05],\n",
       " [7.7750907900220206e-05,\n",
       "  7.6882869755093834e-05,\n",
       "  1.6937041748531939e-06,\n",
       "  9.3641795663839692e-06,\n",
       "  9.3641795663839692e-06,\n",
       "  7.7761641982106706e-05,\n",
       "  9.3641795663839692e-06,\n",
       "  9.3641795663839692e-06],\n",
       " [2.1677255289997593e-05,\n",
       "  2.1395323508557515e-05,\n",
       "  4.981287223767073e-06,\n",
       "  7.5623887486395235e-06,\n",
       "  7.5623887486395235e-06,\n",
       "  2.1679996250538121e-05,\n",
       "  7.5623887486395235e-06,\n",
       "  7.5623887486395235e-06],\n",
       " [1.4248897337264408e-05,\n",
       "  1.4213977044979206e-05,\n",
       "  7.8381260826393345e-06,\n",
       "  9.3724746908868866e-06,\n",
       "  9.3724746908868866e-06,\n",
       "  1.424924267877565e-05,\n",
       "  9.3724746908868866e-06,\n",
       "  9.3724746908868866e-06],\n",
       " [4.9029930907137807e-05,\n",
       "  4.847272944150889e-05,\n",
       "  1.3805356265114297e-05,\n",
       "  1.9201967252850241e-05,\n",
       "  1.9201967252850241e-05,\n",
       "  4.9035254841896379e-05,\n",
       "  1.9201967252850241e-05,\n",
       "  1.9201967252850241e-05]]"
      ]
     },
     "execution_count": 969,
     "metadata": {},
     "output_type": "execute_result"
    }
   ],
   "source": [
    "all_mse_scores"
   ]
  },
  {
   "cell_type": "code",
   "execution_count": 972,
   "metadata": {},
   "outputs": [
    {
     "data": {
      "image/png": "[encoded data removed]",
      "text/plain": [
       "<matplotlib.figure.Figure at 0x1c24c62828>"
      ]
     },
     "metadata": {},
     "output_type": "display_data"
    }
   ],
   "source": [
    "plt.figure(figsize=(10,8))\n",
    "\n",
    "plt.legend()\n",
    "for i in range(5):\n",
    "    plt.plot(all_mse_scores[i],label = 'cv %s'%i)\n",
    "plt.legend()\n",
    "plt.xlabel('Alphas')\n",
    "plt.ylabel('MSE')\n",
    "plt.title('MSE by Alphas')\n",
    "plt.show()"
   ]
  },
  {
   "cell_type": "code",
   "execution_count": 1093,
   "metadata": {
    "collapsed": true
   },
   "outputs": [],
   "source": [
    "from sklearn.linear_model import ElasticNetCV\n",
    "elastic_cv = ElasticNetCV(cv=10,normalize = True,alphas=[\n",
    "                       1e-10,1e-8,1e-5,1e-3,1e-1,0,1,100])\n",
    "elastic_cv.fit(X_train1, y_train1)\n",
    "alpha_elastic = elastic_cv.alpha_\n",
    "elastic_coef = elastic_cv.coef_"
   ]
  },
  {
   "cell_type": "code",
   "execution_count": 1115,
   "metadata": {},
   "outputs": [
    {
     "data": {
      "text/plain": [
       "0.5"
      ]
     },
     "execution_count": 1115,
     "metadata": {},
     "output_type": "execute_result"
    }
   ],
   "source": [
    "elastic_cv.l1_ratio_"
   ]
  },
  {
   "cell_type": "code",
   "execution_count": 1095,
   "metadata": {},
   "outputs": [
    {
     "data": {
      "text/plain": [
       "array([ 0.        ,  0.00087833,  0.02205839,  0.04596545, -0.        ,\n",
       "        0.        ,  0.00840452, -0.        , -0.00097953,  0.01828487,\n",
       "       -0.0014144 ,  0.        ,  0.01088714, -0.00706435,  0.00445365,\n",
       "       -0.        , -0.00092664, -0.00477208,  0.00974569,  0.        ,\n",
       "        0.        , -0.01483029,  0.02298997])"
      ]
     },
     "execution_count": 1095,
     "metadata": {},
     "output_type": "execute_result"
    }
   ],
   "source": [
    "elastic_cv1.coef_"
   ]
  },
  {
   "cell_type": "code",
   "execution_count": 1299,
   "metadata": {},
   "outputs": [
    {
     "data": {
      "text/plain": [
       "0.63888186365287902"
      ]
     },
     "execution_count": 1299,
     "metadata": {},
     "output_type": "execute_result"
    }
   ],
   "source": [
    "elastic_cv1 = ElasticNet(1e-5,l1_ratio=.3) \n",
    "\n",
    "elastic_cv1.fit(X_train1, y_train1)\n",
    "\n",
    "\n",
    "cv_score_elastic = cross_val_score(elastic_cv1, X_train1, y_train1, cv=5, scoring='mean_squared_error')\n",
    "# cv_score_elastic_r2 = cross_val_score(elastic_cv1,X_train1, y_train1, cv=5, scoring='r2')\n",
    "\n",
    "# elastic_cv1.fit(X_test1,y_test1)\n",
    "elastic_cv1.score(X_test1,y_test1)\n"
   ]
  },
  {
   "cell_type": "code",
   "execution_count": 1300,
   "metadata": {},
   "outputs": [
    {
     "data": {
      "text/plain": [
       "0.5"
      ]
     },
     "execution_count": 1300,
     "metadata": {},
     "output_type": "execute_result"
    }
   ],
   "source": [
    "elastic_cv1.l1_ratio"
   ]
  },
  {
   "cell_type": "code",
   "execution_count": 1301,
   "metadata": {},
   "outputs": [
    {
     "data": {
      "text/plain": [
       "7.5015622479941857e-06"
      ]
     },
     "execution_count": 1301,
     "metadata": {},
     "output_type": "execute_result"
    }
   ],
   "source": [
    "np.mean(-cv_score_elastic)"
   ]
  },
  {
   "cell_type": "code",
   "execution_count": 1098,
   "metadata": {},
   "outputs": [
    {
     "data": {
      "text/plain": [
       "0.56556556425986038"
      ]
     },
     "execution_count": 1098,
     "metadata": {},
     "output_type": "execute_result"
    }
   ],
   "source": [
    "np.mean(cv_score_elastic_r2)"
   ]
  },
  {
   "cell_type": "code",
   "execution_count": 1099,
   "metadata": {},
   "outputs": [
    {
     "data": {
      "text/plain": [
       "-8.4601650842017716e-06"
      ]
     },
     "execution_count": 1099,
     "metadata": {},
     "output_type": "execute_result"
    }
   ],
   "source": [
    "np.mean(cv_score_elastic)"
   ]
  },
  {
   "cell_type": "code",
   "execution_count": 1233,
   "metadata": {},
   "outputs": [
    {
     "name": "stdout",
     "output_type": "stream",
     "text": [
      "0.517590513236\n"
     ]
    },
    {
     "data": {
      "text/plain": [
       "0.46545236517468586"
      ]
     },
     "execution_count": 1233,
     "metadata": {},
     "output_type": "execute_result"
    }
   ],
   "source": [
    "#Ridge Regularization\n",
    "\n",
    "ridge_cv = RidgeCV(alphas=[\n",
    "                       1e-10,1e-8,1e-5,1e-3,1e-1,0,1,100],cv=10)\n",
    "ridge_cv.fit(X_train1, y_train1)\n",
    "alpha_ridge = ridge_cv.alpha_\n",
    "ridge_coef = ridge_cv.coef_\n",
    "ridge_cv1 = Ridge(alpha_ridge)\n",
    "ridge_cv1.fit(X_train1,y_train1)\n",
    "\n",
    "print(ridge_cv1.score(X_test1,y_test1))\n",
    "cv_score_ridge = cross_val_score(ridge_cv, X_train1, y_train1, cv=5, scoring='mean_squared_error')\n",
    "cv_score_ridge_r2 = cross_val_score(ridge_cv, X_train1, y_train1, cv=5, scoring='r2')\n",
    "\n",
    "np.mean(cv_score_ridge_r2)"
   ]
  },
  {
   "cell_type": "code",
   "execution_count": 1294,
   "metadata": {},
   "outputs": [
    {
     "name": "stdout",
     "output_type": "stream",
     "text": [
      "1e-08\n"
     ]
    },
    {
     "data": {
      "text/plain": [
       "0.50805494044007615"
      ]
     },
     "execution_count": 1294,
     "metadata": {},
     "output_type": "execute_result"
    }
   ],
   "source": [
    "from sklearn.linear_model import LassoCV\n",
    "lasso_cv = LassoCV(alphas=[\n",
    "                       1e-10,1e-8,1e-5,1e-3,1e-1,0,1,100],cv=10)\n",
    "lasso_cv.fit(X_train1, y_train1)\n",
    "alpha_lasso = lasso_cv.alpha_\n",
    "lasso_coef = lasso_cv.coef_\n",
    "print(alpha_lasso)\n",
    "# print(lassoT_coef)\n",
    "lasso= Lasso(alpha_lasso)\n",
    "lasso.fit(X_train1, y_train1)\n",
    "lasso.score(X_test1, y_test1)"
   ]
  },
  {
   "cell_type": "code",
   "execution_count": 1306,
   "metadata": {},
   "outputs": [
    {
     "name": "stdout",
     "output_type": "stream",
     "text": [
      "0.678095560737\n"
     ]
    },
    {
     "data": {
      "text/plain": [
       "array([ 0.        ,  0.        ,  0.0180136 ,  0.03896534, -0.        ,\n",
       "        0.        ,  0.00306937,  0.        , -0.        ,  0.01423052,\n",
       "       -0.00217794,  0.        ,  0.00394829, -0.00499716,  0.        ,\n",
       "       -0.        , -0.        , -0.00417706,  0.00850753,  0.        ,\n",
       "        0.        , -0.00831214,  0.0255921 ])"
      ]
     },
     "execution_count": 1306,
     "metadata": {},
     "output_type": "execute_result"
    }
   ],
   "source": [
    "lasso = Lasso(1e-5)\n",
    "lasso.fit(X_train1,y_train1)\n",
    "print(lasso.score(X_test1,y_test1))\n",
    "lasso.coef_\n"
   ]
  },
  {
   "cell_type": "code",
   "execution_count": 1298,
   "metadata": {},
   "outputs": [
    {
     "data": {
      "text/plain": [
       "array([ -7.95917309e-06,  -6.78565721e-06,  -8.88029652e-06,\n",
       "        -6.95555045e-06,  -9.52598211e-06])"
      ]
     },
     "execution_count": 1298,
     "metadata": {},
     "output_type": "execute_result"
    }
   ],
   "source": [
    "cv_score_lasso = cross_val_score(lasso,X_train1, y_train1, cv=5, scoring='mean_squared_error')\n",
    "# r2_lasso = np.mean(-cv_score_lassoT) ** (0.5)\n",
    "# r2_lasso\n",
    "cv_score_lasso\n",
    "# np.mean(-cv_score_lasso)"
   ]
  },
  {
   "cell_type": "code",
   "execution_count": null,
   "metadata": {
    "collapsed": true
   },
   "outputs": [],
   "source": []
  },
  {
   "cell_type": "code",
   "execution_count": null,
   "metadata": {
    "collapsed": true
   },
   "outputs": [],
   "source": []
  }
 ],
 "metadata": {
  "kernelspec": {
   "display_name": "Python 3",
   "language": "python",
   "name": "python3"
  },
  "language_info": {
   "codemirror_mode": {
    "name": "ipython",
    "version": 3
   },
   "file_extension": ".py",
   "mimetype": "text/x-python",
   "name": "python",
   "nbconvert_exporter": "python",
   "pygments_lexer": "ipython3",
   "version": "3.6.3"
  }
 },
 "nbformat": 4,
 "nbformat_minor": 2
}
