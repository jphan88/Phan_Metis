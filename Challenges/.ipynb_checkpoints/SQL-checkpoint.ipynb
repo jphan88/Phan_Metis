{
 "cells": [
  {
   "cell_type": "code",
   "execution_count": null,
   "metadata": {
    "collapsed": true
   },
   "outputs": [],
   "source": [
    "#Which customers are from the UK?\n",
    "SELECT *\n",
    "FROM Customers\n",
    "WHERE Country = 'UK';"
   ]
  },
  {
   "cell_type": "code",
   "execution_count": null,
   "metadata": {
    "collapsed": true
   },
   "outputs": [],
   "source": [
    "# * What is the name of the customer who has the most orders?\n",
    "SELECT \n",
    "\tCustomerName, COUNT(*) as count\n",
    "FROM\n",
    "\tCustomers\n",
    "JOIN \n",
    "\tOrders\n",
    "ON \n",
    "\tCustomers.CustomerID = Orders.CustomerID\n",
    "GROUP BY \n",
    "\tCustomerName\n",
    "ORDER BY\n",
    "\tcount DESC;"
   ]
  },
  {
   "cell_type": "code",
   "execution_count": null,
   "metadata": {
    "collapsed": true
   },
   "outputs": [],
   "source": [
    "#Which supplier has the highest average product price?\n",
    "SELECT \n",
    "\tSupplierName, AVG(Price) as avgprice\n",
    "FROM\n",
    "\tSuppliers\n",
    "JOIN\n",
    "\tProducts\n",
    "ON\n",
    "\tSuppliers.SupplierID = Products.SupplierID\n",
    "GROUP BY\n",
    "\tSupplierName\n",
    "ORDER BY\n",
    "\tavgprice DESC;\n",
    "    \"Aux joyeux ecclésiastiques, 140.75\""
   ]
  },
  {
   "cell_type": "code",
   "execution_count": null,
   "metadata": {
    "collapsed": true
   },
   "outputs": [],
   "source": [
    "'''How many different countries are all the customers from? \n",
    "(*Hint:* consider [DISTINCT](http://www.w3schools.com/sql/sql_distinct.asp).)\n",
    "'''\n",
    "SELECT DISTINCT\n",
    "\tCountry\n",
    "FROM \n",
    "\tCustomers\n",
    "    '21'"
   ]
  },
  {
   "cell_type": "code",
   "execution_count": null,
   "metadata": {
    "collapsed": true
   },
   "outputs": [],
   "source": [
    "'''What category appears in the most orders?'''\n",
    "SELECT c.CategoryName, COUNT(o.OrderID) as ctorder\n",
    "FROM Categories c\n",
    "JOIN Products p ON c.CategoryID = p.CategoryID\n",
    "JOIN OrderDetails o ON o.ProductID = p.ProductID\n",
    "GROUP BY CategoryName\n",
    "ORDER BY ctorder DESC;"
   ]
  },
  {
   "cell_type": "code",
   "execution_count": null,
   "metadata": {
    "collapsed": true
   },
   "outputs": [],
   "source": [
    "'''What was the total cost for each order?'''\n",
    "SELECT o.ORDERID, SUM(p.Price) as TotalCost\n",
    "FROM OrderDetails o\n",
    "JOIN Products p ON o.ProductID = p.ProductID\n",
    "GROUP BY o.OrderID\n",
    "ORDER BY TotalCost;"
   ]
  },
  {
   "cell_type": "code",
   "execution_count": null,
   "metadata": {
    "collapsed": true
   },
   "outputs": [],
   "source": [
    "\"\"\"Which employee made the most sales (by total cost)?\"\"\"\n",
    "SELECT e.EmployeeID, SUM(p.Price) as totalSales\n",
    "FROM Employees e\n",
    "JOIN Orders o ON e.EmployeeID = o.EmployeeID\n",
    "JOIN OrderDetails od ON  o.OrderID = od.OrderID\n",
    "JOIN Products p ON  od.ProductID = p.ProductID\n",
    "GROUP BY e.EmployeeID\n",
    "ORDER BY totalSales DESC;"
   ]
  }
 ],
 "metadata": {
  "kernelspec": {
   "display_name": "Python 3",
   "language": "python",
   "name": "python3"
  },
  "language_info": {
   "codemirror_mode": {
    "name": "ipython",
    "version": 3
   },
   "file_extension": ".py",
   "mimetype": "text/x-python",
   "name": "python",
   "nbconvert_exporter": "python",
   "pygments_lexer": "ipython3",
   "version": "3.6.3"
  }
 },
 "nbformat": 4,
 "nbformat_minor": 2
}
