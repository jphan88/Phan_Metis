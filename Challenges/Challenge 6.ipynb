{
 "cells": [
  {
   "cell_type": "markdown",
   "metadata": {},
   "source": [
    "### Question 1"
   ]
  },
  {
   "cell_type": "code",
   "execution_count": null,
   "metadata": {
    "collapsed": true
   },
   "outputs": [],
   "source": [
    "'''\n",
    "Generate (fake) data that is linearly related to `log(x)`.\n",
    "\n",
    "You are making this model up. It is of the form `B0 + B1*log(x) + epsilon`. (You are making up the parameters.)\n",
    "\n",
    "Simulate some data from this model.\n",
    "\n",
    "Then fit two models to it:\n",
    "\n",
    " * quadratic (second degree polynomial)\n",
    " * logarithmic (`log(x)`)\n",
    "\n",
    "(The second one should fit really well, since it has the same form as the underlying model!)\n",
    "\n",
    "'''\n"
   ]
  },
  {
   "cell_type": "code",
   "execution_count": 154,
   "metadata": {},
   "outputs": [],
   "source": [
    "# Create function that will create the model\n",
    "import numpy as np\n",
    "import random\n",
    "import pandas as pd\n",
    "import matplotlib.pyplot as plt\n",
    "import statsmodels.formula.api as smf\n",
    "%matplotlib inline\n",
    "\n",
    "x = [x/10. for x in range(1, 1001, 1)]\n",
    "B0 = -5\n",
    "B1 = .47\n",
    "y = [B0 + B1 * np.log10(n) + random.random() for n in x]  #Epsilon is random\n",
    "df = pd.DataFrame({'y':y,'x':x})\n",
    "\n",
    "\n",
    "df['x2'] = df['x'] ** 2\n",
    "model = smf.ols('y ~ x2', data = df)"
   ]
  },
  {
   "cell_type": "code",
   "execution_count": 157,
   "metadata": {},
   "outputs": [
    {
     "data": {
      "text/plain": [
       "[<matplotlib.lines.Line2D at 0x1c1c33ed30>]"
      ]
     },
     "execution_count": 157,
     "metadata": {},
     "output_type": "execute_result"
    },
    {
     "data": {
      "image/png": "[encoded data removed]",
      "text/plain": [
       "<matplotlib.figure.Figure at 0x1c1c290f60>"
      ]
     },
     "metadata": {},
     "output_type": "display_data"
    }
   ],
   "source": [
    "plt.plot(x, y, 'g.')"
   ]
  },
  {
   "cell_type": "code",
   "execution_count": 159,
   "metadata": {},
   "outputs": [],
   "source": [
    "fit = model.fit()\n",
    "y_pred = fit.predict(df['x2'])"
   ]
  },
  {
   "cell_type": "code",
   "execution_count": 160,
   "metadata": {},
   "outputs": [
    {
     "data": {
      "text/html": [
       "<table class=\"simpletable\">\n",
       "<caption>OLS Regression Results</caption>\n",
       "<tr>\n",
       "  <th>Dep. Variable:</th>            <td>y</td>        <th>  R-squared:         </th> <td>   0.209</td>\n",
       "</tr>\n",
       "<tr>\n",
       "  <th>Model:</th>                   <td>OLS</td>       <th>  Adj. R-squared:    </th> <td>   0.208</td>\n",
       "</tr>\n",
       "<tr>\n",
       "  <th>Method:</th>             <td>Least Squares</td>  <th>  F-statistic:       </th> <td>   263.7</td>\n",
       "</tr>\n",
       "<tr>\n",
       "  <th>Date:</th>             <td>Wed, 31 Jan 2018</td> <th>  Prob (F-statistic):</th> <td>8.38e-53</td>\n",
       "</tr>\n",
       "<tr>\n",
       "  <th>Time:</th>                 <td>15:41:53</td>     <th>  Log-Likelihood:    </th> <td> -264.45</td>\n",
       "</tr>\n",
       "<tr>\n",
       "  <th>No. Observations:</th>      <td>  1000</td>      <th>  AIC:               </th> <td>   532.9</td>\n",
       "</tr>\n",
       "<tr>\n",
       "  <th>Df Residuals:</th>          <td>   998</td>      <th>  BIC:               </th> <td>   542.7</td>\n",
       "</tr>\n",
       "<tr>\n",
       "  <th>Df Model:</th>              <td>     1</td>      <th>                     </th>     <td> </td>   \n",
       "</tr>\n",
       "<tr>\n",
       "  <th>Covariance Type:</th>      <td>nonrobust</td>    <th>                     </th>     <td> </td>   \n",
       "</tr>\n",
       "</table>\n",
       "<table class=\"simpletable\">\n",
       "<tr>\n",
       "      <td></td>         <th>coef</th>     <th>std err</th>      <th>t</th>      <th>P>|t|</th>  <th>[0.025</th>    <th>0.975]</th>  \n",
       "</tr>\n",
       "<tr>\n",
       "  <th>Intercept</th> <td>   -3.9283</td> <td>    0.015</td> <td> -262.381</td> <td> 0.000</td> <td>   -3.958</td> <td>   -3.899</td>\n",
       "</tr>\n",
       "<tr>\n",
       "  <th>x2</th>        <td>  5.43e-05</td> <td> 3.34e-06</td> <td>   16.240</td> <td> 0.000</td> <td> 4.77e-05</td> <td> 6.09e-05</td>\n",
       "</tr>\n",
       "</table>\n",
       "<table class=\"simpletable\">\n",
       "<tr>\n",
       "  <th>Omnibus:</th>       <td>33.486</td> <th>  Durbin-Watson:     </th> <td>   1.504</td>\n",
       "</tr>\n",
       "<tr>\n",
       "  <th>Prob(Omnibus):</th> <td> 0.000</td> <th>  Jarque-Bera (JB):  </th> <td>  24.871</td>\n",
       "</tr>\n",
       "<tr>\n",
       "  <th>Skew:</th>          <td>-0.287</td> <th>  Prob(JB):          </th> <td>3.98e-06</td>\n",
       "</tr>\n",
       "<tr>\n",
       "  <th>Kurtosis:</th>      <td> 2.482</td> <th>  Cond. No.          </th> <td>6.72e+03</td>\n",
       "</tr>\n",
       "</table>"
      ],
      "text/plain": [
       "<class 'statsmodels.iolib.summary.Summary'>\n",
       "\"\"\"\n",
       "                            OLS Regression Results                            \n",
       "==============================================================================\n",
       "Dep. Variable:                      y   R-squared:                       0.209\n",
       "Model:                            OLS   Adj. R-squared:                  0.208\n",
       "Method:                 Least Squares   F-statistic:                     263.7\n",
       "Date:                Wed, 31 Jan 2018   Prob (F-statistic):           8.38e-53\n",
       "Time:                        15:41:53   Log-Likelihood:                -264.45\n",
       "No. Observations:                1000   AIC:                             532.9\n",
       "Df Residuals:                     998   BIC:                             542.7\n",
       "Df Model:                           1                                         \n",
       "Covariance Type:            nonrobust                                         \n",
       "==============================================================================\n",
       "                 coef    std err          t      P>|t|      [0.025      0.975]\n",
       "------------------------------------------------------------------------------\n",
       "Intercept     -3.9283      0.015   -262.381      0.000      -3.958      -3.899\n",
       "x2           5.43e-05   3.34e-06     16.240      0.000    4.77e-05    6.09e-05\n",
       "==============================================================================\n",
       "Omnibus:                       33.486   Durbin-Watson:                   1.504\n",
       "Prob(Omnibus):                  0.000   Jarque-Bera (JB):               24.871\n",
       "Skew:                          -0.287   Prob(JB):                     3.98e-06\n",
       "Kurtosis:                       2.482   Cond. No.                     6.72e+03\n",
       "==============================================================================\n",
       "\n",
       "Warnings:\n",
       "[1] Standard Errors assume that the covariance matrix of the errors is correctly specified.\n",
       "[2] The condition number is large, 6.72e+03. This might indicate that there are\n",
       "strong multicollinearity or other numerical problems.\n",
       "\"\"\""
      ]
     },
     "execution_count": 160,
     "metadata": {},
     "output_type": "execute_result"
    }
   ],
   "source": [
    "fit.summary()"
   ]
  },
  {
   "cell_type": "code",
   "execution_count": 161,
   "metadata": {},
   "outputs": [
    {
     "data": {
      "text/plain": [
       "[<matplotlib.lines.Line2D at 0x1c1c40b6a0>,\n",
       " <matplotlib.lines.Line2D at 0x1c1c40bcf8>]"
      ]
     },
     "execution_count": 161,
     "metadata": {},
     "output_type": "execute_result"
    },
    {
     "data": {
      "image/png": "[encoded data removed]",
      "text/plain": [
       "<matplotlib.figure.Figure at 0x1c1c3677b8>"
      ]
     },
     "metadata": {},
     "output_type": "display_data"
    }
   ],
   "source": [
    "plt.plot(x,y,'b.',x,y_pred,'r')"
   ]
  },
  {
   "cell_type": "code",
   "execution_count": 162,
   "metadata": {
    "collapsed": true
   },
   "outputs": [],
   "source": [
    "df['logx'] = np.log10(df['x'])"
   ]
  },
  {
   "cell_type": "code",
   "execution_count": 163,
   "metadata": {},
   "outputs": [],
   "source": [
    "model2 = smf.ols('y ~ logx',data = df)\n",
    "fit2 = model2.fit()"
   ]
  },
  {
   "cell_type": "code",
   "execution_count": 164,
   "metadata": {
    "collapsed": true
   },
   "outputs": [],
   "source": [
    "y_pred2 = fit2.predict(df['logx'])"
   ]
  },
  {
   "cell_type": "code",
   "execution_count": 165,
   "metadata": {},
   "outputs": [
    {
     "data": {
      "text/plain": [
       "[<matplotlib.lines.Line2D at 0x1c1c4c9ba8>,\n",
       " <matplotlib.lines.Line2D at 0x1c1c4c9d30>]"
      ]
     },
     "execution_count": 165,
     "metadata": {},
     "output_type": "execute_result"
    },
    {
     "data": {
      "image/png": "[encoded data removed]",
      "text/plain": [
       "<matplotlib.figure.Figure at 0x1c1c0a2128>"
      ]
     },
     "metadata": {},
     "output_type": "display_data"
    }
   ],
   "source": [
    "plt.plot(x,y,'b.',x,y_pred2,'r')"
   ]
  },
  {
   "cell_type": "markdown",
   "metadata": {},
   "source": [
    "### Challenge 2"
   ]
  },
  {
   "cell_type": "markdown",
   "metadata": {},
   "source": [
    "\n",
    "Generate (fake) data from a model of the form `B0 + B1*x + B2*x^2 + epsilon`. (You are making up the parameters.)\n",
    "\n",
    "Split the data into a training and test set.\n",
    "\n",
    "Fit a model to your training set. Calculate mean squared error on your training set. Then calculate it on your test set.\n",
    "\n",
    "(You could use `sklearn.metrics.mean_squared_error`.)\n"
   ]
  },
  {
   "cell_type": "code",
   "execution_count": 166,
   "metadata": {},
   "outputs": [],
   "source": [
    "x1 = [x/10. for x in range(1, 1001, 1)]\n",
    "B2 = 2.5\n",
    "y1 = [B0 + B1 * a + B2 * a**2 + random.random() for a in x1]\n",
    "df2 = pd.DataFrame({'x1':x1,'y1':y1})\n",
    "df2['x2'] = df2['x1'] ** 2"
   ]
  },
  {
   "cell_type": "code",
   "execution_count": 167,
   "metadata": {},
   "outputs": [],
   "source": [
    "from sklearn.cross_validation import train_test_split\n",
    "from sklearn.linear_model import LinearRegression\n",
    "X_train, X_test, y_train, y_test = train_test_split(df2[['x1','x2']],y1,test_size = .3)"
   ]
  },
  {
   "cell_type": "code",
   "execution_count": 168,
   "metadata": {
    "collapsed": true
   },
   "outputs": [],
   "source": [
    "model2 = sm.OLS(y_train,X_train)"
   ]
  },
  {
   "cell_type": "code",
   "execution_count": 169,
   "metadata": {
    "collapsed": true
   },
   "outputs": [],
   "source": [
    "fit2 = model2.fit()"
   ]
  },
  {
   "cell_type": "code",
   "execution_count": 170,
   "metadata": {},
   "outputs": [
    {
     "data": {
      "text/html": [
       "<table class=\"simpletable\">\n",
       "<caption>OLS Regression Results</caption>\n",
       "<tr>\n",
       "  <th>Dep. Variable:</th>            <td>y</td>        <th>  R-squared:         </th> <td>   1.000</td> \n",
       "</tr>\n",
       "<tr>\n",
       "  <th>Model:</th>                   <td>OLS</td>       <th>  Adj. R-squared:    </th> <td>   1.000</td> \n",
       "</tr>\n",
       "<tr>\n",
       "  <th>Method:</th>             <td>Least Squares</td>  <th>  F-statistic:       </th> <td>1.963e+10</td>\n",
       "</tr>\n",
       "<tr>\n",
       "  <th>Date:</th>             <td>Wed, 31 Jan 2018</td> <th>  Prob (F-statistic):</th>  <td>  0.00</td>  \n",
       "</tr>\n",
       "<tr>\n",
       "  <th>Time:</th>                 <td>15:43:09</td>     <th>  Log-Likelihood:    </th> <td> -1277.3</td> \n",
       "</tr>\n",
       "<tr>\n",
       "  <th>No. Observations:</th>      <td>   700</td>      <th>  AIC:               </th> <td>   2559.</td> \n",
       "</tr>\n",
       "<tr>\n",
       "  <th>Df Residuals:</th>          <td>   698</td>      <th>  BIC:               </th> <td>   2568.</td> \n",
       "</tr>\n",
       "<tr>\n",
       "  <th>Df Model:</th>              <td>     2</td>      <th>                     </th>     <td> </td>    \n",
       "</tr>\n",
       "<tr>\n",
       "  <th>Covariance Type:</th>      <td>nonrobust</td>    <th>                     </th>     <td> </td>    \n",
       "</tr>\n",
       "</table>\n",
       "<table class=\"simpletable\">\n",
       "<tr>\n",
       "   <td></td>     <th>coef</th>     <th>std err</th>      <th>t</th>      <th>P>|t|</th>  <th>[0.025</th>    <th>0.975]</th>  \n",
       "</tr>\n",
       "<tr>\n",
       "  <th>x1</th> <td>    0.2897</td> <td>    0.004</td> <td>   73.731</td> <td> 0.000</td> <td>    0.282</td> <td>    0.297</td>\n",
       "</tr>\n",
       "<tr>\n",
       "  <th>x2</th> <td>    2.5015</td> <td> 5.07e-05</td> <td> 4.94e+04</td> <td> 0.000</td> <td>    2.501</td> <td>    2.502</td>\n",
       "</tr>\n",
       "</table>\n",
       "<table class=\"simpletable\">\n",
       "<tr>\n",
       "  <th>Omnibus:</th>       <td>87.669</td> <th>  Durbin-Watson:     </th> <td>   1.775</td>\n",
       "</tr>\n",
       "<tr>\n",
       "  <th>Prob(Omnibus):</th> <td> 0.000</td> <th>  Jarque-Bera (JB):  </th> <td> 120.187</td>\n",
       "</tr>\n",
       "<tr>\n",
       "  <th>Skew:</th>          <td>-1.011</td> <th>  Prob(JB):          </th> <td>7.97e-27</td>\n",
       "</tr>\n",
       "<tr>\n",
       "  <th>Kurtosis:</th>      <td> 3.173</td> <th>  Cond. No.          </th> <td>    311.</td>\n",
       "</tr>\n",
       "</table>"
      ],
      "text/plain": [
       "<class 'statsmodels.iolib.summary.Summary'>\n",
       "\"\"\"\n",
       "                            OLS Regression Results                            \n",
       "==============================================================================\n",
       "Dep. Variable:                      y   R-squared:                       1.000\n",
       "Model:                            OLS   Adj. R-squared:                  1.000\n",
       "Method:                 Least Squares   F-statistic:                 1.963e+10\n",
       "Date:                Wed, 31 Jan 2018   Prob (F-statistic):               0.00\n",
       "Time:                        15:43:09   Log-Likelihood:                -1277.3\n",
       "No. Observations:                 700   AIC:                             2559.\n",
       "Df Residuals:                     698   BIC:                             2568.\n",
       "Df Model:                           2                                         \n",
       "Covariance Type:            nonrobust                                         \n",
       "==============================================================================\n",
       "                 coef    std err          t      P>|t|      [0.025      0.975]\n",
       "------------------------------------------------------------------------------\n",
       "x1             0.2897      0.004     73.731      0.000       0.282       0.297\n",
       "x2             2.5015   5.07e-05   4.94e+04      0.000       2.501       2.502\n",
       "==============================================================================\n",
       "Omnibus:                       87.669   Durbin-Watson:                   1.775\n",
       "Prob(Omnibus):                  0.000   Jarque-Bera (JB):              120.187\n",
       "Skew:                          -1.011   Prob(JB):                     7.97e-27\n",
       "Kurtosis:                       3.173   Cond. No.                         311.\n",
       "==============================================================================\n",
       "\n",
       "Warnings:\n",
       "[1] Standard Errors assume that the covariance matrix of the errors is correctly specified.\n",
       "\"\"\""
      ]
     },
     "execution_count": 170,
     "metadata": {},
     "output_type": "execute_result"
    }
   ],
   "source": [
    "fit2.summary()"
   ]
  },
  {
   "cell_type": "code",
   "execution_count": 171,
   "metadata": {},
   "outputs": [],
   "source": [
    "y_pred_train = fit2.predict(X_train)"
   ]
  },
  {
   "cell_type": "code",
   "execution_count": 172,
   "metadata": {},
   "outputs": [],
   "source": [
    "from sklearn.metrics import mean_squared_error\n",
    "mse_test = mean_squared_error(y_train,y_pred_train)"
   ]
  },
  {
   "cell_type": "code",
   "execution_count": 173,
   "metadata": {},
   "outputs": [
    {
     "data": {
      "text/plain": [
       "2.2516513943342598"
      ]
     },
     "execution_count": 173,
     "metadata": {},
     "output_type": "execute_result"
    }
   ],
   "source": [
    "mse_test"
   ]
  },
  {
   "cell_type": "code",
   "execution_count": 174,
   "metadata": {},
   "outputs": [],
   "source": [
    "y_pred_ts = fit2.predict(X_test)"
   ]
  },
  {
   "cell_type": "code",
   "execution_count": 175,
   "metadata": {
    "collapsed": true
   },
   "outputs": [],
   "source": [
    "mse_test2 = mean_squared_error(y_test,y_pred_ts)"
   ]
  },
  {
   "cell_type": "code",
   "execution_count": 176,
   "metadata": {},
   "outputs": [
    {
     "data": {
      "text/plain": [
       "2.3584017119032841"
      ]
     },
     "execution_count": 176,
     "metadata": {},
     "output_type": "execute_result"
    }
   ],
   "source": [
    "mse_test2"
   ]
  },
  {
   "cell_type": "markdown",
   "metadata": {},
   "source": [
    "### Challenge 3"
   ]
  },
  {
   "cell_type": "code",
   "execution_count": null,
   "metadata": {
    "collapsed": true
   },
   "outputs": [],
   "source": [
    "'''\n",
    "For the data from two (above), try polynomial fits from 0th (just constant) to 7th order (highest term x^7). \n",
    "Over the x axis of model degree (8 points), plot:\n",
    "\n",
    " * training error\n",
    " * test error\n",
    " * R squared\n",
    " * AIC'''"
   ]
  },
  {
   "cell_type": "code",
   "execution_count": null,
   "metadata": {
    "collapsed": true
   },
   "outputs": [],
   "source": []
  },
  {
   "cell_type": "code",
   "execution_count": 149,
   "metadata": {
    "collapsed": true
   },
   "outputs": [],
   "source": [
    "def getPolynomial(dataframe,order):\n",
    "    for i in range(order+1):\n",
    "        colname = 'x' + str(i)\n",
    "        dataframe[colname] = dataframe['x'] ** i\n",
    "    print(dataframe)"
   ]
  },
  {
   "cell_type": "code",
   "execution_count": 177,
   "metadata": {},
   "outputs": [
    {
     "data": {
      "text/html": [
       "<div>\n",
       "<style>\n",
       "    .dataframe thead tr:only-child th {\n",
       "        text-align: right;\n",
       "    }\n",
       "\n",
       "    .dataframe thead th {\n",
       "        text-align: left;\n",
       "    }\n",
       "\n",
       "    .dataframe tbody tr th {\n",
       "        vertical-align: top;\n",
       "    }\n",
       "</style>\n",
       "<table border=\"1\" class=\"dataframe\">\n",
       "  <thead>\n",
       "    <tr style=\"text-align: right;\">\n",
       "      <th></th>\n",
       "      <th>x</th>\n",
       "      <th>y</th>\n",
       "      <th>x2</th>\n",
       "      <th>logx</th>\n",
       "    </tr>\n",
       "  </thead>\n",
       "  <tbody>\n",
       "    <tr>\n",
       "      <th>0</th>\n",
       "      <td>0.1</td>\n",
       "      <td>-4.725090</td>\n",
       "      <td>0.01</td>\n",
       "      <td>-1.000000</td>\n",
       "    </tr>\n",
       "    <tr>\n",
       "      <th>1</th>\n",
       "      <td>0.2</td>\n",
       "      <td>-5.118651</td>\n",
       "      <td>0.04</td>\n",
       "      <td>-0.698970</td>\n",
       "    </tr>\n",
       "    <tr>\n",
       "      <th>2</th>\n",
       "      <td>0.3</td>\n",
       "      <td>-4.350812</td>\n",
       "      <td>0.09</td>\n",
       "      <td>-0.522879</td>\n",
       "    </tr>\n",
       "    <tr>\n",
       "      <th>3</th>\n",
       "      <td>0.4</td>\n",
       "      <td>-4.849928</td>\n",
       "      <td>0.16</td>\n",
       "      <td>-0.397940</td>\n",
       "    </tr>\n",
       "    <tr>\n",
       "      <th>4</th>\n",
       "      <td>0.5</td>\n",
       "      <td>-4.908490</td>\n",
       "      <td>0.25</td>\n",
       "      <td>-0.301030</td>\n",
       "    </tr>\n",
       "  </tbody>\n",
       "</table>\n",
       "</div>"
      ],
      "text/plain": [
       "     x         y    x2      logx\n",
       "0  0.1 -4.725090  0.01 -1.000000\n",
       "1  0.2 -5.118651  0.04 -0.698970\n",
       "2  0.3 -4.350812  0.09 -0.522879\n",
       "3  0.4 -4.849928  0.16 -0.397940\n",
       "4  0.5 -4.908490  0.25 -0.301030"
      ]
     },
     "execution_count": 177,
     "metadata": {},
     "output_type": "execute_result"
    }
   ],
   "source": []
  },
  {
   "cell_type": "code",
   "execution_count": 232,
   "metadata": {},
   "outputs": [
    {
     "name": "stdout",
     "output_type": "stream",
     "text": [
      "         x         y        x2      logx   x0     x1           x3  \\\n",
      "0      0.1 -4.725090      0.01 -1.000000  1.0    0.1        0.001   \n",
      "1      0.2 -5.118651      0.04 -0.698970  1.0    0.2        0.008   \n",
      "2      0.3 -4.350812      0.09 -0.522879  1.0    0.3        0.027   \n",
      "3      0.4 -4.849928      0.16 -0.397940  1.0    0.4        0.064   \n",
      "4      0.5 -4.908490      0.25 -0.301030  1.0    0.5        0.125   \n",
      "5      0.6 -4.159919      0.36 -0.221849  1.0    0.6        0.216   \n",
      "6      0.7 -4.119112      0.49 -0.154902  1.0    0.7        0.343   \n",
      "7      0.8 -4.435654      0.64 -0.096910  1.0    0.8        0.512   \n",
      "8      0.9 -4.498719      0.81 -0.045757  1.0    0.9        0.729   \n",
      "9      1.0 -4.232382      1.00  0.000000  1.0    1.0        1.000   \n",
      "10     1.1 -4.943054      1.21  0.041393  1.0    1.1        1.331   \n",
      "11     1.2 -3.965178      1.44  0.079181  1.0    1.2        1.728   \n",
      "12     1.3 -4.601796      1.69  0.113943  1.0    1.3        2.197   \n",
      "13     1.4 -4.404486      1.96  0.146128  1.0    1.4        2.744   \n",
      "14     1.5 -4.640764      2.25  0.176091  1.0    1.5        3.375   \n",
      "15     1.6 -4.656738      2.56  0.204120  1.0    1.6        4.096   \n",
      "16     1.7 -4.763005      2.89  0.230449  1.0    1.7        4.913   \n",
      "17     1.8 -4.118235      3.24  0.255273  1.0    1.8        5.832   \n",
      "18     1.9 -4.564743      3.61  0.278754  1.0    1.9        6.859   \n",
      "19     2.0 -4.524111      4.00  0.301030  1.0    2.0        8.000   \n",
      "20     2.1 -3.933329      4.41  0.322219  1.0    2.1        9.261   \n",
      "21     2.2 -4.239375      4.84  0.342423  1.0    2.2       10.648   \n",
      "22     2.3 -4.418611      5.29  0.361728  1.0    2.3       12.167   \n",
      "23     2.4 -4.809348      5.76  0.380211  1.0    2.4       13.824   \n",
      "24     2.5 -3.877560      6.25  0.397940  1.0    2.5       15.625   \n",
      "25     2.6 -3.966927      6.76  0.414973  1.0    2.6       17.576   \n",
      "26     2.7 -4.076208      7.29  0.431364  1.0    2.7       19.683   \n",
      "27     2.8 -4.538058      7.84  0.447158  1.0    2.8       21.952   \n",
      "28     2.9 -3.989570      8.41  0.462398  1.0    2.9       24.389   \n",
      "29     3.0 -4.709374      9.00  0.477121  1.0    3.0       27.000   \n",
      "..     ...       ...       ...       ...  ...    ...          ...   \n",
      "970   97.1 -3.930801   9428.41  1.987219  1.0   97.1   915498.611   \n",
      "971   97.2 -3.948880   9447.84  1.987666  1.0   97.2   918330.048   \n",
      "972   97.3 -3.627387   9467.29  1.988113  1.0   97.3   921167.317   \n",
      "973   97.4 -3.527696   9486.76  1.988559  1.0   97.4   924010.424   \n",
      "974   97.5 -3.715698   9506.25  1.989005  1.0   97.5   926859.375   \n",
      "975   97.6 -3.544587   9525.76  1.989450  1.0   97.6   929714.176   \n",
      "976   97.7 -3.421407   9545.29  1.989895  1.0   97.7   932574.833   \n",
      "977   97.8 -3.486016   9564.84  1.990339  1.0   97.8   935441.352   \n",
      "978   97.9 -3.676642   9584.41  1.990783  1.0   97.9   938313.739   \n",
      "979   98.0 -3.852123   9604.00  1.991226  1.0   98.0   941192.000   \n",
      "980   98.1 -3.767710   9623.61  1.991669  1.0   98.1   944076.141   \n",
      "981   98.2 -3.773986   9643.24  1.992111  1.0   98.2   946966.168   \n",
      "982   98.3 -3.399244   9662.89  1.992554  1.0   98.3   949862.087   \n",
      "983   98.4 -3.139730   9682.56  1.992995  1.0   98.4   952763.904   \n",
      "984   98.5 -3.142127   9702.25  1.993436  1.0   98.5   955671.625   \n",
      "985   98.6 -3.874328   9721.96  1.993877  1.0   98.6   958585.256   \n",
      "986   98.7 -3.860158   9741.69  1.994317  1.0   98.7   961504.803   \n",
      "987   98.8 -3.729954   9761.44  1.994757  1.0   98.8   964430.272   \n",
      "988   98.9 -3.862509   9781.21  1.995196  1.0   98.9   967361.669   \n",
      "989   99.0 -3.352970   9801.00  1.995635  1.0   99.0   970299.000   \n",
      "990   99.1 -3.182247   9820.81  1.996074  1.0   99.1   973242.271   \n",
      "991   99.2 -3.165002   9840.64  1.996512  1.0   99.2   976191.488   \n",
      "992   99.3 -3.475775   9860.49  1.996949  1.0   99.3   979146.657   \n",
      "993   99.4 -3.065271   9880.36  1.997386  1.0   99.4   982107.784   \n",
      "994   99.5 -3.850652   9900.25  1.997823  1.0   99.5   985074.875   \n",
      "995   99.6 -3.197085   9920.16  1.998259  1.0   99.6   988047.936   \n",
      "996   99.7 -3.769150   9940.09  1.998695  1.0   99.7   991026.973   \n",
      "997   99.8 -4.015881   9960.04  1.999131  1.0   99.8   994011.992   \n",
      "998   99.9 -4.012751   9980.01  1.999565  1.0   99.9   997002.999   \n",
      "999  100.0 -3.176660  10000.00  2.000000  1.0  100.0  1000000.000   \n",
      "\n",
      "               x4            x5            x6            x7            x8  \n",
      "0    1.000000e-04  1.000000e-05  1.000000e-06  1.000000e-07  1.000000e-08  \n",
      "1    1.600000e-03  3.200000e-04  6.400000e-05  1.280000e-05  2.560000e-06  \n",
      "2    8.100000e-03  2.430000e-03  7.290000e-04  2.187000e-04  6.561000e-05  \n",
      "3    2.560000e-02  1.024000e-02  4.096000e-03  1.638400e-03  6.553600e-04  \n",
      "4    6.250000e-02  3.125000e-02  1.562500e-02  7.812500e-03  3.906250e-03  \n",
      "5    1.296000e-01  7.776000e-02  4.665600e-02  2.799360e-02  1.679616e-02  \n",
      "6    2.401000e-01  1.680700e-01  1.176490e-01  8.235430e-02  5.764801e-02  \n",
      "7    4.096000e-01  3.276800e-01  2.621440e-01  2.097152e-01  1.677722e-01  \n",
      "8    6.561000e-01  5.904900e-01  5.314410e-01  4.782969e-01  4.304672e-01  \n",
      "9    1.000000e+00  1.000000e+00  1.000000e+00  1.000000e+00  1.000000e+00  \n",
      "10   1.464100e+00  1.610510e+00  1.771561e+00  1.948717e+00  2.143589e+00  \n",
      "11   2.073600e+00  2.488320e+00  2.985984e+00  3.583181e+00  4.299817e+00  \n",
      "12   2.856100e+00  3.712930e+00  4.826809e+00  6.274852e+00  8.157307e+00  \n",
      "13   3.841600e+00  5.378240e+00  7.529536e+00  1.054135e+01  1.475789e+01  \n",
      "14   5.062500e+00  7.593750e+00  1.139062e+01  1.708594e+01  2.562891e+01  \n",
      "15   6.553600e+00  1.048576e+01  1.677722e+01  2.684355e+01  4.294967e+01  \n",
      "16   8.352100e+00  1.419857e+01  2.413757e+01  4.103387e+01  6.975757e+01  \n",
      "17   1.049760e+01  1.889568e+01  3.401222e+01  6.122200e+01  1.101996e+02  \n",
      "18   1.303210e+01  2.476099e+01  4.704588e+01  8.938717e+01  1.698356e+02  \n",
      "19   1.600000e+01  3.200000e+01  6.400000e+01  1.280000e+02  2.560000e+02  \n",
      "20   1.944810e+01  4.084101e+01  8.576612e+01  1.801089e+02  3.782286e+02  \n",
      "21   2.342560e+01  5.153632e+01  1.133799e+02  2.494358e+02  5.487587e+02  \n",
      "22   2.798410e+01  6.436343e+01  1.480359e+02  3.404825e+02  7.831099e+02  \n",
      "23   3.317760e+01  7.962624e+01  1.911030e+02  4.586471e+02  1.100753e+03  \n",
      "24   3.906250e+01  9.765625e+01  2.441406e+02  6.103516e+02  1.525879e+03  \n",
      "25   4.569760e+01  1.188138e+02  3.089158e+02  8.031810e+02  2.088271e+03  \n",
      "26   5.314410e+01  1.434891e+02  3.874205e+02  1.046035e+03  2.824295e+03  \n",
      "27   6.146560e+01  1.721037e+02  4.818903e+02  1.349293e+03  3.778020e+03  \n",
      "28   7.072810e+01  2.051115e+02  5.948233e+02  1.724988e+03  5.002464e+03  \n",
      "29   8.100000e+01  2.430000e+02  7.290000e+02  2.187000e+03  6.561000e+03  \n",
      "..            ...           ...           ...           ...           ...  \n",
      "970  8.889492e+07  8.631696e+09  8.381377e+11  8.138317e+13  7.902306e+15  \n",
      "971  8.926168e+07  8.676235e+09  8.433301e+11  8.197168e+13  7.967648e+15  \n",
      "972  8.962958e+07  8.720958e+09  8.485492e+11  8.256384e+13  8.033462e+15  \n",
      "973  8.999862e+07  8.765865e+09  8.537953e+11  8.315966e+13  8.099751e+15  \n",
      "974  9.036879e+07  8.810957e+09  8.590683e+11  8.375916e+13  8.166518e+15  \n",
      "975  9.074010e+07  8.856234e+09  8.643684e+11  8.436236e+13  8.233766e+15  \n",
      "976  9.111256e+07  8.901697e+09  8.696958e+11  8.496928e+13  8.301499e+15  \n",
      "977  9.148616e+07  8.947347e+09  8.750505e+11  8.557994e+13  8.369718e+15  \n",
      "978  9.186092e+07  8.993184e+09  8.804327e+11  8.619436e+13  8.438428e+15  \n",
      "979  9.223682e+07  9.039208e+09  8.858424e+11  8.681255e+13  8.507630e+15  \n",
      "980  9.261387e+07  9.085421e+09  8.912798e+11  8.743454e+13  8.577329e+15  \n",
      "981  9.299208e+07  9.131822e+09  8.967449e+11  8.806035e+13  8.647527e+15  \n",
      "982  9.337144e+07  9.178413e+09  9.022380e+11  8.868999e+13  8.718226e+15  \n",
      "983  9.375197e+07  9.225194e+09  9.077591e+11  8.932349e+13  8.789432e+15  \n",
      "984  9.413366e+07  9.272165e+09  9.133083e+11  8.996086e+13  8.861145e+15  \n",
      "985  9.451651e+07  9.319328e+09  9.188857e+11  9.060213e+13  8.933370e+15  \n",
      "986  9.490052e+07  9.366682e+09  9.244915e+11  9.124731e+13  9.006109e+15  \n",
      "987  9.528571e+07  9.414228e+09  9.301257e+11  9.189642e+13  9.079367e+15  \n",
      "988  9.567207e+07  9.461968e+09  9.357886e+11  9.254949e+13  9.153145e+15  \n",
      "989  9.605960e+07  9.509900e+09  9.414801e+11  9.320653e+13  9.227447e+15  \n",
      "990  9.644831e+07  9.558027e+09  9.472005e+11  9.386757e+13  9.302276e+15  \n",
      "991  9.683820e+07  9.606349e+09  9.529498e+11  9.453262e+13  9.377636e+15  \n",
      "992  9.722926e+07  9.654866e+09  9.587282e+11  9.520171e+13  9.453530e+15  \n",
      "993  9.762151e+07  9.703578e+09  9.645357e+11  9.587485e+13  9.529960e+15  \n",
      "994  9.801495e+07  9.752488e+09  9.703725e+11  9.655206e+13  9.606930e+15  \n",
      "995  9.840957e+07  9.801594e+09  9.762387e+11  9.723338e+13  9.684444e+15  \n",
      "996  9.880539e+07  9.850897e+09  9.821345e+11  9.791881e+13  9.762505e+15  \n",
      "997  9.920240e+07  9.900399e+09  9.880598e+11  9.860837e+13  9.841116e+15  \n",
      "998  9.960060e+07  9.950100e+09  9.940150e+11  9.930210e+13  9.920279e+15  \n",
      "999  1.000000e+08  1.000000e+10  1.000000e+12  1.000000e+14  1.000000e+16  \n",
      "\n",
      "[1000 rows x 12 columns]\n"
     ]
    }
   ],
   "source": [
    "getPolynomial(df,8)"
   ]
  },
  {
   "cell_type": "code",
   "execution_count": 236,
   "metadata": {},
   "outputs": [],
   "source": [
    "x3 = df[['x0','x1','x2','x3','x4','x5','x6','x7','x8']]"
   ]
  },
  {
   "cell_type": "code",
   "execution_count": 239,
   "metadata": {},
   "outputs": [],
   "source": [
    "X_train, X_test, y_train, y_test = train_test_split(x3,y,test_size = .3)"
   ]
  },
  {
   "cell_type": "code",
   "execution_count": 240,
   "metadata": {},
   "outputs": [],
   "source": [
    "model3 = sm.OLS(y_train,X_train)\n",
    "fit3 = model3.fit()"
   ]
  },
  {
   "cell_type": "code",
   "execution_count": 241,
   "metadata": {},
   "outputs": [],
   "source": [
    "y_pred_train = fit3.predict(X_train)"
   ]
  },
  {
   "cell_type": "code",
   "execution_count": 243,
   "metadata": {},
   "outputs": [],
   "source": [
    "train_error = mean_squared_error(y_train,y_pred_train)"
   ]
  },
  {
   "cell_type": "code",
   "execution_count": 244,
   "metadata": {},
   "outputs": [
    {
     "data": {
      "text/plain": [
       "0.95050116519631145"
      ]
     },
     "execution_count": 244,
     "metadata": {},
     "output_type": "execute_result"
    }
   ],
   "source": [
    "train_error"
   ]
  },
  {
   "cell_type": "code",
   "execution_count": 245,
   "metadata": {
    "collapsed": true
   },
   "outputs": [],
   "source": [
    "y_pred_test = fit3.predict(X_test)"
   ]
  },
  {
   "cell_type": "code",
   "execution_count": 246,
   "metadata": {},
   "outputs": [],
   "source": [
    "test_error = mean_squared_error(y_test,y_pred_test)"
   ]
  },
  {
   "cell_type": "code",
   "execution_count": 247,
   "metadata": {},
   "outputs": [
    {
     "data": {
      "text/plain": [
       "1.1103926487541202"
      ]
     },
     "execution_count": 247,
     "metadata": {},
     "output_type": "execute_result"
    }
   ],
   "source": [
    "test_error"
   ]
  },
  {
   "cell_type": "code",
   "execution_count": 250,
   "metadata": {},
   "outputs": [
    {
     "data": {
      "text/html": [
       "<table class=\"simpletable\">\n",
       "<caption>OLS Regression Results</caption>\n",
       "<tr>\n",
       "  <th>Dep. Variable:</th>            <td>y</td>        <th>  R-squared:         </th> <td>  -6.708</td>\n",
       "</tr>\n",
       "<tr>\n",
       "  <th>Model:</th>                   <td>OLS</td>       <th>  Adj. R-squared:    </th> <td>  -6.775</td>\n",
       "</tr>\n",
       "<tr>\n",
       "  <th>Method:</th>             <td>Least Squares</td>  <th>  F-statistic:       </th> <td>  -100.5</td>\n",
       "</tr>\n",
       "<tr>\n",
       "  <th>Date:</th>             <td>Wed, 31 Jan 2018</td> <th>  Prob (F-statistic):</th>  <td>  1.00</td> \n",
       "</tr>\n",
       "<tr>\n",
       "  <th>Time:</th>                 <td>16:07:06</td>     <th>  Log-Likelihood:    </th> <td> -975.49</td>\n",
       "</tr>\n",
       "<tr>\n",
       "  <th>No. Observations:</th>      <td>   700</td>      <th>  AIC:               </th> <td>   1965.</td>\n",
       "</tr>\n",
       "<tr>\n",
       "  <th>Df Residuals:</th>          <td>   693</td>      <th>  BIC:               </th> <td>   1997.</td>\n",
       "</tr>\n",
       "<tr>\n",
       "  <th>Df Model:</th>              <td>     6</td>      <th>                     </th>     <td> </td>   \n",
       "</tr>\n",
       "<tr>\n",
       "  <th>Covariance Type:</th>      <td>nonrobust</td>    <th>                     </th>     <td> </td>   \n",
       "</tr>\n",
       "</table>\n",
       "<table class=\"simpletable\">\n",
       "<tr>\n",
       "   <td></td>     <th>coef</th>     <th>std err</th>      <th>t</th>      <th>P>|t|</th>  <th>[0.025</th>    <th>0.975]</th>  \n",
       "</tr>\n",
       "<tr>\n",
       "  <th>x0</th> <td>   -0.0026</td> <td> 9.49e-05</td> <td>  -27.429</td> <td> 0.000</td> <td>   -0.003</td> <td>   -0.002</td>\n",
       "</tr>\n",
       "<tr>\n",
       "  <th>x1</th> <td>   -0.0194</td> <td>    0.001</td> <td>  -27.445</td> <td> 0.000</td> <td>   -0.021</td> <td>   -0.018</td>\n",
       "</tr>\n",
       "<tr>\n",
       "  <th>x2</th> <td>   -0.1009</td> <td>    0.004</td> <td>  -27.493</td> <td> 0.000</td> <td>   -0.108</td> <td>   -0.094</td>\n",
       "</tr>\n",
       "<tr>\n",
       "  <th>x3</th> <td>    0.0098</td> <td>    0.000</td> <td>   21.666</td> <td> 0.000</td> <td>    0.009</td> <td>    0.011</td>\n",
       "</tr>\n",
       "<tr>\n",
       "  <th>x4</th> <td>   -0.0004</td> <td> 2.18e-05</td> <td>  -18.402</td> <td> 0.000</td> <td>   -0.000</td> <td>   -0.000</td>\n",
       "</tr>\n",
       "<tr>\n",
       "  <th>x5</th> <td> 8.555e-06</td> <td> 5.27e-07</td> <td>   16.246</td> <td> 0.000</td> <td> 7.52e-06</td> <td> 9.59e-06</td>\n",
       "</tr>\n",
       "<tr>\n",
       "  <th>x6</th> <td>-1.001e-07</td> <td> 6.81e-09</td> <td>  -14.689</td> <td> 0.000</td> <td>-1.13e-07</td> <td>-8.67e-08</td>\n",
       "</tr>\n",
       "<tr>\n",
       "  <th>x7</th> <td> 6.089e-10</td> <td> 4.51e-11</td> <td>   13.497</td> <td> 0.000</td> <td>  5.2e-10</td> <td> 6.97e-10</td>\n",
       "</tr>\n",
       "<tr>\n",
       "  <th>x8</th> <td>-1.506e-12</td> <td>  1.2e-13</td> <td>  -12.548</td> <td> 0.000</td> <td>-1.74e-12</td> <td>-1.27e-12</td>\n",
       "</tr>\n",
       "</table>\n",
       "<table class=\"simpletable\">\n",
       "<tr>\n",
       "  <th>Omnibus:</th>       <td>399.096</td> <th>  Durbin-Watson:     </th> <td>   1.928</td>\n",
       "</tr>\n",
       "<tr>\n",
       "  <th>Prob(Omnibus):</th> <td> 0.000</td>  <th>  Jarque-Bera (JB):  </th> <td>2581.322</td>\n",
       "</tr>\n",
       "<tr>\n",
       "  <th>Skew:</th>          <td>-2.595</td>  <th>  Prob(JB):          </th> <td>    0.00</td>\n",
       "</tr>\n",
       "<tr>\n",
       "  <th>Kurtosis:</th>      <td>10.847</td>  <th>  Cond. No.          </th> <td>2.34e+16</td>\n",
       "</tr>\n",
       "</table>"
      ],
      "text/plain": [
       "<class 'statsmodels.iolib.summary.Summary'>\n",
       "\"\"\"\n",
       "                            OLS Regression Results                            \n",
       "==============================================================================\n",
       "Dep. Variable:                      y   R-squared:                      -6.708\n",
       "Model:                            OLS   Adj. R-squared:                 -6.775\n",
       "Method:                 Least Squares   F-statistic:                    -100.5\n",
       "Date:                Wed, 31 Jan 2018   Prob (F-statistic):               1.00\n",
       "Time:                        16:07:06   Log-Likelihood:                -975.49\n",
       "No. Observations:                 700   AIC:                             1965.\n",
       "Df Residuals:                     693   BIC:                             1997.\n",
       "Df Model:                           6                                         \n",
       "Covariance Type:            nonrobust                                         \n",
       "==============================================================================\n",
       "                 coef    std err          t      P>|t|      [0.025      0.975]\n",
       "------------------------------------------------------------------------------\n",
       "x0            -0.0026   9.49e-05    -27.429      0.000      -0.003      -0.002\n",
       "x1            -0.0194      0.001    -27.445      0.000      -0.021      -0.018\n",
       "x2            -0.1009      0.004    -27.493      0.000      -0.108      -0.094\n",
       "x3             0.0098      0.000     21.666      0.000       0.009       0.011\n",
       "x4            -0.0004   2.18e-05    -18.402      0.000      -0.000      -0.000\n",
       "x5          8.555e-06   5.27e-07     16.246      0.000    7.52e-06    9.59e-06\n",
       "x6         -1.001e-07   6.81e-09    -14.689      0.000   -1.13e-07   -8.67e-08\n",
       "x7          6.089e-10   4.51e-11     13.497      0.000     5.2e-10    6.97e-10\n",
       "x8         -1.506e-12    1.2e-13    -12.548      0.000   -1.74e-12   -1.27e-12\n",
       "==============================================================================\n",
       "Omnibus:                      399.096   Durbin-Watson:                   1.928\n",
       "Prob(Omnibus):                  0.000   Jarque-Bera (JB):             2581.322\n",
       "Skew:                          -2.595   Prob(JB):                         0.00\n",
       "Kurtosis:                      10.847   Cond. No.                     2.34e+16\n",
       "==============================================================================\n",
       "\n",
       "Warnings:\n",
       "[1] Standard Errors assume that the covariance matrix of the errors is correctly specified.\n",
       "[2] The condition number is large, 2.34e+16. This might indicate that there are\n",
       "strong multicollinearity or other numerical problems.\n",
       "\"\"\""
      ]
     },
     "execution_count": 250,
     "metadata": {},
     "output_type": "execute_result"
    }
   ],
   "source": [
    "fit3.summary()"
   ]
  },
  {
   "cell_type": "markdown",
   "metadata": {},
   "source": [
    "### Challenge 4"
   ]
  },
  {
   "cell_type": "code",
   "execution_count": null,
   "metadata": {
    "collapsed": true
   },
   "outputs": [],
   "source": [
    "##### Challenge 4\n",
    "'''\n",
    "For the data from two (above), fit a model to only the first 5 of your data points (m=5). Then to first 10 (m=10). \n",
    "Then to first 15 (m=15). In this manner, keep fitting until you fit your entire training set. \n",
    "For each step, calculate the training error and the test error. Plot both (in the same plot) over m. \n",
    "This is called a learning curve.\n",
    "'''\n"
   ]
  },
  {
   "cell_type": "code",
   "execution_count": 253,
   "metadata": {
    "collapsed": true
   },
   "outputs": [],
   "source": [
    "m = 5\n",
    "df4 = df2.head(m)"
   ]
  },
  {
   "cell_type": "code",
   "execution_count": 255,
   "metadata": {},
   "outputs": [
    {
     "data": {
      "text/html": [
       "<div>\n",
       "<style>\n",
       "    .dataframe thead tr:only-child th {\n",
       "        text-align: right;\n",
       "    }\n",
       "\n",
       "    .dataframe thead th {\n",
       "        text-align: left;\n",
       "    }\n",
       "\n",
       "    .dataframe tbody tr th {\n",
       "        vertical-align: top;\n",
       "    }\n",
       "</style>\n",
       "<table border=\"1\" class=\"dataframe\">\n",
       "  <thead>\n",
       "    <tr style=\"text-align: right;\">\n",
       "      <th></th>\n",
       "      <th>x1</th>\n",
       "      <th>y1</th>\n",
       "      <th>x2</th>\n",
       "    </tr>\n",
       "  </thead>\n",
       "  <tbody>\n",
       "    <tr>\n",
       "      <th>0</th>\n",
       "      <td>0.1</td>\n",
       "      <td>-4.786959</td>\n",
       "      <td>0.01</td>\n",
       "    </tr>\n",
       "    <tr>\n",
       "      <th>1</th>\n",
       "      <td>0.2</td>\n",
       "      <td>-3.962765</td>\n",
       "      <td>0.04</td>\n",
       "    </tr>\n",
       "    <tr>\n",
       "      <th>2</th>\n",
       "      <td>0.3</td>\n",
       "      <td>-4.287273</td>\n",
       "      <td>0.09</td>\n",
       "    </tr>\n",
       "    <tr>\n",
       "      <th>3</th>\n",
       "      <td>0.4</td>\n",
       "      <td>-3.709210</td>\n",
       "      <td>0.16</td>\n",
       "    </tr>\n",
       "    <tr>\n",
       "      <th>4</th>\n",
       "      <td>0.5</td>\n",
       "      <td>-4.017314</td>\n",
       "      <td>0.25</td>\n",
       "    </tr>\n",
       "  </tbody>\n",
       "</table>\n",
       "</div>"
      ],
      "text/plain": [
       "    x1        y1    x2\n",
       "0  0.1 -4.786959  0.01\n",
       "1  0.2 -3.962765  0.04\n",
       "2  0.3 -4.287273  0.09\n",
       "3  0.4 -3.709210  0.16\n",
       "4  0.5 -4.017314  0.25"
      ]
     },
     "execution_count": 255,
     "metadata": {},
     "output_type": "execute_result"
    }
   ],
   "source": [
    "df4"
   ]
  },
  {
   "cell_type": "code",
   "execution_count": 258,
   "metadata": {},
   "outputs": [],
   "source": [
    "model4_5 = sm.OLS(df4.y1,df4[['x1','x2']])"
   ]
  },
  {
   "cell_type": "code",
   "execution_count": 260,
   "metadata": {},
   "outputs": [],
   "source": [
    "fit4_5 = model4_5.fit()"
   ]
  },
  {
   "cell_type": "code",
   "execution_count": 261,
   "metadata": {
    "collapsed": true
   },
   "outputs": [],
   "source": [
    "X_train, X_test, y_train, y_test = train_test_split(df4[['x1','x2']],df4.y1,test_size = .3)"
   ]
  },
  {
   "cell_type": "code",
   "execution_count": 262,
   "metadata": {
    "collapsed": true
   },
   "outputs": [],
   "source": [
    "y_pred_train = fit4_5.predict(X_train)"
   ]
  },
  {
   "cell_type": "code",
   "execution_count": 263,
   "metadata": {
    "collapsed": true
   },
   "outputs": [],
   "source": [
    "train_error = mean_squared_error(y_train,y_pred_train)"
   ]
  },
  {
   "cell_type": "code",
   "execution_count": 269,
   "metadata": {},
   "outputs": [
    {
     "data": {
      "text/plain": [
       "1   -3.962765\n",
       "2   -4.287273\n",
       "0   -4.786959\n",
       "Name: y1, dtype: float64"
      ]
     },
     "execution_count": 269,
     "metadata": {},
     "output_type": "execute_result"
    }
   ],
   "source": []
  },
  {
   "cell_type": "code",
   "execution_count": 268,
   "metadata": {},
   "outputs": [
    {
     "data": {
      "text/plain": [
       "1.7352143838655631"
      ]
     },
     "execution_count": 268,
     "metadata": {},
     "output_type": "execute_result"
    }
   ],
   "source": [
    "train_error"
   ]
  },
  {
   "cell_type": "code",
   "execution_count": 265,
   "metadata": {
    "collapsed": true
   },
   "outputs": [],
   "source": [
    "y_pred_test = fit4_5.predict(X_test)"
   ]
  },
  {
   "cell_type": "code",
   "execution_count": 266,
   "metadata": {
    "collapsed": true
   },
   "outputs": [],
   "source": [
    "test_error = mean_squared_error(y_test,y_pred_test)"
   ]
  },
  {
   "cell_type": "code",
   "execution_count": 267,
   "metadata": {},
   "outputs": [
    {
     "data": {
      "text/plain": [
       "[<matplotlib.lines.Line2D at 0x1c1cad4710>]"
      ]
     },
     "execution_count": 267,
     "metadata": {},
     "output_type": "execute_result"
    },
    {
     "data": {
      "image/png": "[encoded data removed]",
      "text/plain": [
       "<matplotlib.figure.Figure at 0x1c1ca97d30>"
      ]
     },
     "metadata": {},
     "output_type": "display_data"
    }
   ],
   "source": [
    "plt.plot(m,train_error,'b.')"
   ]
  },
  {
   "cell_type": "code",
   "execution_count": null,
   "metadata": {
    "collapsed": true
   },
   "outputs": [],
   "source": []
  }
 ],
 "metadata": {
  "kernelspec": {
   "display_name": "Python 3",
   "language": "python",
   "name": "python3"
  },
  "language_info": {
   "codemirror_mode": {
    "name": "ipython",
    "version": 3
   },
   "file_extension": ".py",
   "mimetype": "text/x-python",
   "name": "python",
   "nbconvert_exporter": "python",
   "pygments_lexer": "ipython3",
   "version": "3.6.3"
  }
 },
 "nbformat": 4,
 "nbformat_minor": 2
}
