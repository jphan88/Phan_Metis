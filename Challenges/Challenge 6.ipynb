{
 "cells": [
  {
   "cell_type": "markdown",
   "metadata": {},
   "source": [
    "### Question 1"
   ]
  },
  {
   "cell_type": "code",
   "execution_count": 1,
   "metadata": {},
   "outputs": [
    {
     "data": {
      "text/plain": [
       "'\\nGenerate (fake) data that is linearly related to `log(x)`.\\n\\nYou are making this model up. It is of the form `B0 + B1*log(x) + epsilon`. (You are making up the parameters.)\\n\\nSimulate some data from this model.\\n\\nThen fit two models to it:\\n\\n * quadratic (second degree polynomial)\\n * logarithmic (`log(x)`)\\n\\n(The second one should fit really well, since it has the same form as the underlying model!)\\n\\n'"
      ]
     },
     "execution_count": 1,
     "metadata": {},
     "output_type": "execute_result"
    }
   ],
   "source": [
    "'''\n",
    "Generate (fake) data that is linearly related to `log(x)`.\n",
    "\n",
    "You are making this model up. It is of the form `B0 + B1*log(x) + epsilon`. (You are making up the parameters.)\n",
    "\n",
    "Simulate some data from this model.\n",
    "\n",
    "Then fit two models to it:\n",
    "\n",
    " * quadratic (second degree polynomial)\n",
    " * logarithmic (`log(x)`)\n",
    "\n",
    "(The second one should fit really well, since it has the same form as the underlying model!)\n",
    "\n",
    "'''\n"
   ]
  },
  {
   "cell_type": "markdown",
   "metadata": {},
   "source": [
    "**CS: Looks like you're trying to add text here. The \"triple backtick\" thing is to include code in markdown. For text, click the box above that probably says \"code\" (on my screen it's below the `Widgets` menu button) and change it to \"Markdown\". Then you can type normally, or use markdown like you would in a Github README**"
   ]
  },
  {
   "cell_type": "code",
   "execution_count": 2,
   "metadata": {},
   "outputs": [],
   "source": [
    "# Create function that will create the model\n",
    "import numpy as np\n",
    "import random\n",
    "import pandas as pd\n",
    "import matplotlib.pyplot as plt\n",
    "import statsmodels.formula.api as smf\n",
    "%matplotlib inline\n",
    "\n",
    "x = [x/10. for x in range(1, 1001, 1)]\n",
    "B0 = -5\n",
    "B1 = .47\n",
    "y = [B0 + B1 * np.log10(n) + random.random() for n in x]  #Epsilon is random\n",
    "df = pd.DataFrame({'y':y,'x':x})\n",
    "\n",
    "\n",
    "df['x2'] = df['x'] ** 2\n",
    "model = smf.ols('y ~ x2', data = df)"
   ]
  },
  {
   "cell_type": "code",
   "execution_count": 3,
   "metadata": {},
   "outputs": [
    {
     "data": {
      "text/plain": [
       "[<matplotlib.lines.Line2D at 0x7fbaedc55e80>]"
      ]
     },
     "execution_count": 3,
     "metadata": {},
     "output_type": "execute_result"
    },
    {
     "data": {
      "image/png": "[encoded data removed]",
      "text/plain": [
       "<matplotlib.figure.Figure at 0x7fbb241762b0>"
      ]
     },
     "metadata": {},
     "output_type": "display_data"
    }
   ],
   "source": [
    "plt.plot(x, y, 'g.')"
   ]
  },
  {
   "cell_type": "code",
   "execution_count": 4,
   "metadata": {},
   "outputs": [],
   "source": [
    "fit = model.fit()\n",
    "y_pred = fit.predict(df['x2'])"
   ]
  },
  {
   "cell_type": "code",
   "execution_count": 5,
   "metadata": {},
   "outputs": [
    {
     "data": {
      "text/html": [
       "<table class=\"simpletable\">\n",
       "<caption>OLS Regression Results</caption>\n",
       "<tr>\n",
       "  <th>Dep. Variable:</th>            <td>y</td>        <th>  R-squared:         </th> <td>   0.175</td>\n",
       "</tr>\n",
       "<tr>\n",
       "  <th>Model:</th>                   <td>OLS</td>       <th>  Adj. R-squared:    </th> <td>   0.174</td>\n",
       "</tr>\n",
       "<tr>\n",
       "  <th>Method:</th>             <td>Least Squares</td>  <th>  F-statistic:       </th> <td>   211.5</td>\n",
       "</tr>\n",
       "<tr>\n",
       "  <th>Date:</th>             <td>Wed, 31 Jan 2018</td> <th>  Prob (F-statistic):</th> <td>1.34e-43</td>\n",
       "</tr>\n",
       "<tr>\n",
       "  <th>Time:</th>                 <td>17:10:54</td>     <th>  Log-Likelihood:    </th> <td> -307.03</td>\n",
       "</tr>\n",
       "<tr>\n",
       "  <th>No. Observations:</th>      <td>  1000</td>      <th>  AIC:               </th> <td>   618.1</td>\n",
       "</tr>\n",
       "<tr>\n",
       "  <th>Df Residuals:</th>          <td>   998</td>      <th>  BIC:               </th> <td>   627.9</td>\n",
       "</tr>\n",
       "<tr>\n",
       "  <th>Df Model:</th>              <td>     1</td>      <th>                     </th>     <td> </td>   \n",
       "</tr>\n",
       "<tr>\n",
       "  <th>Covariance Type:</th>      <td>nonrobust</td>    <th>                     </th>     <td> </td>   \n",
       "</tr>\n",
       "</table>\n",
       "<table class=\"simpletable\">\n",
       "<tr>\n",
       "      <td></td>         <th>coef</th>     <th>std err</th>      <th>t</th>      <th>P>|t|</th>  <th>[0.025</th>    <th>0.975]</th>  \n",
       "</tr>\n",
       "<tr>\n",
       "  <th>Intercept</th> <td>   -3.9223</td> <td>    0.016</td> <td> -251.057</td> <td> 0.000</td> <td>   -3.953</td> <td>   -3.892</td>\n",
       "</tr>\n",
       "<tr>\n",
       "  <th>x2</th>        <td> 5.074e-05</td> <td> 3.49e-06</td> <td>   14.543</td> <td> 0.000</td> <td> 4.39e-05</td> <td> 5.76e-05</td>\n",
       "</tr>\n",
       "</table>\n",
       "<table class=\"simpletable\">\n",
       "<tr>\n",
       "  <th>Omnibus:</th>       <td>32.908</td> <th>  Durbin-Watson:     </th> <td>   1.742</td>\n",
       "</tr>\n",
       "<tr>\n",
       "  <th>Prob(Omnibus):</th> <td> 0.000</td> <th>  Jarque-Bera (JB):  </th> <td>  24.962</td>\n",
       "</tr>\n",
       "<tr>\n",
       "  <th>Skew:</th>          <td>-0.292</td> <th>  Prob(JB):          </th> <td>3.80e-06</td>\n",
       "</tr>\n",
       "<tr>\n",
       "  <th>Kurtosis:</th>      <td> 2.492</td> <th>  Cond. No.          </th> <td>6.72e+03</td>\n",
       "</tr>\n",
       "</table>"
      ],
      "text/plain": [
       "<class 'statsmodels.iolib.summary.Summary'>\n",
       "\"\"\"\n",
       "                            OLS Regression Results                            \n",
       "==============================================================================\n",
       "Dep. Variable:                      y   R-squared:                       0.175\n",
       "Model:                            OLS   Adj. R-squared:                  0.174\n",
       "Method:                 Least Squares   F-statistic:                     211.5\n",
       "Date:                Wed, 31 Jan 2018   Prob (F-statistic):           1.34e-43\n",
       "Time:                        17:10:54   Log-Likelihood:                -307.03\n",
       "No. Observations:                1000   AIC:                             618.1\n",
       "Df Residuals:                     998   BIC:                             627.9\n",
       "Df Model:                           1                                         \n",
       "Covariance Type:            nonrobust                                         \n",
       "==============================================================================\n",
       "                 coef    std err          t      P>|t|      [0.025      0.975]\n",
       "------------------------------------------------------------------------------\n",
       "Intercept     -3.9223      0.016   -251.057      0.000      -3.953      -3.892\n",
       "x2          5.074e-05   3.49e-06     14.543      0.000    4.39e-05    5.76e-05\n",
       "==============================================================================\n",
       "Omnibus:                       32.908   Durbin-Watson:                   1.742\n",
       "Prob(Omnibus):                  0.000   Jarque-Bera (JB):               24.962\n",
       "Skew:                          -0.292   Prob(JB):                     3.80e-06\n",
       "Kurtosis:                       2.492   Cond. No.                     6.72e+03\n",
       "==============================================================================\n",
       "\n",
       "Warnings:\n",
       "[1] Standard Errors assume that the covariance matrix of the errors is correctly specified.\n",
       "[2] The condition number is large, 6.72e+03. This might indicate that there are\n",
       "strong multicollinearity or other numerical problems.\n",
       "\"\"\""
      ]
     },
     "execution_count": 5,
     "metadata": {},
     "output_type": "execute_result"
    }
   ],
   "source": [
    "fit.summary()"
   ]
  },
  {
   "cell_type": "code",
   "execution_count": 6,
   "metadata": {},
   "outputs": [
    {
     "data": {
      "text/plain": [
       "[<matplotlib.lines.Line2D at 0x7fbaecb36fd0>,\n",
       " <matplotlib.lines.Line2D at 0x7fbaecb43630>]"
      ]
     },
     "execution_count": 6,
     "metadata": {},
     "output_type": "execute_result"
    },
    {
     "data": {
      "image/png": "[encoded data removed]",
      "text/plain": [
       "<matplotlib.figure.Figure at 0x7fbaecb7cb00>"
      ]
     },
     "metadata": {},
     "output_type": "display_data"
    }
   ],
   "source": [
    "plt.plot(x,y,'b.',x,y_pred,'r')"
   ]
  },
  {
   "cell_type": "code",
   "execution_count": 49,
   "metadata": {},
   "outputs": [],
   "source": [
    "df['logx'] = np.log10(df['x'])"
   ]
  },
  {
   "cell_type": "code",
   "execution_count": 50,
   "metadata": {},
   "outputs": [],
   "source": [
    "model2 = smf.ols('y ~ logx',data = df)\n",
    "fit2 = model2.fit()"
   ]
  },
  {
   "cell_type": "code",
   "execution_count": 51,
   "metadata": {},
   "outputs": [],
   "source": [
    "y_pred2 = fit2.predict(df['logx'])"
   ]
  },
  {
   "cell_type": "code",
   "execution_count": 52,
   "metadata": {},
   "outputs": [
    {
     "data": {
      "text/plain": [
       "[<matplotlib.lines.Line2D at 0x7fbade3543c8>,\n",
       " <matplotlib.lines.Line2D at 0x7fbade3549e8>]"
      ]
     },
     "execution_count": 52,
     "metadata": {},
     "output_type": "execute_result"
    },
    {
     "data": {
      "image/png": "[encoded data removed]",
      "text/plain": [
       "<matplotlib.figure.Figure at 0x7fbade369630>"
      ]
     },
     "metadata": {},
     "output_type": "display_data"
    }
   ],
   "source": [
    "plt.plot(x,y,'b.',x,y_pred2,'r')"
   ]
  },
  {
   "cell_type": "markdown",
   "metadata": {},
   "source": [
    "### Challenge 2"
   ]
  },
  {
   "cell_type": "markdown",
   "metadata": {},
   "source": [
    "\n",
    "Generate (fake) data from a model of the form `B0 + B1*x + B2*x^2 + epsilon`. (You are making up the parameters.)\n",
    "\n",
    "Split the data into a training and test set.\n",
    "\n",
    "Fit a model to your training set. Calculate mean squared error on your training set. Then calculate it on your test set.\n",
    "\n",
    "(You could use `sklearn.metrics.mean_squared_error`.)\n"
   ]
  },
  {
   "cell_type": "code",
   "execution_count": 53,
   "metadata": {},
   "outputs": [],
   "source": [
    "x1 = [x/10. for x in range(1, 1001, 1)]\n",
    "B2 = 2.5\n",
    "y1 = [B0 + B1 * a + B2 * a**2 + random.random() for a in x1]\n",
    "df2 = pd.DataFrame({'x1':x1,'y1':y1})\n",
    "df2['x2'] = df2['x1'] ** 2"
   ]
  },
  {
   "cell_type": "code",
   "execution_count": 54,
   "metadata": {},
   "outputs": [],
   "source": [
    "from sklearn.cross_validation import train_test_split\n",
    "from sklearn.linear_model import LinearRegression\n",
    "X_train, X_test, y_train, y_test = train_test_split(df2[['x1','x2']],y1,test_size = .3)"
   ]
  },
  {
   "cell_type": "code",
   "execution_count": 55,
   "metadata": {},
   "outputs": [],
   "source": [
    "import statsmodels.api as sm\n",
    "model2 = sm.OLS(y_train,X_train)"
   ]
  },
  {
   "cell_type": "code",
   "execution_count": 56,
   "metadata": {},
   "outputs": [],
   "source": [
    "fit2 = model2.fit()"
   ]
  },
  {
   "cell_type": "code",
   "execution_count": 57,
   "metadata": {},
   "outputs": [
    {
     "data": {
      "text/html": [
       "<table class=\"simpletable\">\n",
       "<caption>OLS Regression Results</caption>\n",
       "<tr>\n",
       "  <th>Dep. Variable:</th>            <td>y</td>        <th>  R-squared:         </th> <td>   1.000</td> \n",
       "</tr>\n",
       "<tr>\n",
       "  <th>Model:</th>                   <td>OLS</td>       <th>  Adj. R-squared:    </th> <td>   1.000</td> \n",
       "</tr>\n",
       "<tr>\n",
       "  <th>Method:</th>             <td>Least Squares</td>  <th>  F-statistic:       </th> <td>1.622e+10</td>\n",
       "</tr>\n",
       "<tr>\n",
       "  <th>Date:</th>             <td>Wed, 31 Jan 2018</td> <th>  Prob (F-statistic):</th>  <td>  0.00</td>  \n",
       "</tr>\n",
       "<tr>\n",
       "  <th>Time:</th>                 <td>19:07:31</td>     <th>  Log-Likelihood:    </th> <td> -1313.1</td> \n",
       "</tr>\n",
       "<tr>\n",
       "  <th>No. Observations:</th>      <td>   700</td>      <th>  AIC:               </th> <td>   2630.</td> \n",
       "</tr>\n",
       "<tr>\n",
       "  <th>Df Residuals:</th>          <td>   698</td>      <th>  BIC:               </th> <td>   2639.</td> \n",
       "</tr>\n",
       "<tr>\n",
       "  <th>Df Model:</th>              <td>     2</td>      <th>                     </th>     <td> </td>    \n",
       "</tr>\n",
       "<tr>\n",
       "  <th>Covariance Type:</th>      <td>nonrobust</td>    <th>                     </th>     <td> </td>    \n",
       "</tr>\n",
       "</table>\n",
       "<table class=\"simpletable\">\n",
       "<tr>\n",
       "   <td></td>     <th>coef</th>     <th>std err</th>      <th>t</th>      <th>P>|t|</th>  <th>[0.025</th>    <th>0.975]</th>  \n",
       "</tr>\n",
       "<tr>\n",
       "  <th>x1</th> <td>    0.2858</td> <td>    0.004</td> <td>   68.473</td> <td> 0.000</td> <td>    0.278</td> <td>    0.294</td>\n",
       "</tr>\n",
       "<tr>\n",
       "  <th>x2</th> <td>    2.5016</td> <td> 5.44e-05</td> <td>  4.6e+04</td> <td> 0.000</td> <td>    2.501</td> <td>    2.502</td>\n",
       "</tr>\n",
       "</table>\n",
       "<table class=\"simpletable\">\n",
       "<tr>\n",
       "  <th>Omnibus:</th>       <td>78.799</td> <th>  Durbin-Watson:     </th> <td>   1.596</td>\n",
       "</tr>\n",
       "<tr>\n",
       "  <th>Prob(Omnibus):</th> <td> 0.000</td> <th>  Jarque-Bera (JB):  </th> <td> 105.183</td>\n",
       "</tr>\n",
       "<tr>\n",
       "  <th>Skew:</th>          <td>-0.949</td> <th>  Prob(JB):          </th> <td>1.44e-23</td>\n",
       "</tr>\n",
       "<tr>\n",
       "  <th>Kurtosis:</th>      <td> 3.028</td> <th>  Cond. No.          </th> <td>    300.</td>\n",
       "</tr>\n",
       "</table>"
      ],
      "text/plain": [
       "<class 'statsmodels.iolib.summary.Summary'>\n",
       "\"\"\"\n",
       "                            OLS Regression Results                            \n",
       "==============================================================================\n",
       "Dep. Variable:                      y   R-squared:                       1.000\n",
       "Model:                            OLS   Adj. R-squared:                  1.000\n",
       "Method:                 Least Squares   F-statistic:                 1.622e+10\n",
       "Date:                Wed, 31 Jan 2018   Prob (F-statistic):               0.00\n",
       "Time:                        19:07:31   Log-Likelihood:                -1313.1\n",
       "No. Observations:                 700   AIC:                             2630.\n",
       "Df Residuals:                     698   BIC:                             2639.\n",
       "Df Model:                           2                                         \n",
       "Covariance Type:            nonrobust                                         \n",
       "==============================================================================\n",
       "                 coef    std err          t      P>|t|      [0.025      0.975]\n",
       "------------------------------------------------------------------------------\n",
       "x1             0.2858      0.004     68.473      0.000       0.278       0.294\n",
       "x2             2.5016   5.44e-05    4.6e+04      0.000       2.501       2.502\n",
       "==============================================================================\n",
       "Omnibus:                       78.799   Durbin-Watson:                   1.596\n",
       "Prob(Omnibus):                  0.000   Jarque-Bera (JB):              105.183\n",
       "Skew:                          -0.949   Prob(JB):                     1.44e-23\n",
       "Kurtosis:                       3.028   Cond. No.                         300.\n",
       "==============================================================================\n",
       "\n",
       "Warnings:\n",
       "[1] Standard Errors assume that the covariance matrix of the errors is correctly specified.\n",
       "\"\"\""
      ]
     },
     "execution_count": 57,
     "metadata": {},
     "output_type": "execute_result"
    }
   ],
   "source": [
    "fit2.summary()"
   ]
  },
  {
   "cell_type": "code",
   "execution_count": 58,
   "metadata": {},
   "outputs": [],
   "source": [
    "y_pred_train = fit2.predict(X_train)"
   ]
  },
  {
   "cell_type": "code",
   "execution_count": 59,
   "metadata": {},
   "outputs": [],
   "source": [
    "from sklearn.metrics import mean_squared_error\n",
    "mse_test = mean_squared_error(y_train,y_pred_train)"
   ]
  },
  {
   "cell_type": "code",
   "execution_count": 60,
   "metadata": {},
   "outputs": [
    {
     "data": {
      "text/plain": [
       "2.4941861115820076"
      ]
     },
     "execution_count": 60,
     "metadata": {},
     "output_type": "execute_result"
    }
   ],
   "source": [
    "mse_test"
   ]
  },
  {
   "cell_type": "code",
   "execution_count": 61,
   "metadata": {},
   "outputs": [],
   "source": [
    "y_pred_ts = fit2.predict(X_test)"
   ]
  },
  {
   "cell_type": "code",
   "execution_count": 62,
   "metadata": {},
   "outputs": [],
   "source": [
    "mse_test2 = mean_squared_error(y_test,y_pred_ts)"
   ]
  },
  {
   "cell_type": "code",
   "execution_count": 63,
   "metadata": {},
   "outputs": [
    {
     "data": {
      "text/plain": [
       "1.8679365274394315"
      ]
     },
     "execution_count": 63,
     "metadata": {},
     "output_type": "execute_result"
    }
   ],
   "source": [
    "mse_test2"
   ]
  },
  {
   "cell_type": "markdown",
   "metadata": {},
   "source": [
    "### Challenge 3"
   ]
  },
  {
   "cell_type": "code",
   "execution_count": 64,
   "metadata": {},
   "outputs": [
    {
     "data": {
      "text/plain": [
       "'\\nFor the data from two (above), try polynomial fits from 0th (just constant) to 7th order (highest term x^7). \\nOver the x axis of model degree (8 points), plot:\\n\\n * training error\\n * test error\\n * R squared\\n * AIC'"
      ]
     },
     "execution_count": 64,
     "metadata": {},
     "output_type": "execute_result"
    }
   ],
   "source": [
    "code'''\n",
    "For the data from two (above), try polynomial fits from 0th (just constant) to 7th order (highest term x^7). \n",
    "Over the x axis of model degree (8 points), plot:\n",
    "\n",
    " * training error\n",
    " * test error\n",
    " * R squared\n",
    " * AIC'''"
   ]
  },
  {
   "cell_type": "code",
   "execution_count": null,
   "metadata": {
    "collapsed": true
   },
   "outputs": [],
   "source": []
  },
  {
   "cell_type": "code",
   "execution_count": 65,
   "metadata": {},
   "outputs": [],
   "source": [
    "def getPolynomial(dataframe,order):\n",
    "    for i in range(order+1):\n",
    "        colname = 'x' + str(i)\n",
    "        dataframe[colname] = dataframe['x'] ** i\n",
    "    print(dataframe)"
   ]
  },
  {
   "cell_type": "code",
   "execution_count": 177,
   "metadata": {},
   "outputs": [
    {
     "data": {
      "text/html": [
       "<div>\n",
       "<style>\n",
       "    .dataframe thead tr:only-child th {\n",
       "        text-align: right;\n",
       "    }\n",
       "\n",
       "    .dataframe thead th {\n",
       "        text-align: left;\n",
       "    }\n",
       "\n",
       "    .dataframe tbody tr th {\n",
       "        vertical-align: top;\n",
       "    }\n",
       "</style>\n",
       "<table border=\"1\" class=\"dataframe\">\n",
       "  <thead>\n",
       "    <tr style=\"text-align: right;\">\n",
       "      <th></th>\n",
       "      <th>x</th>\n",
       "      <th>y</th>\n",
       "      <th>x2</th>\n",
       "      <th>logx</th>\n",
       "    </tr>\n",
       "  </thead>\n",
       "  <tbody>\n",
       "    <tr>\n",
       "      <th>0</th>\n",
       "      <td>0.1</td>\n",
       "      <td>-4.725090</td>\n",
       "      <td>0.01</td>\n",
       "      <td>-1.000000</td>\n",
       "    </tr>\n",
       "    <tr>\n",
       "      <th>1</th>\n",
       "      <td>0.2</td>\n",
       "      <td>-5.118651</td>\n",
       "      <td>0.04</td>\n",
       "      <td>-0.698970</td>\n",
       "    </tr>\n",
       "    <tr>\n",
       "      <th>2</th>\n",
       "      <td>0.3</td>\n",
       "      <td>-4.350812</td>\n",
       "      <td>0.09</td>\n",
       "      <td>-0.522879</td>\n",
       "    </tr>\n",
       "    <tr>\n",
       "      <th>3</th>\n",
       "      <td>0.4</td>\n",
       "      <td>-4.849928</td>\n",
       "      <td>0.16</td>\n",
       "      <td>-0.397940</td>\n",
       "    </tr>\n",
       "    <tr>\n",
       "      <th>4</th>\n",
       "      <td>0.5</td>\n",
       "      <td>-4.908490</td>\n",
       "      <td>0.25</td>\n",
       "      <td>-0.301030</td>\n",
       "    </tr>\n",
       "  </tbody>\n",
       "</table>\n",
       "</div>"
      ],
      "text/plain": [
       "     x         y    x2      logx\n",
       "0  0.1 -4.725090  0.01 -1.000000\n",
       "1  0.2 -5.118651  0.04 -0.698970\n",
       "2  0.3 -4.350812  0.09 -0.522879\n",
       "3  0.4 -4.849928  0.16 -0.397940\n",
       "4  0.5 -4.908490  0.25 -0.301030"
      ]
     },
     "execution_count": 177,
     "metadata": {},
     "output_type": "execute_result"
    }
   ],
   "source": []
  },
  {
   "cell_type": "code",
   "execution_count": 66,
   "metadata": {},
   "outputs": [
    {
     "name": "stdout",
     "output_type": "stream",
     "text": [
      "         x         y        x2      logx   x0     x1           x3  \\\n",
      "0      0.1 -5.173386      0.01 -1.000000  1.0    0.1        0.001   \n",
      "1      0.2 -4.362855      0.04 -0.698970  1.0    0.2        0.008   \n",
      "2      0.3 -4.961308      0.09 -0.522879  1.0    0.3        0.027   \n",
      "3      0.4 -4.399903      0.16 -0.397940  1.0    0.4        0.064   \n",
      "4      0.5 -4.990785      0.25 -0.301030  1.0    0.5        0.125   \n",
      "5      0.6 -4.267871      0.36 -0.221849  1.0    0.6        0.216   \n",
      "6      0.7 -4.518444      0.49 -0.154902  1.0    0.7        0.343   \n",
      "7      0.8 -4.246600      0.64 -0.096910  1.0    0.8        0.512   \n",
      "8      0.9 -4.178375      0.81 -0.045757  1.0    0.9        0.729   \n",
      "9      1.0 -4.886005      1.00  0.000000  1.0    1.0        1.000   \n",
      "10     1.1 -4.891215      1.21  0.041393  1.0    1.1        1.331   \n",
      "11     1.2 -4.860879      1.44  0.079181  1.0    1.2        1.728   \n",
      "12     1.3 -4.819331      1.69  0.113943  1.0    1.3        2.197   \n",
      "13     1.4 -4.059711      1.96  0.146128  1.0    1.4        2.744   \n",
      "14     1.5 -4.301807      2.25  0.176091  1.0    1.5        3.375   \n",
      "15     1.6 -3.930583      2.56  0.204120  1.0    1.6        4.096   \n",
      "16     1.7 -4.101449      2.89  0.230449  1.0    1.7        4.913   \n",
      "17     1.8 -4.797221      3.24  0.255273  1.0    1.8        5.832   \n",
      "18     1.9 -4.667167      3.61  0.278754  1.0    1.9        6.859   \n",
      "19     2.0 -4.761102      4.00  0.301030  1.0    2.0        8.000   \n",
      "20     2.1 -4.064684      4.41  0.322219  1.0    2.1        9.261   \n",
      "21     2.2 -4.538018      4.84  0.342423  1.0    2.2       10.648   \n",
      "22     2.3 -4.225936      5.29  0.361728  1.0    2.3       12.167   \n",
      "23     2.4 -4.566076      5.76  0.380211  1.0    2.4       13.824   \n",
      "24     2.5 -4.498108      6.25  0.397940  1.0    2.5       15.625   \n",
      "25     2.6 -4.595840      6.76  0.414973  1.0    2.6       17.576   \n",
      "26     2.7 -4.611323      7.29  0.431364  1.0    2.7       19.683   \n",
      "27     2.8 -4.532795      7.84  0.447158  1.0    2.8       21.952   \n",
      "28     2.9 -4.773197      8.41  0.462398  1.0    2.9       24.389   \n",
      "29     3.0 -4.525276      9.00  0.477121  1.0    3.0       27.000   \n",
      "..     ...       ...       ...       ...  ...    ...          ...   \n",
      "970   97.1 -3.179307   9428.41  1.987219  1.0   97.1   915498.611   \n",
      "971   97.2 -3.796912   9447.84  1.987666  1.0   97.2   918330.048   \n",
      "972   97.3 -3.279679   9467.29  1.988113  1.0   97.3   921167.317   \n",
      "973   97.4 -3.210193   9486.76  1.988559  1.0   97.4   924010.424   \n",
      "974   97.5 -3.644842   9506.25  1.989005  1.0   97.5   926859.375   \n",
      "975   97.6 -3.921079   9525.76  1.989450  1.0   97.6   929714.176   \n",
      "976   97.7 -3.240048   9545.29  1.989895  1.0   97.7   932574.833   \n",
      "977   97.8 -3.581750   9564.84  1.990339  1.0   97.8   935441.352   \n",
      "978   97.9 -3.336258   9584.41  1.990783  1.0   97.9   938313.739   \n",
      "979   98.0 -3.656423   9604.00  1.991226  1.0   98.0   941192.000   \n",
      "980   98.1 -3.535398   9623.61  1.991669  1.0   98.1   944076.141   \n",
      "981   98.2 -3.706524   9643.24  1.992111  1.0   98.2   946966.168   \n",
      "982   98.3 -3.494324   9662.89  1.992554  1.0   98.3   949862.087   \n",
      "983   98.4 -3.371079   9682.56  1.992995  1.0   98.4   952763.904   \n",
      "984   98.5 -3.240086   9702.25  1.993436  1.0   98.5   955671.625   \n",
      "985   98.6 -4.033428   9721.96  1.993877  1.0   98.6   958585.256   \n",
      "986   98.7 -3.078866   9741.69  1.994317  1.0   98.7   961504.803   \n",
      "987   98.8 -3.322228   9761.44  1.994757  1.0   98.8   964430.272   \n",
      "988   98.9 -3.944903   9781.21  1.995196  1.0   98.9   967361.669   \n",
      "989   99.0 -3.726374   9801.00  1.995635  1.0   99.0   970299.000   \n",
      "990   99.1 -3.257523   9820.81  1.996074  1.0   99.1   973242.271   \n",
      "991   99.2 -3.327217   9840.64  1.996512  1.0   99.2   976191.488   \n",
      "992   99.3 -3.557767   9860.49  1.996949  1.0   99.3   979146.657   \n",
      "993   99.4 -3.564640   9880.36  1.997386  1.0   99.4   982107.784   \n",
      "994   99.5 -3.094718   9900.25  1.997823  1.0   99.5   985074.875   \n",
      "995   99.6 -3.181265   9920.16  1.998259  1.0   99.6   988047.936   \n",
      "996   99.7 -3.465462   9940.09  1.998695  1.0   99.7   991026.973   \n",
      "997   99.8 -3.554673   9960.04  1.999131  1.0   99.8   994011.992   \n",
      "998   99.9 -3.751023   9980.01  1.999565  1.0   99.9   997002.999   \n",
      "999  100.0 -3.181417  10000.00  2.000000  1.0  100.0  1000000.000   \n",
      "\n",
      "               x4            x5            x6            x7            x8  \n",
      "0    1.000000e-04  1.000000e-05  1.000000e-06  1.000000e-07  1.000000e-08  \n",
      "1    1.600000e-03  3.200000e-04  6.400000e-05  1.280000e-05  2.560000e-06  \n",
      "2    8.100000e-03  2.430000e-03  7.290000e-04  2.187000e-04  6.561000e-05  \n",
      "3    2.560000e-02  1.024000e-02  4.096000e-03  1.638400e-03  6.553600e-04  \n",
      "4    6.250000e-02  3.125000e-02  1.562500e-02  7.812500e-03  3.906250e-03  \n",
      "5    1.296000e-01  7.776000e-02  4.665600e-02  2.799360e-02  1.679616e-02  \n",
      "6    2.401000e-01  1.680700e-01  1.176490e-01  8.235430e-02  5.764801e-02  \n",
      "7    4.096000e-01  3.276800e-01  2.621440e-01  2.097152e-01  1.677722e-01  \n",
      "8    6.561000e-01  5.904900e-01  5.314410e-01  4.782969e-01  4.304672e-01  \n",
      "9    1.000000e+00  1.000000e+00  1.000000e+00  1.000000e+00  1.000000e+00  \n",
      "10   1.464100e+00  1.610510e+00  1.771561e+00  1.948717e+00  2.143589e+00  \n",
      "11   2.073600e+00  2.488320e+00  2.985984e+00  3.583181e+00  4.299817e+00  \n",
      "12   2.856100e+00  3.712930e+00  4.826809e+00  6.274852e+00  8.157307e+00  \n",
      "13   3.841600e+00  5.378240e+00  7.529536e+00  1.054135e+01  1.475789e+01  \n",
      "14   5.062500e+00  7.593750e+00  1.139062e+01  1.708594e+01  2.562891e+01  \n",
      "15   6.553600e+00  1.048576e+01  1.677722e+01  2.684355e+01  4.294967e+01  \n",
      "16   8.352100e+00  1.419857e+01  2.413757e+01  4.103387e+01  6.975757e+01  \n",
      "17   1.049760e+01  1.889568e+01  3.401222e+01  6.122200e+01  1.101996e+02  \n",
      "18   1.303210e+01  2.476099e+01  4.704588e+01  8.938717e+01  1.698356e+02  \n",
      "19   1.600000e+01  3.200000e+01  6.400000e+01  1.280000e+02  2.560000e+02  \n",
      "20   1.944810e+01  4.084101e+01  8.576612e+01  1.801089e+02  3.782286e+02  \n",
      "21   2.342560e+01  5.153632e+01  1.133799e+02  2.494358e+02  5.487587e+02  \n",
      "22   2.798410e+01  6.436343e+01  1.480359e+02  3.404825e+02  7.831099e+02  \n",
      "23   3.317760e+01  7.962624e+01  1.911030e+02  4.586471e+02  1.100753e+03  \n",
      "24   3.906250e+01  9.765625e+01  2.441406e+02  6.103516e+02  1.525879e+03  \n",
      "25   4.569760e+01  1.188138e+02  3.089158e+02  8.031810e+02  2.088271e+03  \n",
      "26   5.314410e+01  1.434891e+02  3.874205e+02  1.046035e+03  2.824295e+03  \n",
      "27   6.146560e+01  1.721037e+02  4.818903e+02  1.349293e+03  3.778020e+03  \n",
      "28   7.072810e+01  2.051115e+02  5.948233e+02  1.724988e+03  5.002464e+03  \n",
      "29   8.100000e+01  2.430000e+02  7.290000e+02  2.187000e+03  6.561000e+03  \n",
      "..            ...           ...           ...           ...           ...  \n",
      "970  8.889492e+07  8.631696e+09  8.381377e+11  8.138317e+13  7.902306e+15  \n",
      "971  8.926168e+07  8.676235e+09  8.433301e+11  8.197168e+13  7.967648e+15  \n",
      "972  8.962958e+07  8.720958e+09  8.485492e+11  8.256384e+13  8.033462e+15  \n",
      "973  8.999862e+07  8.765865e+09  8.537953e+11  8.315966e+13  8.099751e+15  \n",
      "974  9.036879e+07  8.810957e+09  8.590683e+11  8.375916e+13  8.166518e+15  \n",
      "975  9.074010e+07  8.856234e+09  8.643684e+11  8.436236e+13  8.233766e+15  \n",
      "976  9.111256e+07  8.901697e+09  8.696958e+11  8.496928e+13  8.301499e+15  \n",
      "977  9.148616e+07  8.947347e+09  8.750505e+11  8.557994e+13  8.369718e+15  \n",
      "978  9.186092e+07  8.993184e+09  8.804327e+11  8.619436e+13  8.438428e+15  \n",
      "979  9.223682e+07  9.039208e+09  8.858424e+11  8.681255e+13  8.507630e+15  \n",
      "980  9.261387e+07  9.085421e+09  8.912798e+11  8.743454e+13  8.577329e+15  \n",
      "981  9.299208e+07  9.131822e+09  8.967449e+11  8.806035e+13  8.647527e+15  \n",
      "982  9.337144e+07  9.178413e+09  9.022380e+11  8.868999e+13  8.718226e+15  \n",
      "983  9.375197e+07  9.225194e+09  9.077591e+11  8.932349e+13  8.789432e+15  \n",
      "984  9.413366e+07  9.272165e+09  9.133083e+11  8.996086e+13  8.861145e+15  \n",
      "985  9.451651e+07  9.319328e+09  9.188857e+11  9.060213e+13  8.933370e+15  \n",
      "986  9.490052e+07  9.366682e+09  9.244915e+11  9.124731e+13  9.006109e+15  \n",
      "987  9.528571e+07  9.414228e+09  9.301257e+11  9.189642e+13  9.079367e+15  \n",
      "988  9.567207e+07  9.461968e+09  9.357886e+11  9.254949e+13  9.153145e+15  \n",
      "989  9.605960e+07  9.509900e+09  9.414801e+11  9.320653e+13  9.227447e+15  \n",
      "990  9.644831e+07  9.558027e+09  9.472005e+11  9.386757e+13  9.302276e+15  \n",
      "991  9.683820e+07  9.606349e+09  9.529498e+11  9.453262e+13  9.377636e+15  \n",
      "992  9.722926e+07  9.654866e+09  9.587282e+11  9.520171e+13  9.453530e+15  \n",
      "993  9.762151e+07  9.703578e+09  9.645357e+11  9.587485e+13  9.529960e+15  \n",
      "994  9.801495e+07  9.752488e+09  9.703725e+11  9.655206e+13  9.606930e+15  \n",
      "995  9.840957e+07  9.801594e+09  9.762387e+11  9.723338e+13  9.684444e+15  \n",
      "996  9.880539e+07  9.850897e+09  9.821345e+11  9.791881e+13  9.762505e+15  \n",
      "997  9.920240e+07  9.900399e+09  9.880598e+11  9.860837e+13  9.841116e+15  \n",
      "998  9.960060e+07  9.950100e+09  9.940150e+11  9.930210e+13  9.920279e+15  \n",
      "999  1.000000e+08  1.000000e+10  1.000000e+12  1.000000e+14  1.000000e+16  \n",
      "\n",
      "[1000 rows x 12 columns]\n"
     ]
    }
   ],
   "source": [
    "getPolynomial(df,8)"
   ]
  },
  {
   "cell_type": "code",
   "execution_count": 67,
   "metadata": {},
   "outputs": [],
   "source": [
    "x3 = df[['x0','x1','x2','x3','x4','x5','x6','x7','x8']]"
   ]
  },
  {
   "cell_type": "code",
   "execution_count": 68,
   "metadata": {},
   "outputs": [],
   "source": [
    "X_train, X_test, y_train, y_test = train_test_split(x3,y,test_size = .3)"
   ]
  },
  {
   "cell_type": "code",
   "execution_count": 69,
   "metadata": {},
   "outputs": [],
   "source": [
    "model3 = sm.OLS(y_train,X_train)\n",
    "fit3 = model3.fit()"
   ]
  },
  {
   "cell_type": "code",
   "execution_count": 70,
   "metadata": {},
   "outputs": [],
   "source": [
    "y_pred_train = fit3.predict(X_train)"
   ]
  },
  {
   "cell_type": "code",
   "execution_count": 71,
   "metadata": {},
   "outputs": [],
   "source": [
    "train_error = mean_squared_error(y_train,y_pred_train)"
   ]
  },
  {
   "cell_type": "code",
   "execution_count": 72,
   "metadata": {},
   "outputs": [
    {
     "data": {
      "text/plain": [
       "1.0278907476979315"
      ]
     },
     "execution_count": 72,
     "metadata": {},
     "output_type": "execute_result"
    }
   ],
   "source": [
    "train_error"
   ]
  },
  {
   "cell_type": "code",
   "execution_count": 34,
   "metadata": {},
   "outputs": [],
   "source": [
    "y_pred_test = fit3.predict(X_test)"
   ]
  },
  {
   "cell_type": "code",
   "execution_count": 35,
   "metadata": {},
   "outputs": [],
   "source": [
    "test_error = mean_squared_error(y_test,y_pred_test)"
   ]
  },
  {
   "cell_type": "code",
   "execution_count": 36,
   "metadata": {},
   "outputs": [
    {
     "data": {
      "text/plain": [
       "0.97519373434415191"
      ]
     },
     "execution_count": 36,
     "metadata": {},
     "output_type": "execute_result"
    }
   ],
   "source": [
    "test_error"
   ]
  },
  {
   "cell_type": "code",
   "execution_count": 37,
   "metadata": {},
   "outputs": [
    {
     "data": {
      "text/html": [
       "<table class=\"simpletable\">\n",
       "<caption>OLS Regression Results</caption>\n",
       "<tr>\n",
       "  <th>Dep. Variable:</th>            <td>y</td>        <th>  R-squared:         </th> <td>  -7.153</td>\n",
       "</tr>\n",
       "<tr>\n",
       "  <th>Model:</th>                   <td>OLS</td>       <th>  Adj. R-squared:    </th> <td>  -7.224</td>\n",
       "</tr>\n",
       "<tr>\n",
       "  <th>Method:</th>             <td>Least Squares</td>  <th>  F-statistic:       </th> <td>  -101.3</td>\n",
       "</tr>\n",
       "<tr>\n",
       "  <th>Date:</th>             <td>Wed, 31 Jan 2018</td> <th>  Prob (F-statistic):</th>  <td>  1.00</td> \n",
       "</tr>\n",
       "<tr>\n",
       "  <th>Time:</th>                 <td>17:12:18</td>     <th>  Log-Likelihood:    </th> <td> -1011.1</td>\n",
       "</tr>\n",
       "<tr>\n",
       "  <th>No. Observations:</th>      <td>   700</td>      <th>  AIC:               </th> <td>   2036.</td>\n",
       "</tr>\n",
       "<tr>\n",
       "  <th>Df Residuals:</th>          <td>   693</td>      <th>  BIC:               </th> <td>   2068.</td>\n",
       "</tr>\n",
       "<tr>\n",
       "  <th>Df Model:</th>              <td>     6</td>      <th>                     </th>     <td> </td>   \n",
       "</tr>\n",
       "<tr>\n",
       "  <th>Covariance Type:</th>      <td>nonrobust</td>    <th>                     </th>     <td> </td>   \n",
       "</tr>\n",
       "</table>\n",
       "<table class=\"simpletable\">\n",
       "<tr>\n",
       "   <td></td>     <th>coef</th>     <th>std err</th>      <th>t</th>      <th>P>|t|</th>  <th>[0.025</th>    <th>0.975]</th>  \n",
       "</tr>\n",
       "<tr>\n",
       "  <th>x0</th> <td>   -0.0028</td> <td>    0.000</td> <td>  -26.852</td> <td> 0.000</td> <td>   -0.003</td> <td>   -0.003</td>\n",
       "</tr>\n",
       "<tr>\n",
       "  <th>x1</th> <td>   -0.0202</td> <td>    0.001</td> <td>  -26.867</td> <td> 0.000</td> <td>   -0.022</td> <td>   -0.019</td>\n",
       "</tr>\n",
       "<tr>\n",
       "  <th>x2</th> <td>   -0.1041</td> <td>    0.004</td> <td>  -26.912</td> <td> 0.000</td> <td>   -0.112</td> <td>   -0.097</td>\n",
       "</tr>\n",
       "<tr>\n",
       "  <th>x3</th> <td>    0.0102</td> <td>    0.000</td> <td>   21.468</td> <td> 0.000</td> <td>    0.009</td> <td>    0.011</td>\n",
       "</tr>\n",
       "<tr>\n",
       "  <th>x4</th> <td>   -0.0004</td> <td> 2.29e-05</td> <td>  -18.373</td> <td> 0.000</td> <td>   -0.000</td> <td>   -0.000</td>\n",
       "</tr>\n",
       "<tr>\n",
       "  <th>x5</th> <td> 9.037e-06</td> <td> 5.54e-07</td> <td>   16.305</td> <td> 0.000</td> <td> 7.95e-06</td> <td> 1.01e-05</td>\n",
       "</tr>\n",
       "<tr>\n",
       "  <th>x6</th> <td>-1.063e-07</td> <td> 7.19e-09</td> <td>  -14.797</td> <td> 0.000</td> <td> -1.2e-07</td> <td>-9.22e-08</td>\n",
       "</tr>\n",
       "<tr>\n",
       "  <th>x7</th> <td> 6.499e-10</td> <td> 4.77e-11</td> <td>   13.633</td> <td> 0.000</td> <td> 5.56e-10</td> <td> 7.43e-10</td>\n",
       "</tr>\n",
       "<tr>\n",
       "  <th>x8</th> <td>-1.614e-12</td> <td> 1.27e-13</td> <td>  -12.699</td> <td> 0.000</td> <td>-1.86e-12</td> <td>-1.36e-12</td>\n",
       "</tr>\n",
       "</table>\n",
       "<table class=\"simpletable\">\n",
       "<tr>\n",
       "  <th>Omnibus:</th>       <td>374.834</td> <th>  Durbin-Watson:     </th> <td>   1.779</td>\n",
       "</tr>\n",
       "<tr>\n",
       "  <th>Prob(Omnibus):</th> <td> 0.000</td>  <th>  Jarque-Bera (JB):  </th> <td>2159.659</td>\n",
       "</tr>\n",
       "<tr>\n",
       "  <th>Skew:</th>          <td>-2.447</td>  <th>  Prob(JB):          </th> <td>    0.00</td>\n",
       "</tr>\n",
       "<tr>\n",
       "  <th>Kurtosis:</th>      <td>10.078</td>  <th>  Cond. No.          </th> <td>2.51e+16</td>\n",
       "</tr>\n",
       "</table>"
      ],
      "text/plain": [
       "<class 'statsmodels.iolib.summary.Summary'>\n",
       "\"\"\"\n",
       "                            OLS Regression Results                            \n",
       "==============================================================================\n",
       "Dep. Variable:                      y   R-squared:                      -7.153\n",
       "Model:                            OLS   Adj. R-squared:                 -7.224\n",
       "Method:                 Least Squares   F-statistic:                    -101.3\n",
       "Date:                Wed, 31 Jan 2018   Prob (F-statistic):               1.00\n",
       "Time:                        17:12:18   Log-Likelihood:                -1011.1\n",
       "No. Observations:                 700   AIC:                             2036.\n",
       "Df Residuals:                     693   BIC:                             2068.\n",
       "Df Model:                           6                                         \n",
       "Covariance Type:            nonrobust                                         \n",
       "==============================================================================\n",
       "                 coef    std err          t      P>|t|      [0.025      0.975]\n",
       "------------------------------------------------------------------------------\n",
       "x0            -0.0028      0.000    -26.852      0.000      -0.003      -0.003\n",
       "x1            -0.0202      0.001    -26.867      0.000      -0.022      -0.019\n",
       "x2            -0.1041      0.004    -26.912      0.000      -0.112      -0.097\n",
       "x3             0.0102      0.000     21.468      0.000       0.009       0.011\n",
       "x4            -0.0004   2.29e-05    -18.373      0.000      -0.000      -0.000\n",
       "x5          9.037e-06   5.54e-07     16.305      0.000    7.95e-06    1.01e-05\n",
       "x6         -1.063e-07   7.19e-09    -14.797      0.000    -1.2e-07   -9.22e-08\n",
       "x7          6.499e-10   4.77e-11     13.633      0.000    5.56e-10    7.43e-10\n",
       "x8         -1.614e-12   1.27e-13    -12.699      0.000   -1.86e-12   -1.36e-12\n",
       "==============================================================================\n",
       "Omnibus:                      374.834   Durbin-Watson:                   1.779\n",
       "Prob(Omnibus):                  0.000   Jarque-Bera (JB):             2159.659\n",
       "Skew:                          -2.447   Prob(JB):                         0.00\n",
       "Kurtosis:                      10.078   Cond. No.                     2.51e+16\n",
       "==============================================================================\n",
       "\n",
       "Warnings:\n",
       "[1] Standard Errors assume that the covariance matrix of the errors is correctly specified.\n",
       "[2] The condition number is large, 2.51e+16. This might indicate that there are\n",
       "strong multicollinearity or other numerical problems.\n",
       "\"\"\""
      ]
     },
     "execution_count": 37,
     "metadata": {},
     "output_type": "execute_result"
    }
   ],
   "source": [
    "fit3.summary()"
   ]
  },
  {
   "cell_type": "markdown",
   "metadata": {},
   "source": [
    "### Challenge 4"
   ]
  },
  {
   "cell_type": "code",
   "execution_count": null,
   "metadata": {
    "collapsed": true
   },
   "outputs": [],
   "source": [
    "##### Challenge 4\n",
    "'''\n",
    "For the data from two (above), fit a model to only the first 5 of your data points (m=5). Then to first 10 (m=10). \n",
    "Then to first 15 (m=15). In this manner, keep fitting until you fit your entire training set. \n",
    "For each step, calculate the training error and the test error. Plot both (in the same plot) over m. \n",
    "This is called a learning curve.\n",
    "'''\n"
   ]
  },
  {
   "cell_type": "code",
   "execution_count": 73,
   "metadata": {},
   "outputs": [],
   "source": [
    "#Create a function that will input different number of data points\n",
    "\n",
    "def graphCurve(df,m):\n",
    "    df1 = df[:m]\n",
    "    model = sm.OLS(df1.y1,df1.drop(['y1'],1))\n",
    "    fit = model.fit()\n",
    "    X_train, X_test, y_train, y_test = train_test_split(df1.drop(['y1'],1),df1.y1,test_size = .3)\n",
    "    y_pred_train = fit.predict(X_train)\n",
    "    train_error = mean_squared_error(y_train,y_pred_train)\n",
    "    y_pred_test = fit.predict(X_test)\n",
    "    test_error = mean_squared_error(y_test,y_pred_test)\n",
    "    return train_error,test_error"
   ]
  },
  {
   "cell_type": "code",
   "execution_count": 74,
   "metadata": {},
   "outputs": [],
   "source": [
    "train = []\n",
    "test = []\n",
    "m = range(5,120,5)\n",
    "for i in range(5,120,5):\n",
    "    error_list = [graphCurve(df2, i) for i in m]\n",
    "for i in error_list:\n",
    "    train.append(i[0])\n",
    "    test.append(i[1])\n",
    "    "
   ]
  },
  {
   "cell_type": "code",
   "execution_count": 75,
   "metadata": {},
   "outputs": [
    {
     "data": {
      "text/plain": [
       "[0.1854919346336244,\n",
       " 3.1514157599814081,\n",
       " 2.6062799634585434,\n",
       " 1.1972679327688336,\n",
       " 3.9020116148824564,\n",
       " 1.9378844880699246,\n",
       " 0.6253348753861746,\n",
       " 1.6897214768206565,\n",
       " 3.5105115607767172,\n",
       " 1.5455237574259075,\n",
       " 1.9845837039208201,\n",
       " 1.2488187842704721,\n",
       " 2.5529848701587659,\n",
       " 2.8233868927240358,\n",
       " 2.8628722159934092,\n",
       " 1.6959464130547388,\n",
       " 1.5302442433821111,\n",
       " 1.5486171443356167,\n",
       " 3.3055806185423289,\n",
       " 2.3537074779510965,\n",
       " 2.2873196295443563,\n",
       " 3.0474393815659315,\n",
       " 2.9452038125701541]"
      ]
     },
     "execution_count": 75,
     "metadata": {},
     "output_type": "execute_result"
    }
   ],
   "source": [
    "test"
   ]
  },
  {
   "cell_type": "code",
   "execution_count": 76,
   "metadata": {},
   "outputs": [
    {
     "data": {
      "text/plain": [
       "[<matplotlib.lines.Line2D at 0x7fbade4d7588>]"
      ]
     },
     "execution_count": 76,
     "metadata": {},
     "output_type": "execute_result"
    },
    {
     "data": {
      "image/png": "[encoded data removed]",
      "text/plain": [
       "<matplotlib.figure.Figure at 0x7fbade4d7668>"
      ]
     },
     "metadata": {},
     "output_type": "display_data"
    }
   ],
   "source": [
    "plt.plot(m,train,'r--')\n",
    "plt.plot(m,test,'b--')"
   ]
  },
  {
   "cell_type": "code",
   "execution_count": 77,
   "metadata": {},
   "outputs": [
    {
     "data": {
      "text/plain": [
       "(1000, 3)"
      ]
     },
     "execution_count": 77,
     "metadata": {},
     "output_type": "execute_result"
    }
   ],
   "source": [
    "df2.shape"
   ]
  },
  {
   "cell_type": "code",
   "execution_count": 83,
   "metadata": {},
   "outputs": [
    {
     "ename": "NameError",
     "evalue": "name 'df4' is not defined",
     "output_type": "error",
     "traceback": [
      "\u001b[0;31m---------------------------------------------------------------------------\u001b[0m",
      "\u001b[0;31mNameError\u001b[0m                                 Traceback (most recent call last)",
      "\u001b[0;32m<ipython-input-83-0e949ec26706>\u001b[0m in \u001b[0;36m<module>\u001b[0;34m()\u001b[0m\n\u001b[0;32m----> 1\u001b[0;31m \u001b[0mmodel4_5\u001b[0m \u001b[0;34m=\u001b[0m \u001b[0msm\u001b[0m\u001b[0;34m.\u001b[0m\u001b[0mOLS\u001b[0m\u001b[0;34m(\u001b[0m\u001b[0mdf4\u001b[0m\u001b[0;34m.\u001b[0m\u001b[0my1\u001b[0m\u001b[0;34m,\u001b[0m\u001b[0mdf4\u001b[0m\u001b[0;34m[\u001b[0m\u001b[0;34m[\u001b[0m\u001b[0;34m'x1'\u001b[0m\u001b[0;34m,\u001b[0m\u001b[0;34m'x2'\u001b[0m\u001b[0;34m]\u001b[0m\u001b[0;34m]\u001b[0m\u001b[0;34m)\u001b[0m\u001b[0;34m\u001b[0m\u001b[0m\n\u001b[0m",
      "\u001b[0;31mNameError\u001b[0m: name 'df4' is not defined"
     ]
    }
   ],
   "source": [
    "model4_5 = sm.OLS(df4.y1,df4[['x1','x2']])"
   ]
  },
  {
   "cell_type": "markdown",
   "metadata": {},
   "source": [
    "**CS: Things stop working at this point. Looks like maybe you ran out of time? I like that you separated functionality into functions instead of just inlining everything."
   ]
  },
  {
   "cell_type": "code",
   "execution_count": 84,
   "metadata": {},
   "outputs": [],
   "source": [
    "fit4_5 = model4_5.fit()"
   ]
  },
  {
   "cell_type": "code",
   "execution_count": 82,
   "metadata": {},
   "outputs": [
    {
     "ename": "NameError",
     "evalue": "name 'df4' is not defined",
     "output_type": "error",
     "traceback": [
      "\u001b[0;31m---------------------------------------------------------------------------\u001b[0m",
      "\u001b[0;31mNameError\u001b[0m                                 Traceback (most recent call last)",
      "\u001b[0;32m<ipython-input-82-7ecb8705d06d>\u001b[0m in \u001b[0;36m<module>\u001b[0;34m()\u001b[0m\n\u001b[0;32m----> 1\u001b[0;31m \u001b[0mX_train\u001b[0m\u001b[0;34m,\u001b[0m \u001b[0mX_test\u001b[0m\u001b[0;34m,\u001b[0m \u001b[0my_train\u001b[0m\u001b[0;34m,\u001b[0m \u001b[0my_test\u001b[0m \u001b[0;34m=\u001b[0m \u001b[0mtrain_test_split\u001b[0m\u001b[0;34m(\u001b[0m\u001b[0mdf4\u001b[0m\u001b[0;34m[\u001b[0m\u001b[0;34m[\u001b[0m\u001b[0;34m'x1'\u001b[0m\u001b[0;34m,\u001b[0m\u001b[0;34m'x2'\u001b[0m\u001b[0;34m]\u001b[0m\u001b[0;34m]\u001b[0m\u001b[0;34m,\u001b[0m\u001b[0mdf4\u001b[0m\u001b[0;34m.\u001b[0m\u001b[0my1\u001b[0m\u001b[0;34m,\u001b[0m\u001b[0mtest_size\u001b[0m \u001b[0;34m=\u001b[0m \u001b[0;36m.3\u001b[0m\u001b[0;34m)\u001b[0m\u001b[0;34m\u001b[0m\u001b[0m\n\u001b[0m",
      "\u001b[0;31mNameError\u001b[0m: name 'df4' is not defined"
     ]
    }
   ],
   "source": [
    "X_train, X_test, y_train, y_test = train_test_split(df4[['x1','x2']],df4.y1,test_size = .3)"
   ]
  },
  {
   "cell_type": "code",
   "execution_count": 262,
   "metadata": {
    "collapsed": true
   },
   "outputs": [],
   "source": [
    "y_pred_train = fit4_5.predict(X_train)"
   ]
  },
  {
   "cell_type": "code",
   "execution_count": 263,
   "metadata": {
    "collapsed": true
   },
   "outputs": [],
   "source": [
    "train_error = mean_squared_error(y_train,y_pred_train)"
   ]
  },
  {
   "cell_type": "code",
   "execution_count": 269,
   "metadata": {},
   "outputs": [
    {
     "data": {
      "text/plain": [
       "1   -3.962765\n",
       "2   -4.287273\n",
       "0   -4.786959\n",
       "Name: y1, dtype: float64"
      ]
     },
     "execution_count": 269,
     "metadata": {},
     "output_type": "execute_result"
    }
   ],
   "source": []
  },
  {
   "cell_type": "code",
   "execution_count": 268,
   "metadata": {},
   "outputs": [
    {
     "data": {
      "text/plain": [
       "1.7352143838655631"
      ]
     },
     "execution_count": 268,
     "metadata": {},
     "output_type": "execute_result"
    }
   ],
   "source": [
    "train_error"
   ]
  },
  {
   "cell_type": "code",
   "execution_count": 265,
   "metadata": {
    "collapsed": true
   },
   "outputs": [],
   "source": [
    "y_pred_test = fit4_5.predict(X_test)"
   ]
  },
  {
   "cell_type": "code",
   "execution_count": 266,
   "metadata": {
    "collapsed": true
   },
   "outputs": [],
   "source": [
    "test_error = mean_squared_error(y_test,y_pred_test)"
   ]
  },
  {
   "cell_type": "code",
   "execution_count": 267,
   "metadata": {},
   "outputs": [
    {
     "data": {
      "text/plain": [
       "[<matplotlib.lines.Line2D at 0x1c1cad4710>]"
      ]
     },
     "execution_count": 267,
     "metadata": {},
     "output_type": "execute_result"
    },
    {
     "data": {
      "image/png": "[encoded data removed]",
      "text/plain": [
       "<matplotlib.figure.Figure at 0x1c1ca97d30>"
      ]
     },
     "metadata": {},
     "output_type": "display_data"
    }
   ],
   "source": [
    "plt.plot(m,train_error,'b.')"
   ]
  },
  {
   "cell_type": "code",
   "execution_count": null,
   "metadata": {
    "collapsed": true
   },
   "outputs": [],
   "source": []
  }
 ],
 "metadata": {
  "kernelspec": {
   "display_name": "Python 3",
   "language": "python",
   "name": "python3"
  },
  "language_info": {
   "codemirror_mode": {
    "name": "ipython",
    "version": 3
   },
   "file_extension": ".py",
   "mimetype": "text/x-python",
   "name": "python",
   "nbconvert_exporter": "python",
   "pygments_lexer": "ipython3",
   "version": "3.6.3"
  }
 },
 "nbformat": 4,
 "nbformat_minor": 2
}
